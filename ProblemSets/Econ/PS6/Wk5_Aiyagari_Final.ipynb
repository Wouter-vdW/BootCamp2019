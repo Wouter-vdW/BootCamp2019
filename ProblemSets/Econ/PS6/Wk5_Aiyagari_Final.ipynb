{
 "cells": [
  {
   "cell_type": "code",
   "execution_count": 1,
   "metadata": {},
   "outputs": [],
   "source": [
    "import numpy as np\n",
    "import matplotlib.pyplot as plt"
   ]
  },
  {
   "cell_type": "code",
   "execution_count": 2,
   "metadata": {},
   "outputs": [],
   "source": [
    "from numba import njit\n",
    "from quantecon import optimize as opti\n",
    "from scipy.optimize import fsolve\n",
    "from math import log"
   ]
  },
  {
   "cell_type": "markdown",
   "metadata": {},
   "source": [
    "**SETUP**"
   ]
  },
  {
   "cell_type": "code",
   "execution_count": 3,
   "metadata": {},
   "outputs": [],
   "source": [
    "β = 0.96\n",
    "δ = 0.06\n",
    "α = 0.36\n",
    "\n",
    "params = β, δ, α\n",
    "\n",
    "pi_ee = 0.9\n",
    "mu_u_star = 0.10"
   ]
  },
  {
   "cell_type": "code",
   "execution_count": 4,
   "metadata": {},
   "outputs": [],
   "source": [
    "nk = 400\n",
    "k_low = 0.001 \n",
    "k_high = 40\n",
    "k_grid = np.linspace(k_low, k_high, nk)"
   ]
  },
  {
   "cell_type": "markdown",
   "metadata": {},
   "source": [
    "**STATIONARY DISTRIBUTION**"
   ]
  },
  {
   "cell_type": "code",
   "execution_count": 5,
   "metadata": {},
   "outputs": [],
   "source": [
    "#@njit\n",
    "def error_statdistr(a):\n",
    "\n",
    "    pi_ee = 0.9\n",
    "    MC = [[pi_ee, 1-pi_ee],[a, 1-a]]\n",
    "    #print(MC)\n",
    "    \n",
    "    t = 500    \n",
    "    x_stat = [0.95, 0.05] #np.ones(2)*0.5\n",
    "    x_vals = np.zeros((t,len(x_stat)))\n",
    "\n",
    "    for ii in range(t):            \n",
    "        for jj in range(2):\n",
    "            x_vals[ii,jj] = x_stat[jj]\n",
    "\n",
    "        x_stat = np.dot(x_stat,MC)\n",
    "\n",
    "    #print(x_vals[-5:-1,:])       \n",
    "    #print(x_stat)\n",
    "    #print(\"the sum is:\", np.sum(x_stat[:]))\n",
    "    \n",
    "    diff = x_stat[1] - 0.10\n",
    "    \n",
    "    return diff"
   ]
  },
  {
   "cell_type": "code",
   "execution_count": 6,
   "metadata": {},
   "outputs": [],
   "source": [
    "ak = 1000\n",
    "a_grid = np.linspace(0, 1, ak)\n",
    "diffs = np.zeros(ak)\n",
    "for aa in range(ak):\n",
    "    diffs[aa] = error_statdistr(a_grid[aa])"
   ]
  },
  {
   "cell_type": "code",
   "execution_count": 7,
   "metadata": {},
   "outputs": [],
   "source": [
    "#print(diffs)"
   ]
  },
  {
   "cell_type": "code",
   "execution_count": 8,
   "metadata": {},
   "outputs": [],
   "source": [
    "@njit\n",
    "def closest_gridpt(grid, point_in):\n",
    "    pt_index  = np.argmin((point_in-grid)**2)\n",
    "    \n",
    "    return pt_index"
   ]
  },
  {
   "cell_type": "code",
   "execution_count": 9,
   "metadata": {},
   "outputs": [
    {
     "name": "stdout",
     "output_type": "stream",
     "text": [
      "899\n",
      "0.8998998998998999\n"
     ]
    }
   ],
   "source": [
    "ida = closest_gridpt(diffs, 0)\n",
    "print(ida)\n",
    "print(a_grid[ida])\n",
    "pi_ue = round(a_grid[ida],2)"
   ]
  },
  {
   "cell_type": "code",
   "execution_count": 10,
   "metadata": {},
   "outputs": [
    {
     "name": "stdout",
     "output_type": "stream",
     "text": [
      "[[0.9 0.1]\n",
      " [0.9 0.1]]\n"
     ]
    }
   ],
   "source": [
    "MC = np.array([[pi_ee, 1-pi_ee],[pi_ue, 1-pi_ue]])\n",
    "print(MC)"
   ]
  },
  {
   "cell_type": "markdown",
   "metadata": {},
   "source": [
    "**VFI**"
   ]
  },
  {
   "cell_type": "code",
   "execution_count": 11,
   "metadata": {},
   "outputs": [],
   "source": [
    "@njit\n",
    "def get_r(k_bar, u, params):\n",
    "    β, δ, α = params\n",
    "    \n",
    "    r = α*(k_bar**(α-1))*(1-u)**(1-α)\n",
    "    \n",
    "    return r"
   ]
  },
  {
   "cell_type": "code",
   "execution_count": 12,
   "metadata": {},
   "outputs": [],
   "source": [
    "@njit\n",
    "def get_w(k_bar, u, params):\n",
    "    β, δ, α = params\n",
    "    \n",
    "    w = (1-α)*(k_bar**α)*(1-u)**(-α)\n",
    "    \n",
    "    return w"
   ]
  },
  {
   "cell_type": "code",
   "execution_count": 13,
   "metadata": {},
   "outputs": [
    {
     "name": "stdout",
     "output_type": "stream",
     "text": [
      "7.211176392599507\n",
      "0.09503723459520197\n",
      "1.3537387901844178\n"
     ]
    }
   ],
   "source": [
    "#guess k_bar at steady state\n",
    "k_bar = ((α*β)/(1-β*(1-δ)))**(1/(1-α))\n",
    "print(k_bar)\n",
    "\n",
    "r_bar = get_r(k_bar, mu_u_star, params)\n",
    "w_bar = get_w(k_bar, mu_u_star, params)\n",
    "print(r_bar)\n",
    "print(w_bar)"
   ]
  },
  {
   "cell_type": "code",
   "execution_count": 14,
   "metadata": {},
   "outputs": [],
   "source": [
    "@njit\n",
    "def VFI_solver(k_grid, params, r, w, MC):\n",
    "    eps = 0.0001\n",
    "    max_iter = 1000\n",
    "\n",
    "    β, δ, α = params\n",
    "    \n",
    "    V = np.zeros((len(k_grid),2))\n",
    "    pol = np.zeros_like(V)\n",
    "    \n",
    "    crit = 1\n",
    "    itr = 0\n",
    "    \n",
    "    while crit > eps and itr < max_iter:\n",
    "        #print('Iteration: ', itr)\n",
    "        V_new = np.zeros_like(V)\n",
    "        epsilon = np.array([1,0])\n",
    "        \n",
    "        for ii,k in enumerate(k_grid):\n",
    "            for ee,epsil in enumerate(epsilon):\n",
    "                max_V = -999\n",
    "                idx = 0\n",
    "\n",
    "                for jj,kp in enumerate(k_grid): \n",
    "                    if (r*k + w*epsil + (1-δ)*k - kp) <= 0:\n",
    "                        find_V = -99999999\n",
    "\n",
    "                        if find_V > max_V:\n",
    "                            max_V = find_V\n",
    "                            idx = jj\n",
    "                    else:\n",
    "                        EV = np.dot(V[jj,:],MC[ee,:])\n",
    "                        find_V = log(r*k + w*epsil + (1-δ)*k - kp) + β*EV\n",
    "\n",
    "                        if find_V > max_V or ii == 0:\n",
    "                            max_V = find_V\n",
    "                            idx = jj\n",
    "                \n",
    "                V_new[ii,ee] = max_V\n",
    "                pol[ii,ee] = k_grid[idx]\n",
    "        \n",
    "        crit = np.max(np.abs(V - V_new))\n",
    "        \n",
    "        V = V_new.copy()\n",
    "        itr += 1\n",
    "    \n",
    "    print(\"the V difference is:\", crit)\n",
    "    \n",
    "    return V, pol"
   ]
  },
  {
   "cell_type": "code",
   "execution_count": 15,
   "metadata": {},
   "outputs": [
    {
     "name": "stdout",
     "output_type": "stream",
     "text": [
      "the V difference is: 9.662967828560909e-05\n"
     ]
    }
   ],
   "source": [
    "V, pol = VFI_solver(k_grid, params, r_bar, w_bar, MC)\n",
    "#print(V)"
   ]
  },
  {
   "cell_type": "code",
   "execution_count": 16,
   "metadata": {},
   "outputs": [
    {
     "data": {
      "image/png": "[encoded data removed]",
      "text/plain": [
       "<Figure size 432x288 with 1 Axes>"
      ]
     },
     "metadata": {
      "needs_background": "light"
     },
     "output_type": "display_data"
    }
   ],
   "source": [
    "degree = np.zeros(nk)\n",
    "for ii in range(nk):\n",
    "    degree[ii] = k_grid[ii]\n",
    "\n",
    "plt.plot(k_grid, pol[:,0], k_grid, pol[:,1])\n",
    "plt.plot(k_grid, degree, 'g--')\n",
    "#plt.plot( k_grid[0:30], pol[0:30,0], k_grid[0:30], pol[0:30,1], k_grid[0:30], degree[0:30])\n",
    "plt.title('Policy Functions')\n",
    "plt.xlabel('$k$')\n",
    "plt.ylabel('$g(k,\\epsilon)$')\n",
    "plt.legend(('$\\epsilon=1$', '$\\epsilon=0$'))\n",
    "plt.show()"
   ]
  },
  {
   "cell_type": "markdown",
   "metadata": {},
   "source": [
    "**SIMULATION OVER TIME**"
   ]
  },
  {
   "cell_type": "code",
   "execution_count": 17,
   "metadata": {},
   "outputs": [],
   "source": [
    "#closept = np.zeros_like(pol)\n",
    "#for ee in range(2):\n",
    "#    for jj in range(nk):\n",
    "#        closept[jj,ee] = closest_gridpt(k_grid, pol[jj,ee])"
   ]
  },
  {
   "cell_type": "code",
   "execution_count": 18,
   "metadata": {},
   "outputs": [],
   "source": [
    "@njit\n",
    "def MC_simulation(k_grid, pol, k_bar):\n",
    "\n",
    "    max_iter = 10000\n",
    "    np.random.seed(10)\n",
    "    \n",
    "    MC_sim = np.zeros((max_iter,2))\n",
    "    k_Id = np.zeros(max_iter)\n",
    "    \n",
    "    #status = np.array([1,0])\n",
    "    e_draws = np.random.rand(max_iter)\n",
    "    status = np.zeros(max_iter)\n",
    "    \n",
    "    for itr in range(max_iter):\n",
    "        if e_draws[itr] <= 0.9:\n",
    "            status[itr] = 1\n",
    "        \n",
    "        if itr == 0:\n",
    "            MC_sim[itr,0] = np.random.choice(k_grid)\n",
    "            MC_sim[itr,1] = status[itr]\n",
    "            k_Id[itr] = closest_gridpt(k_grid, MC_sim[0,0])\n",
    "            \n",
    "        else:\n",
    "            if MC_sim[itr-1,1] == 1:\n",
    "                MC_sim[itr,0] = pol[int(k_Id[itr-1]),0]\n",
    "            else:\n",
    "                MC_sim[itr,0] = pol[int(k_Id[itr-1]),1]\n",
    "            \n",
    "            MC_sim[itr,1] = status[itr]\n",
    "            \n",
    "            k_Id[itr] = closest_gridpt(k_grid, MC_sim[itr,0])\n",
    "                \n",
    "    \n",
    "    k_bar_sim = np.mean(MC_sim[:,0])\n",
    "    \n",
    "    crit = k_bar_sim - k_bar\n",
    "    \n",
    "    return crit #, MC_sim"
   ]
  },
  {
   "cell_type": "code",
   "execution_count": 19,
   "metadata": {},
   "outputs": [],
   "source": [
    "#crit, MC_sim = MC_simulation(k_grid, pol, k_bar)\n",
    "#print(crit)\n",
    "#print(MC_sim)"
   ]
  },
  {
   "cell_type": "markdown",
   "metadata": {},
   "source": [
    "**ITERATE SIMULATIONS TO GET K TO CONVERGE**"
   ]
  },
  {
   "cell_type": "code",
   "execution_count": 20,
   "metadata": {},
   "outputs": [],
   "source": [
    "@njit\n",
    "def MC_iteration(k, k_grid, mu_u_star, params, MC):\n",
    "    eps = 0.0001\n",
    "    max_iter = 10000\n",
    "    \n",
    "    crit = 1\n",
    "    itr = 0\n",
    "    np.random.seed(10)\n",
    "    \n",
    "    r = get_r(k, mu_u_star, params)\n",
    "    w = get_w(k, mu_u_star, params)\n",
    "    \n",
    "    V, pol = VFI_solver(k_grid, params, r, w, MC)\n",
    "    \n",
    "    objective = MC_simulation(k_grid, pol, k)\n",
    "    print(\"The objective is:\", objective)\n",
    "        \n",
    "    return objective"
   ]
  },
  {
   "cell_type": "code",
   "execution_count": 21,
   "metadata": {},
   "outputs": [],
   "source": [
    "@njit\n",
    "def run_fun(k):\n",
    "    nk = 200\n",
    "    k_low = 0.001 \n",
    "    k_high = 40\n",
    "    k_grid = np.linspace(k_low, k_high, nk)\n",
    "    mu_u_star = 0.10\n",
    "    MC = np.array([[0.9, 0.1],[0.9, 0.1]])\n",
    "    \n",
    "    params = β, δ, α\n",
    "    \n",
    "    fun_res = MC_iteration(k, k_grid, mu_u_star, params, MC)\n",
    "    \n",
    "    return fun_res"
   ]
  },
  {
   "cell_type": "code",
   "execution_count": 22,
   "metadata": {},
   "outputs": [
    {
     "name": "stdout",
     "output_type": "stream",
     "text": [
      "the V difference is: 9.994570624982657e-05\n",
      "The objective is: -4.761872810238906\n",
      "the V difference is: 9.993850701306428e-05\n",
      "The objective is: -4.761051692599647\n",
      "the V difference is: 9.793303734539904e-05\n",
      "The objective is: 37.500951900005205\n",
      "the V difference is: 9.777678278055646e-05\n",
      "The objective is: -2.704529521412502\n",
      "the V difference is: 9.749338539322139e-05\n",
      "The objective is: 32.45516574982493\n",
      "the V difference is: 9.907925459984313e-05\n",
      "The objective is: -2.51648282047496\n",
      "the V difference is: 9.584074702218004e-05\n",
      "The objective is: -2.1553235644916695\n",
      "the V difference is: 9.704900384122084e-05\n",
      "The objective is: 31.841243314585494\n",
      "the V difference is: 9.621800910508682e-05\n",
      "The objective is: -1.981693437895264\n",
      "the V difference is: 9.65407014987818e-05\n",
      "The objective is: -1.7875163798978067\n",
      "the V difference is: 9.937130126047578e-05\n",
      "The objective is: 8.621131613265081\n",
      "the V difference is: 9.704385413300542e-05\n",
      "The objective is: -1.4264357616628267\n",
      "the V difference is: 9.738405542591977e-05\n",
      "The objective is: -1.0586477327673416\n",
      "the V difference is: 9.834399409314187e-05\n",
      "The objective is: 1.017406085369566\n",
      "the V difference is: 9.78767996961949e-05\n",
      "The objective is: -0.31754770974712887\n",
      "the V difference is: 9.798853789533268e-05\n",
      "The objective is: -0.12274439249164093\n",
      "the V difference is: 9.80587148760037e-05\n",
      "The objective is: 0.05693726833554802\n",
      "the V difference is: 9.803649988882057e-05\n",
      "The objective is: 0.05648896094271638\n",
      "the V difference is: 9.938022732924878e-05\n",
      "The objective is: -2.341670099999562\n",
      "the V difference is: 9.797043307457898e-05\n",
      "The objective is: -0.12310854416933292\n",
      "the V difference is: 9.812218751648061e-05\n",
      "The objective is: 0.2485661070031\n",
      "the V difference is: 9.802079591736401e-05\n",
      "The objective is: 0.05617215814257026\n",
      "the V difference is: 9.799112222808049e-05\n",
      "The objective is: -0.12269237777884712\n",
      "the V difference is: 9.801148690158357e-05\n",
      "The objective is: 0.055984471414328496\n",
      "the V difference is: 9.800510818180896e-05\n",
      "The objective is: 0.05585602282657831\n",
      "the V difference is: 9.938022732924878e-05\n",
      "The objective is: -2.341670099999562\n",
      "the V difference is: 9.794040506960755e-05\n",
      "The objective is: -0.1237121748960659\n",
      "the V difference is: 9.809142206407273e-05\n",
      "The objective is: 0.24794465193997173\n",
      "the V difference is: 9.799077900041198e-05\n",
      "The objective is: -0.12269928593545298\n",
      "the V difference is: 9.802414178139429e-05\n",
      "The objective is: 0.05623964501397172\n",
      "the V difference is: 9.801366777750786e-05\n",
      "The objective is: 0.05602842891980142\n",
      "the V difference is: 9.938022732924878e-05\n",
      "The objective is: -2.341670099999562\n",
      "the V difference is: 9.794858599221357e-05\n",
      "The objective is: -0.12354772026518468\n",
      "the V difference is: 9.80998058963678e-05\n",
      "The objective is: 0.24811399619923513\n",
      "the V difference is: 9.799896288953391e-05\n",
      "The objective is: 0.0557323343294831\n",
      "the V difference is: 9.79696641927319e-05\n",
      "The objective is: -0.12312400051721362\n",
      "the V difference is: 9.79898374815491e-05\n",
      "The objective is: -0.12271823587625441\n",
      "the V difference is: 9.656757893594659e-05\n",
      "The objective is: 31.893192599997047\n",
      "the V difference is: 9.801320235425237e-05\n",
      "The objective is: 0.05601904791079004\n",
      "the V difference is: 9.80025208470181e-05\n",
      "The objective is: 0.05580394689775847\n",
      "the V difference is: 9.938022732924878e-05\n",
      "The objective is: -2.341670099999562\n",
      "the V difference is: 9.793793350709734e-05\n",
      "The objective is: -0.1237618537059868\n",
      "the V difference is: 9.808888919593528e-05\n",
      "The objective is: 0.247893491121582\n",
      "the V difference is: 9.798830654972335e-05\n",
      "The objective is: -0.12274904747261495\n",
      "the V difference is: 9.802166536942991e-05\n",
      "The objective is: 0.05618969514906791\n",
      "the V difference is: 9.801120183183798e-05\n",
      "The objective is: 0.055978725564709286\n",
      "the V difference is: 9.938022732924878e-05\n",
      "The objective is: -2.341670099999562\n",
      "the V difference is: 9.794622769021544e-05\n",
      "The objective is: -0.1235951288483168\n",
      "the V difference is: 9.80973891380188e-05\n",
      "The objective is: 0.24806518062195693\n",
      "the V difference is: 9.799660373133179e-05\n",
      "The objective is: 0.0556848504640044\n",
      "the V difference is: 9.796734604705648e-05\n",
      "The objective is: -0.12317060079534503\n",
      "the V difference is: 9.798749934475381e-05\n",
      "The objective is: -0.12276528906553619\n",
      "the V difference is: 9.656757893594659e-05\n",
      "The objective is: 31.893192599997047\n",
      "the V difference is: 9.801088575756012e-05\n",
      "The objective is: 0.05597235481224061\n",
      "the V difference is: 9.80002058206253e-05\n",
      "The objective is: 0.05575735131563864\n",
      "the V difference is: 9.938022732924878e-05\n",
      "The objective is: -2.341670099999562\n",
      "the V difference is: 9.793572193217415e-05\n",
      "The objective is: -0.1238063062657595\n",
      "the V difference is: 9.808662269961133e-05\n",
      "The objective is: 0.24784771051885102\n",
      "the V difference is: 9.798609352529297e-05\n",
      "The objective is: -0.1227935750350353\n",
      "the V difference is: 9.801944938914176e-05\n",
      "The objective is: 0.05614499843894549\n",
      "the V difference is: 9.800899482925729e-05\n",
      "The objective is: 0.05593424954633974\n",
      "the V difference is: 9.938022732924878e-05\n",
      "The objective is: -2.341670099999562\n",
      "the V difference is: 9.794411731078867e-05\n",
      "The objective is: -0.12363755310388846\n",
      "the V difference is: 9.809522639514512e-05\n",
      "The objective is: 0.24802149552812125\n",
      "the V difference is: 9.79944925916243e-05\n",
      "The objective is: 0.055642357952393695\n",
      "the V difference is: 9.796527151095802e-05\n",
      "The objective is: -0.12321230290162077\n",
      "the V difference is: 9.798540657612875e-05\n",
      "The objective is: -0.12280739666011975\n",
      "the V difference is: 9.656757893594659e-05\n",
      "The objective is: 31.893192599997047\n",
      "the V difference is: 9.800881199595324e-05\n",
      "The objective is: 0.05593056957688969\n",
      "the V difference is: 9.799813412314506e-05\n",
      "The objective is: 0.05571565346274898\n",
      "the V difference is: 9.938022732924878e-05\n",
      "The objective is: -2.341670099999562\n",
      "the V difference is: 9.793374275446354e-05\n",
      "The objective is: -0.12384608781755357\n",
      "the V difference is: 9.808459430615812e-05\n",
      "The objective is: 0.24780673891678795\n",
      "the V difference is: 9.798411291228604e-05\n",
      "The objective is: -0.12283342449242252\n",
      "the V difference is: 9.801746619331198e-05\n",
      "The objective is: 0.056104997101244614\n",
      "the V difference is: 9.800701720408256e-05\n",
      "The objective is: 0.05589444580216352\n",
      "the V difference is: 9.938022732924878e-05\n",
      "The objective is: -2.341670099999562\n",
      "the V difference is: 9.794222846437606e-05\n",
      "The objective is: -0.1236755219607506\n",
      "the V difference is: 9.809329072751893e-05\n",
      "The objective is: 0.24798239682921608\n",
      "the V difference is: 9.799260307019608e-05\n",
      "The objective is: -0.12266257270344472\n",
      "the V difference is: 9.802596879637804e-05\n",
      "The objective is: 0.05627649671588486\n",
      "the V difference is: 9.801548710441921e-05\n",
      "The objective is: 0.0560650988344813\n",
      "the V difference is: 9.938022732924878e-05\n",
      "The objective is: -2.341670099999562\n",
      "the V difference is: 9.795032584491992e-05\n",
      "The objective is: -0.12351274463686579\n",
      "the V difference is: 9.81015887724368e-05\n",
      "The objective is: 0.2481500084983086\n",
      "the V difference is: 9.800070332488531e-05\n",
      "The objective is: 0.05576736482594846\n",
      "the V difference is: 9.797137436251546e-05\n",
      "The objective is: -0.12308962210166641\n",
      "the V difference is: 9.799156214640448e-05\n",
      "The objective is: -0.12268352347338407\n",
      "the V difference is: 9.656757893594659e-05\n",
      "The objective is: 31.893192599997047\n",
      "the V difference is: 9.801491138361484e-05\n",
      "The objective is: 0.05605349475301935\n",
      "the V difference is: 9.800422872885406e-05\n",
      "The objective is: 0.055838321886919395\n",
      "the V difference is: 9.938022732924878e-05\n",
      "The objective is: -2.341670099999562\n",
      "the V difference is: 9.793956501269463e-05\n",
      "The objective is: -0.12372906079764334\n",
      "the V difference is: 9.809056115273052e-05\n",
      "The objective is: 0.2479272625586164\n",
      "the V difference is: 9.798993864151839e-05\n",
      "The objective is: -0.12271619982672721\n",
      "the V difference is: 9.802330006536408e-05\n",
      "The objective is: 0.0562226671934658\n",
      "the V difference is: 9.801282960353319e-05\n",
      "The objective is: 0.056011534873101176\n",
      "the V difference is: 9.938022732924878e-05\n",
      "The objective is: -2.341670099999562\n",
      "the V difference is: 9.794778442540064e-05\n",
      "The objective is: -0.12356383410410565\n",
      "the V difference is: 9.80989844663327e-05\n",
      "The objective is: 0.2480974043671429\n",
      "the V difference is: 9.799816103495118e-05\n",
      "The objective is: 0.05571619502015146\n",
      "the V difference is: 9.796887628255035e-05\n",
      "The objective is: -0.12313983946378482\n",
      "the V difference is: 9.798904287805499e-05\n"
     ]
    },
    {
     "name": "stdout",
     "output_type": "stream",
     "text": [
      "The objective is: -0.12273422873833972\n",
      "the V difference is: 9.656757893594659e-05\n",
      "The objective is: 31.893192599997047\n",
      "the V difference is: 9.801241496631974e-05\n",
      "The objective is: 0.05600317742419225\n",
      "the V difference is: 9.800173399199252e-05\n",
      "The objective is: 0.05578810954062341\n",
      "the V difference is: 9.938022732924878e-05\n",
      "The objective is: -2.341670099999562\n",
      "the V difference is: 9.793718182393718e-05\n",
      "The objective is: -0.12377696247811798\n",
      "the V difference is: 9.808811885747559e-05\n",
      "The objective is: 0.2478779311730248\n",
      "the V difference is: 9.798755438339413e-05\n",
      "The objective is: -0.12276418163334402\n",
      "the V difference is: 9.802091219768272e-05\n",
      "The objective is: 0.05617450356450959\n",
      "the V difference is: 9.801045185398038e-05\n",
      "The objective is: 0.05596360897787722\n",
      "the V difference is: 9.938022732924878e-05\n",
      "The objective is: -2.341670099999562\n",
      "the V difference is: 9.794551043285082e-05\n",
      "The objective is: -0.12360954790185907\n",
      "the V difference is: 9.809665407445323e-05\n",
      "The objective is: 0.24805033322521552\n",
      "the V difference is: 9.799588620751365e-05\n",
      "The objective is: 0.05567040830594472\n",
      "the V difference is: 9.796664096839436e-05\n",
      "The objective is: -0.12318477428205199\n",
      "the V difference is: 9.798678808081718e-05\n",
      "The objective is: -0.12277960034808721\n",
      "the V difference is: 9.656757893594659e-05\n",
      "The objective is: 31.893192599997047\n",
      "the V difference is: 9.801018116917248e-05\n",
      "The objective is: 0.05595815307892682\n",
      "the V difference is: 9.799950170119587e-05\n",
      "The objective is: 0.05574317926911121\n",
      "the V difference is: 9.938022732924878e-05\n",
      "The objective is: -2.341670099999562\n",
      "the V difference is: 9.793504926847163e-05\n",
      "The objective is: -0.1238198268547297\n",
      "the V difference is: 9.808593331683824e-05\n",
      "The objective is: 0.2478337856313928\n",
      "the V difference is: 9.798542039263225e-05\n",
      "The objective is: -0.12280711862002391\n",
      "the V difference is: 9.80187753647499e-05\n",
      "The objective is: 0.05613140328793165\n",
      "the V difference is: 9.800832269846182e-05\n",
      "The objective is: 0.05592072154189687\n",
      "the V difference is: 9.938022732924878e-05\n",
      "The objective is: -2.341670099999562\n",
      "the V difference is: 9.79434753602959e-05\n",
      "The objective is: -0.12365045734809588\n",
      "the V difference is: 9.809456853915322e-05\n",
      "The objective is: 0.24800820744154084\n",
      "the V difference is: 9.799385042796871e-05\n",
      "The objective is: -0.122637467218909\n",
      "the V difference is: 9.80272181614339e-05\n",
      "The objective is: 0.05630169665757556\n",
      "the V difference is: 9.80167312079061e-05\n",
      "The objective is: 0.05609017450622655\n",
      "the V difference is: 9.938022732924878e-05\n",
      "The objective is: -2.341670099999562\n",
      "the V difference is: 9.79515155599131e-05\n",
      "The objective is: -0.12348882817025864\n",
      "the V difference is: 9.810280787547754e-05\n",
      "The objective is: 0.2481746331904935\n",
      "the V difference is: 9.800189342001886e-05\n",
      "The objective is: 0.05579131848365204\n",
      "the V difference is: 9.797254377019726e-05\n",
      "The objective is: -0.12306611444439497\n",
      "the V difference is: 9.799274145194659e-05\n",
      "The objective is: -0.1226597875065698\n",
      "the V difference is: 9.656757893594659e-05\n",
      "The objective is: 31.893192599997047\n",
      "the V difference is: 9.801608000614692e-05\n",
      "The objective is: 0.056077049175332405\n",
      "the V difference is: 9.800539656978913e-05\n",
      "The objective is: 0.05586182721961119\n",
      "the V difference is: 9.938022732924878e-05\n",
      "The objective is: -2.341670099999562\n",
      "the V difference is: 9.794068052215721e-05\n",
      "The objective is: -0.12370663782004332\n",
      "the V difference is: 9.809170435914893e-05\n",
      "The objective is: 0.2479503540549981\n",
      "the V difference is: 9.799105455954304e-05\n",
      "The objective is: -0.12269373971030362\n",
      "the V difference is: 9.802441778461457e-05\n",
      "The objective is: 0.056245212183477555\n",
      "the V difference is: 9.801394261899077e-05\n",
      "The objective is: 0.056033968622362984\n",
      "the V difference is: 9.938022732924878e-05\n",
      "The objective is: -2.341670099999562\n",
      "the V difference is: 9.794884883618238e-05\n",
      "The objective is: -0.1235424364488722\n",
      "the V difference is: 9.810007524535536e-05\n",
      "The objective is: 0.24811943669965064\n",
      "the V difference is: 9.799922581876785e-05\n",
      "The objective is: 0.05573762647134206\n",
      "the V difference is: 9.796992255317605e-05\n",
      "The objective is: -0.12311880687440357\n",
      "the V difference is: 9.79900980375703e-05\n",
      "The objective is: -0.12271299176948514\n",
      "the V difference is: 9.656757893594659e-05\n",
      "The objective is: 31.893192599997047\n",
      "the V difference is: 9.801346053706084e-05\n",
      "The objective is: 0.05602425189372795\n",
      "the V difference is: 9.800277885929631e-05\n",
      "The objective is: 0.05580914002087756\n",
      "the V difference is: 9.938022732924878e-05\n",
      "The objective is: -2.341670099999562\n",
      "the V difference is: 9.793817998371424e-05\n",
      "The objective is: -0.12375689953181901\n",
      "the V difference is: 9.808914179032513e-05\n",
      "The objective is: 0.2478985931905795\n",
      "the V difference is: 9.79885531720015e-05\n",
      "The objective is: -0.12274408499675538\n",
      "the V difference is: 9.802191232921587e-05\n",
      "The objective is: 0.05619467643921361\n",
      "the V difference is: 9.801144775067883e-05\n",
      "The objective is: 0.05598368226579176\n",
      "the V difference is: 9.938022732924878e-05\n",
      "The objective is: -2.341670099999562\n",
      "the V difference is: 9.794646287986097e-05\n",
      "The objective is: -0.12359040090670348\n",
      "the V difference is: 9.809763015766748e-05\n",
      "The objective is: 0.24807004897331808\n",
      "the V difference is: 9.799683900979517e-05\n",
      "The objective is: 0.05568958596037632\n",
      "the V difference is: 9.796757723634641e-05\n",
      "The objective is: -0.12316595340186431\n",
      "the V difference is: 9.798773256619597e-05\n",
      "The objective is: -0.12276059649404036\n",
      "the V difference is: 9.656757893594659e-05\n",
      "The objective is: 31.893192599997047\n",
      "the V difference is: 9.801111678697794e-05\n",
      "The objective is: 0.05597701146605605\n",
      "the V difference is: 9.800043669372371e-05\n",
      "The objective is: 0.05576199823810768\n",
      "the V difference is: 9.938022732924878e-05\n",
      "The objective is: -2.341670099999562\n",
      "the V difference is: 9.793594249174475e-05\n",
      "The objective is: -0.12380187298681378\n",
      "the V difference is: 9.808684874457185e-05\n",
      "The objective is: 0.24785227632665663\n",
      "the V difference is: 9.798631424118298e-05\n",
      "The objective is: -0.12278913423452842\n",
      "the V difference is: 9.801967039635429e-05\n",
      "The objective is: 0.056149456135456965\n",
      "the V difference is: 9.800921521474493e-05\n",
      "The objective is: 0.055938685228275276\n",
      "the V difference is: 9.938022732924878e-05\n",
      "The objective is: -2.341670099999562\n",
      "the V difference is: 9.794432780196871e-05\n",
      "The objective is: -0.12363332197768617\n",
      "the V difference is: 9.809544209460341e-05\n",
      "The objective is: 0.2480258524773591\n",
      "the V difference is: 9.799470314320047e-05\n",
      "The objective is: 0.055646595923716013\n",
      "the V difference is: 9.796547841744996e-05\n",
      "The objective is: -0.123208143748184\n",
      "the V difference is: 9.798561530516281e-05\n",
      "The objective is: -0.12280319705763443\n",
      "the V difference is: 9.656757893594659e-05\n",
      "The objective is: 31.893192599997047\n",
      "the V difference is: 9.800901904810644e-05\n",
      "The objective is: 0.05593473702393048\n",
      "the V difference is: 9.79983407418672e-05\n",
      "The objective is: 0.055719812189793494\n",
      "the V difference is: 9.938022732924878e-05\n",
      "The objective is: -2.341670099999562\n",
      "the V difference is: 9.793394015034096e-05\n",
      "The objective is: -0.12384212015029039\n",
      "the V difference is: 9.808479661543856e-05\n",
      "The objective is: 0.2478108253413227\n",
      "the V difference is: 9.798431045737743e-05\n",
      "The objective is: -0.12282945001923729\n",
      "the V difference is: 9.801766399064604e-05\n",
      "The objective is: 0.056108986743896416\n",
      "the V difference is: 9.800721444364058e-05\n",
      "The objective is: 0.055898415733675044\n",
      "the V difference is: 9.938022732924878e-05\n",
      "The objective is: -2.341670099999562\n",
      "the V difference is: 9.79424168541243e-05\n",
      "The objective is: -0.12367173497997097\n",
      "the V difference is: 9.809348379263838e-05\n",
      "The objective is: 0.2479862965595574\n",
      "the V difference is: 9.799279153455132e-05\n",
      "The objective is: -0.12265877952857362\n",
      "the V difference is: 9.802615756626665e-05\n",
      "The objective is: 0.05628030417433649\n",
      "the V difference is: 9.801567507494724e-05\n",
      "The objective is: 0.056068887514912014\n",
      "the V difference is: 9.938022732924878e-05\n",
      "The objective is: -2.341670099999562\n",
      "the V difference is: 9.795050559802121e-05\n",
      "The objective is: -0.1235091310685279\n"
     ]
    },
    {
     "ename": "RuntimeError",
     "evalue": "Failed to converge",
     "output_type": "error",
     "traceback": [
      "\u001b[1;31m---------------------------------------------------------------------------\u001b[0m",
      "\u001b[1;31mRuntimeError\u001b[0m                              Traceback (most recent call last)",
      "\u001b[1;32m<ipython-input-22-6cf82d45ab9c>\u001b[0m in \u001b[0;36m<module>\u001b[1;34m\u001b[0m\n\u001b[0;32m      1\u001b[0m \u001b[1;31m#fun = lambda k: MC_iteration(k, k_grid, mu_u_star, params, MC)\u001b[0m\u001b[1;33m\u001b[0m\u001b[1;33m\u001b[0m\u001b[1;33m\u001b[0m\u001b[0m\n\u001b[1;32m----> 2\u001b[1;33m \u001b[0mk_star\u001b[0m \u001b[1;33m=\u001b[0m \u001b[0mopti\u001b[0m\u001b[1;33m.\u001b[0m\u001b[0mroot_finding\u001b[0m\u001b[1;33m.\u001b[0m\u001b[0mnewton_secant\u001b[0m\u001b[1;33m(\u001b[0m\u001b[0mrun_fun\u001b[0m\u001b[1;33m,\u001b[0m \u001b[0mk_bar\u001b[0m\u001b[1;33m,\u001b[0m \u001b[0mmaxiter\u001b[0m\u001b[1;33m=\u001b[0m\u001b[1;36m200\u001b[0m\u001b[1;33m)\u001b[0m\u001b[1;33m\u001b[0m\u001b[1;33m\u001b[0m\u001b[0m\n\u001b[0m\u001b[0;32m      3\u001b[0m \u001b[1;31m#k_star = opti.root_finding.bisect(run_fun, 1, 10, k_bar)\u001b[0m\u001b[1;33m\u001b[0m\u001b[1;33m\u001b[0m\u001b[1;33m\u001b[0m\u001b[0m\n\u001b[0;32m      4\u001b[0m \u001b[1;31m#k_star = fsolve(fun, k_bar)\u001b[0m\u001b[1;33m\u001b[0m\u001b[1;33m\u001b[0m\u001b[1;33m\u001b[0m\u001b[0m\n",
      "\u001b[1;32m~\\Anaconda3\\lib\\site-packages\\quantecon\\optimize\\root_finding.py\u001b[0m in \u001b[0;36mnewton_secant\u001b[1;34m()\u001b[0m\n\u001b[0;32m    270\u001b[0m     \u001b[1;32mif\u001b[0m \u001b[0mdisp\u001b[0m \u001b[1;32mand\u001b[0m \u001b[0mstatus\u001b[0m \u001b[1;33m==\u001b[0m \u001b[0m_ECONVERR\u001b[0m\u001b[1;33m:\u001b[0m\u001b[1;33m\u001b[0m\u001b[1;33m\u001b[0m\u001b[0m\n\u001b[0;32m    271\u001b[0m         \u001b[0mmsg\u001b[0m \u001b[1;33m=\u001b[0m \u001b[1;34m\"Failed to converge\"\u001b[0m\u001b[1;33m\u001b[0m\u001b[1;33m\u001b[0m\u001b[0m\n\u001b[1;32m--> 272\u001b[1;33m         \u001b[1;32mraise\u001b[0m \u001b[0mRuntimeError\u001b[0m\u001b[1;33m(\u001b[0m\u001b[0mmsg\u001b[0m\u001b[1;33m)\u001b[0m\u001b[1;33m\u001b[0m\u001b[1;33m\u001b[0m\u001b[0m\n\u001b[0m\u001b[0;32m    273\u001b[0m \u001b[1;33m\u001b[0m\u001b[0m\n\u001b[0;32m    274\u001b[0m     \u001b[1;32mreturn\u001b[0m \u001b[0m_results\u001b[0m\u001b[1;33m(\u001b[0m\u001b[1;33m(\u001b[0m\u001b[0mp\u001b[0m\u001b[1;33m,\u001b[0m \u001b[0mfuncalls\u001b[0m\u001b[1;33m,\u001b[0m \u001b[0mitr\u001b[0m \u001b[1;33m+\u001b[0m \u001b[1;36m1\u001b[0m\u001b[1;33m,\u001b[0m \u001b[0mstatus\u001b[0m\u001b[1;33m)\u001b[0m\u001b[1;33m)\u001b[0m\u001b[1;33m\u001b[0m\u001b[1;33m\u001b[0m\u001b[0m\n",
      "\u001b[1;31mRuntimeError\u001b[0m: Failed to converge"
     ]
    }
   ],
   "source": [
    "#fun = lambda k: MC_iteration(k, k_grid, mu_u_star, params, MC)\n",
    "k_star = opti.root_finding.newton_secant(run_fun, k_bar, maxiter=200)\n",
    "#k_star = opti.root_finding.bisect(run_fun, 1, 10, k_bar)\n",
    "#k_star = fsolve(fun, k_bar)"
   ]
  },
  {
   "cell_type": "code",
   "execution_count": null,
   "metadata": {},
   "outputs": [],
   "source": [
    "#print(\"K_barhat equals K_bar at:\", k_star.root)"
   ]
  },
  {
   "cell_type": "markdown",
   "metadata": {},
   "source": [
    "**MANUAL BISECTION**"
   ]
  },
  {
   "cell_type": "code",
   "execution_count": 23,
   "metadata": {},
   "outputs": [],
   "source": [
    "@njit\n",
    "def MC_simulation2(k_grid, pol, k_bar):\n",
    "\n",
    "    max_iter = 10000\n",
    "    np.random.seed(0)\n",
    "    \n",
    "    MC_sim = np.zeros((max_iter,2))\n",
    "    k_Id = np.zeros(max_iter)\n",
    "    \n",
    "    #status = np.array([1,0])\n",
    "    e_draws = np.random.rand(max_iter)\n",
    "    status = np.zeros(max_iter)\n",
    "    for i in range(max_iter):\n",
    "        if e_draws[i] <= 0.9:\n",
    "            status[i] = 1\n",
    "    \n",
    "    for itr in range(max_iter):\n",
    "        if itr == 0:\n",
    "            MC_sim[itr,0] = np.random.choice(k_grid)\n",
    "            MC_sim[itr,1] = status[itr]\n",
    "            k_Id[itr] = closest_gridpt(k_grid, MC_sim[0,0])\n",
    "            \n",
    "        else:\n",
    "            if MC_sim[itr-1,1] == 1:\n",
    "                MC_sim[itr,0] = pol[int(k_Id[itr-1]),0]\n",
    "            else:\n",
    "                MC_sim[itr,0] = pol[int(k_Id[itr-1]),1]\n",
    "            \n",
    "            MC_sim[itr,1] = status[itr]\n",
    "            \n",
    "            k_Id[itr] = closest_gridpt(k_grid, MC_sim[itr,0])\n",
    "                \n",
    "    \n",
    "    k_bar_sim = np.mean(MC_sim[:,0])\n",
    "    \n",
    "    #crit = abs(k_bar_sim - k_bar)\n",
    "    crit = k_bar_sim - k_bar\n",
    "    \n",
    "    return crit, k_bar_sim, k_bar #MC_sim"
   ]
  },
  {
   "cell_type": "code",
   "execution_count": 28,
   "metadata": {},
   "outputs": [
    {
     "name": "stdout",
     "output_type": "stream",
     "text": [
      "the V difference is: 9.662967828560909e-05\n",
      "the V difference is: 9.879115021504958e-05\n",
      "the V difference is: 9.653547169108379e-05\n",
      "the V difference is: 9.867301690391628e-05\n",
      "the V difference is: 9.606311324716899e-05\n",
      "the V difference is: 9.820839528629222e-05\n",
      "the V difference is: 9.96617800126387e-05\n",
      "the V difference is: 9.813349763021506e-05\n",
      "the V difference is: 9.656331428686826e-05\n",
      "the V difference is: 9.944684758877997e-05\n",
      "the V difference is: 9.881447500958984e-05\n",
      "the V difference is: 9.913459612320707e-05\n",
      "the V difference is: 9.929169255684656e-05\n",
      "the V difference is: 9.936957014744507e-05\n",
      "the V difference is: 9.940827892762627e-05\n",
      "the V difference is: 9.942757787229084e-05\n",
      "the V difference is: 9.943721335048394e-05\n",
      "the V difference is: 9.94323969365496e-05\n",
      "the V difference is: 9.942998782364043e-05\n",
      "the V difference is: 9.943119248490007e-05\n",
      "the V difference is: 9.943179472671204e-05\n",
      "the V difference is: 9.943149361291148e-05\n",
      "the V difference is: 9.943164417336448e-05\n"
     ]
    }
   ],
   "source": [
    "eps = 1e-6\n",
    "max_iter = 100 #10000\n",
    "\n",
    "crit = 1\n",
    "itr = 0\n",
    "np.random.seed(0)\n",
    "\n",
    "k = k_bar\n",
    "a = k_bar - 6\n",
    "b = k_bar + 6\n",
    "\n",
    "result = np.zeros((max_iter,5))\n",
    "\n",
    "while crit > eps and itr < max_iter:    \n",
    "    r = get_r(k, mu_u_star, params)\n",
    "    w = get_w(k, mu_u_star, params)\n",
    "    \n",
    "    V, pol = VFI_solver(k_grid, params, r, w, MC)\n",
    "    \n",
    "    objective, k_new, k_old = MC_simulation2(k_grid, pol, k)\n",
    "\n",
    "    result[itr,0] = k_old\n",
    "    result[itr,1] = k_new\n",
    "    result[itr,2] = objective\n",
    "    \n",
    "    if objective < 0:\n",
    "        b = k_old\n",
    "        k = (a+b)/2\n",
    "    else:\n",
    "        a = k_old\n",
    "        k = (a+b)/2\n",
    "    \n",
    "    result[itr,3] = a\n",
    "    result[itr,4] = b\n",
    "    \n",
    "    crit = abs(objective)\n",
    "    itr += 1"
   ]
  },
  {
   "cell_type": "code",
   "execution_count": 31,
   "metadata": {},
   "outputs": [
    {
     "name": "stdout",
     "output_type": "stream",
     "text": [
      "[[ 7.21117639e+00  2.37932651e+00 -4.83184989e+00  1.21117639e+00\n",
      "   7.21117639e+00]\n",
      " [ 4.21117639e+00  3.98307912e+01  3.56196148e+01  4.21117639e+00\n",
      "   7.21117639e+00]\n",
      " [ 5.71117639e+00  3.94966341e+01  3.37854577e+01  5.71117639e+00\n",
      "   7.21117639e+00]\n",
      " [ 6.46117639e+00  7.02601735e+00  5.64840960e-01  6.46117639e+00\n",
      "   7.21117639e+00]\n",
      " [ 6.83617639e+00  3.21014283e+00 -3.62603357e+00  6.46117639e+00\n",
      "   6.83617639e+00]\n",
      " [ 6.64867639e+00  4.56630942e+00 -2.08236697e+00  6.46117639e+00\n",
      "   6.64867639e+00]\n",
      " [ 6.55492639e+00  5.80428349e+00 -7.50642907e-01  6.46117639e+00\n",
      "   6.55492639e+00]\n",
      " [ 6.50805139e+00  6.40609300e+00 -1.01958391e-01  6.46117639e+00\n",
      "   6.50805139e+00]\n",
      " [ 6.48461389e+00  6.58508602e+00  1.00472128e-01  6.48461389e+00\n",
      "   6.50805139e+00]\n",
      " [ 6.49633264e+00  6.49647671e+00  1.44064167e-04  6.49633264e+00\n",
      "   6.50805139e+00]\n",
      " [ 6.50219202e+00  6.40609300e+00 -9.60990161e-02  6.49633264e+00\n",
      "   6.50219202e+00]\n",
      " [ 6.49926233e+00  6.49647671e+00 -2.78562333e-03  6.49633264e+00\n",
      "   6.49926233e+00]\n",
      " [ 6.49779749e+00  6.49647671e+00 -1.32077958e-03  6.49633264e+00\n",
      "   6.49779749e+00]\n",
      " [ 6.49706506e+00  6.49647671e+00 -5.88357708e-04  6.49633264e+00\n",
      "   6.49706506e+00]\n",
      " [ 6.49669885e+00  6.49647671e+00 -2.22146770e-04  6.49633264e+00\n",
      "   6.49669885e+00]\n",
      " [ 6.49651575e+00  6.49647671e+00 -3.90413014e-05  6.49633264e+00\n",
      "   6.49651575e+00]\n",
      " [ 6.49642420e+00  6.49647671e+00  5.25114330e-05  6.49642420e+00\n",
      "   6.49651575e+00]\n",
      " [ 6.49646997e+00  6.49647671e+00  6.73506583e-06  6.49646997e+00\n",
      "   6.49651575e+00]\n",
      " [ 6.49649286e+00  6.49647671e+00 -1.61531178e-05  6.49646997e+00\n",
      "   6.49649286e+00]\n",
      " [ 6.49648142e+00  6.49647671e+00 -4.70902596e-06  6.49646997e+00\n",
      "   6.49648142e+00]\n",
      " [ 6.49647569e+00  6.49647671e+00  1.01301993e-06  6.49647569e+00\n",
      "   6.49648142e+00]\n",
      " [ 6.49647855e+00  6.49647671e+00 -1.84800302e-06  6.49647569e+00\n",
      "   6.49647855e+00]\n",
      " [ 6.49647712e+00  6.49647671e+00 -4.17491541e-07  6.49647569e+00\n",
      "   6.49647712e+00]]\n"
     ]
    }
   ],
   "source": [
    "print(result[:itr,:])"
   ]
  },
  {
   "cell_type": "markdown",
   "metadata": {},
   "source": [
    "**PLOTTING STEADY STATE RESULTS**"
   ]
  },
  {
   "cell_type": "code",
   "execution_count": 32,
   "metadata": {},
   "outputs": [],
   "source": [
    "@njit\n",
    "def MC_simulation_fin(k_grid, pol, k_bar):\n",
    "\n",
    "    max_iter = 20000\n",
    "    np.random.seed(0)\n",
    "    \n",
    "    MC_sim = np.zeros((max_iter,2))\n",
    "    k_Id = np.zeros(max_iter)\n",
    "    \n",
    "    #status = np.array([1,0])\n",
    "    e_draws = np.random.rand(max_iter)\n",
    "    status = np.zeros(max_iter)\n",
    "    for i in range(max_iter):\n",
    "        if e_draws[i] <= 0.9:\n",
    "            status[i] = 1\n",
    "    \n",
    "    for itr in range(max_iter):\n",
    "        if itr == 0:\n",
    "            MC_sim[itr,0] = np.random.choice(k_grid)\n",
    "            MC_sim[itr,1] = status[itr]\n",
    "            k_Id[itr] = closest_gridpt(k_grid, MC_sim[0,0])\n",
    "            \n",
    "        else:\n",
    "            if MC_sim[itr-1,1] == 1:\n",
    "                MC_sim[itr,0] = pol[int(k_Id[itr-1]),0]\n",
    "            else:\n",
    "                MC_sim[itr,0] = pol[int(k_Id[itr-1]),1]\n",
    "            \n",
    "            MC_sim[itr,1] = status[itr]\n",
    "            \n",
    "            k_Id[itr] = closest_gridpt(k_grid, MC_sim[itr,0])\n",
    "                \n",
    "    \n",
    "    k_bar_sim = np.sum(MC_sim[:,0])/max_iter\n",
    "    \n",
    "    crit = abs(k_bar_sim - k_bar)\n",
    "    \n",
    "    return crit, MC_sim"
   ]
  },
  {
   "cell_type": "code",
   "execution_count": 33,
   "metadata": {},
   "outputs": [],
   "source": [
    "crit, MC_sim = MC_simulation_fin(k_grid, pol, 6.49647671)#k_star.root)"
   ]
  },
  {
   "cell_type": "code",
   "execution_count": 34,
   "metadata": {},
   "outputs": [
    {
     "name": "stdout",
     "output_type": "stream",
     "text": [
      "0.5557054084963884\n",
      "[[11.73003008  1.        ]\n",
      " [11.8302782   1.        ]\n",
      " [11.93052632  1.        ]\n",
      " ...\n",
      " [ 5.81539098  1.        ]\n",
      " [ 5.9156391   1.        ]\n",
      " [ 6.01588722  1.        ]]\n"
     ]
    }
   ],
   "source": [
    "print(crit)\n",
    "print(MC_sim)"
   ]
  },
  {
   "cell_type": "code",
   "execution_count": 35,
   "metadata": {},
   "outputs": [
    {
     "data": {
      "image/png": "[encoded data removed]",
      "text/plain": [
       "<Figure size 432x288 with 1 Axes>"
      ]
     },
     "metadata": {
      "needs_background": "light"
     },
     "output_type": "display_data"
    }
   ],
   "source": [
    "t_grid = np.linspace(0, 20000, 20000)\n",
    "plt.plot(t_grid, MC_sim[:,0], lw=0.3)\n",
    "plt.show()"
   ]
  },
  {
   "cell_type": "code",
   "execution_count": 36,
   "metadata": {},
   "outputs": [
    {
     "data": {
      "image/png": "[encoded data removed]",
      "text/plain": [
       "<Figure size 432x288 with 1 Axes>"
      ]
     },
     "metadata": {
      "needs_background": "light"
     },
     "output_type": "display_data"
    }
   ],
   "source": [
    "plt.hist(MC_sim[:,0], bins=20)\n",
    "plt.show()"
   ]
  },
  {
   "cell_type": "code",
   "execution_count": 37,
   "metadata": {},
   "outputs": [
    {
     "data": {
      "text/plain": [
       "0.10160237499639323"
      ]
     },
     "execution_count": 37,
     "metadata": {},
     "output_type": "execute_result"
    }
   ],
   "source": [
    "get_r(6.49647671,mu_u_star,params)"
   ]
  },
  {
   "cell_type": "code",
   "execution_count": null,
   "metadata": {},
   "outputs": [],
   "source": []
  },
  {
   "cell_type": "code",
   "execution_count": null,
   "metadata": {},
   "outputs": [],
   "source": []
  },
  {
   "cell_type": "code",
   "execution_count": null,
   "metadata": {},
   "outputs": [],
   "source": []
  },
  {
   "cell_type": "code",
   "execution_count": null,
   "metadata": {},
   "outputs": [],
   "source": []
  },
  {
   "cell_type": "code",
   "execution_count": null,
   "metadata": {},
   "outputs": [],
   "source": []
  },
  {
   "cell_type": "code",
   "execution_count": null,
   "metadata": {},
   "outputs": [],
   "source": []
  },
  {
   "cell_type": "code",
   "execution_count": null,
   "metadata": {},
   "outputs": [],
   "source": []
  }
 ],
 "metadata": {
  "kernelspec": {
   "display_name": "Python 3",
   "language": "python",
   "name": "python3"
  },
  "language_info": {
   "codemirror_mode": {
    "name": "ipython",
    "version": 3
   },
   "file_extension": ".py",
   "mimetype": "text/x-python",
   "name": "python",
   "nbconvert_exporter": "python",
   "pygments_lexer": "ipython3",
   "version": "3.7.1"
  }
 },
 "nbformat": 4,
 "nbformat_minor": 2
}
