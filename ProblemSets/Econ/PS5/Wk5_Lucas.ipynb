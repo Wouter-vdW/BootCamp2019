{
 "cells": [
  {
   "cell_type": "code",
   "execution_count": 21,
   "metadata": {},
   "outputs": [],
   "source": [
    "import pandas as pd\n",
    "import numpy as np\n",
    "import matplotlib.pyplot as plt\n",
    "%matplotlib inline\n",
    "from functools import reduce\n",
    "import scipy.optimize as opt"
   ]
  },
  {
   "cell_type": "code",
   "execution_count": 2,
   "metadata": {},
   "outputs": [],
   "source": [
    "headers = ['date', 'w5000']\n",
    "w5000 = pd.read_csv('WILL5000INDFC.csv', header=None, names=headers, skiprows=1)\n",
    "w5000['date'] = pd.to_datetime(w5000['date'])\n",
    "w5000.set_index('date', inplace=True)\n",
    "w5000['w5000'] = pd.to_numeric(w5000['w5000'], errors='coerce')"
   ]
  },
  {
   "cell_type": "code",
   "execution_count": 3,
   "metadata": {},
   "outputs": [],
   "source": [
    "pce = pd.read_csv('PCECC96.csv')\n",
    "pce.columns = ['date', 'pce']\n",
    "pce.set_index('date', inplace=True)\n",
    "pce['pce'] = pd.to_numeric(pce['pce'], errors='coerce')"
   ]
  },
  {
   "cell_type": "code",
   "execution_count": 4,
   "metadata": {},
   "outputs": [],
   "source": [
    "gdpdef = pd.read_csv('GDPDEF.csv')\n",
    "gdpdef.columns = ['date', 'gdp_deflate']\n",
    "gdpdef.set_index('date', inplace=True)\n",
    "gdpdef['gdp_deflate'] = pd.to_numeric(gdpdef['gdp_deflate'], errors='coerce')"
   ]
  },
  {
   "cell_type": "code",
   "execution_count": 5,
   "metadata": {},
   "outputs": [],
   "source": [
    "headers = ['date', 'tb3m']\n",
    "tb3m = pd.read_csv('TB3MS.csv', header=None, names=headers, skiprows=1)\n",
    "tb3m['date'] = pd.to_datetime(tb3m['date'])\n",
    "tb3m.set_index('date', inplace=True)\n",
    "tb3m['tb3m'] = pd.to_numeric(tb3m['tb3m'], errors='coerce')"
   ]
  },
  {
   "cell_type": "code",
   "execution_count": 7,
   "metadata": {},
   "outputs": [],
   "source": [
    "w5000 = w5000.resample('D').asfreq()\n",
    "w5000 = w5000.fillna(method='ffill')\n",
    "w5000 = w5000.resample('Q').asfreq()\n",
    "tb3m = tb3m.resample('D').asfreq()\n",
    "tb3m = tb3m.fillna(method='ffill')\n",
    "tb3m = tb3m.resample('Q').asfreq()\n",
    "w5000.index = w5000.index + pd.DateOffset(1)\n",
    "tb3m.index = tb3m.index + pd.DateOffset(1)"
   ]
  },
  {
   "cell_type": "code",
   "execution_count": 11,
   "metadata": {},
   "outputs": [],
   "source": [
    "dfs = [w5000, pce, gdpdef, tb3m]\n",
    "df = reduce(lambda df1, df2: df1.merge(df2, \"outer\", left_index=True, right_index=True), dfs)\n",
    "df = df.dropna(axis=0)\n",
    "df['w5000_r'] = df['w5000'] / (df['gdp_deflate'] / 100)\n",
    "df['w5000_r_return'] = df['w5000_r'] / df['w5000_r'].shift(1)\n",
    "df['tb3m'] = df['tb3m']/100 + 1\n",
    "df.head()\n",
    "df.dropna(axis=0, inplace=True)"
   ]
  },
  {
   "cell_type": "markdown",
   "metadata": {},
   "source": [
    "**EXERCISE 1**"
   ]
  },
  {
   "cell_type": "code",
   "execution_count": 36,
   "metadata": {},
   "outputs": [],
   "source": [
    "def object_fun(gamma, df):\n",
    "    \n",
    "    beta = 0.99\n",
    "    \n",
    "    mu = df.pce ** (-gamma)\n",
    "    m = beta * mu / mu.shift(1)\n",
    "    R = df.w5000_r_return\n",
    "    m  = m[1:]\n",
    "    R = R[1:]\n",
    "    cov = np.cov(m, R)[0, 1]\n",
    "    obj = (1 - cov - m.mean() * R.mean())\n",
    "        \n",
    "    return obj"
   ]
  },
  {
   "cell_type": "code",
   "execution_count": 37,
   "metadata": {},
   "outputs": [
    {
     "name": "stdout",
     "output_type": "stream",
     "text": [
      "1.4882640468217236\n"
     ]
    }
   ],
   "source": [
    "fun = lambda gamma: object_fun(gamma, df)\n",
    "gamma = opt.broyden1(fun, 1)\n",
    "print(gamma)"
   ]
  },
  {
   "cell_type": "markdown",
   "metadata": {},
   "source": [
    "**EXERCISE 2**"
   ]
  },
  {
   "cell_type": "markdown",
   "metadata": {},
   "source": [
    "Barro and Jin (2011) estimate gamma to be close to 3, with a 95% confidence interval of 2 to 4. Gandelman and Hernandez-Murillo (2014), in their turn, find individual country estimates ranging from 0 to 3, with an average of 0.98. Their Wald tests indicate that the coefficient of relative risk aversion is smaller than 2 for the vast majority of countries and in the vicinity of 1.\n",
    "Our estimate seems more in line with the latter."
   ]
  },
  {
   "cell_type": "markdown",
   "metadata": {},
   "source": [
    "**EXERCISE 3**"
   ]
  },
  {
   "cell_type": "code",
   "execution_count": 38,
   "metadata": {},
   "outputs": [],
   "source": [
    "def object_fun2(gamma, df):\n",
    "    \n",
    "    beta = 0.99\n",
    "    \n",
    "    mu = df.pce ** (-gamma)\n",
    "    m = beta * mu / mu.shift(1)\n",
    "    m  = m[1:]\n",
    "    rp1 = df.tb3m[1:]\n",
    "    err = rp1 - 1 / np.mean(m) \n",
    "    obj = np.sum(err ** 2)\n",
    "    \n",
    "    return obj"
   ]
  },
  {
   "cell_type": "code",
   "execution_count": 54,
   "metadata": {},
   "outputs": [
    {
     "ename": "NoConvergence",
     "evalue": "-0.053496294273851074",
     "output_type": "error",
     "traceback": [
      "\u001b[1;31m---------------------------------------------------------------------------\u001b[0m",
      "\u001b[1;31mNoConvergence\u001b[0m                             Traceback (most recent call last)",
      "\u001b[1;32m<ipython-input-54-dee6c07dc9e5>\u001b[0m in \u001b[0;36m<module>\u001b[1;34m\u001b[0m\n\u001b[0;32m      1\u001b[0m \u001b[0mfun2\u001b[0m \u001b[1;33m=\u001b[0m \u001b[1;32mlambda\u001b[0m \u001b[0mgamma\u001b[0m\u001b[1;33m:\u001b[0m \u001b[0mobject_fun2\u001b[0m\u001b[1;33m(\u001b[0m\u001b[0mgamma\u001b[0m\u001b[1;33m,\u001b[0m \u001b[0mdf\u001b[0m\u001b[1;33m)\u001b[0m\u001b[1;33m\u001b[0m\u001b[1;33m\u001b[0m\u001b[0m\n\u001b[1;32m----> 2\u001b[1;33m \u001b[0mgamma\u001b[0m \u001b[1;33m=\u001b[0m \u001b[0mopt\u001b[0m\u001b[1;33m.\u001b[0m\u001b[0mbroyden1\u001b[0m\u001b[1;33m(\u001b[0m\u001b[0mfun2\u001b[0m\u001b[1;33m,\u001b[0m \u001b[1;36m1\u001b[0m\u001b[1;33m)\u001b[0m\u001b[1;33m\u001b[0m\u001b[1;33m\u001b[0m\u001b[0m\n\u001b[0m\u001b[0;32m      3\u001b[0m \u001b[0mprint\u001b[0m\u001b[1;33m(\u001b[0m\u001b[0mgamma\u001b[0m\u001b[1;33m)\u001b[0m\u001b[1;33m\u001b[0m\u001b[1;33m\u001b[0m\u001b[0m\n",
      "\u001b[1;32m~\\Anaconda3\\lib\\site-packages\\scipy\\optimize\\nonlin.py\u001b[0m in \u001b[0;36mbroyden1\u001b[1;34m(F, xin, iter, alpha, reduction_method, max_rank, verbose, maxiter, f_tol, f_rtol, x_tol, x_rtol, tol_norm, line_search, callback, **kw)\u001b[0m\n",
      "\u001b[1;32m~\\Anaconda3\\lib\\site-packages\\scipy\\optimize\\nonlin.py\u001b[0m in \u001b[0;36mnonlin_solve\u001b[1;34m(F, x0, jacobian, iter, verbose, maxiter, f_tol, f_rtol, x_tol, x_rtol, tol_norm, line_search, callback, full_output, raise_exception)\u001b[0m\n\u001b[0;32m    346\u001b[0m     \u001b[1;32melse\u001b[0m\u001b[1;33m:\u001b[0m\u001b[1;33m\u001b[0m\u001b[1;33m\u001b[0m\u001b[0m\n\u001b[0;32m    347\u001b[0m         \u001b[1;32mif\u001b[0m \u001b[0mraise_exception\u001b[0m\u001b[1;33m:\u001b[0m\u001b[1;33m\u001b[0m\u001b[1;33m\u001b[0m\u001b[0m\n\u001b[1;32m--> 348\u001b[1;33m             \u001b[1;32mraise\u001b[0m \u001b[0mNoConvergence\u001b[0m\u001b[1;33m(\u001b[0m\u001b[0m_array_like\u001b[0m\u001b[1;33m(\u001b[0m\u001b[0mx\u001b[0m\u001b[1;33m,\u001b[0m \u001b[0mx0\u001b[0m\u001b[1;33m)\u001b[0m\u001b[1;33m)\u001b[0m\u001b[1;33m\u001b[0m\u001b[1;33m\u001b[0m\u001b[0m\n\u001b[0m\u001b[0;32m    349\u001b[0m         \u001b[1;32melse\u001b[0m\u001b[1;33m:\u001b[0m\u001b[1;33m\u001b[0m\u001b[1;33m\u001b[0m\u001b[0m\n\u001b[0;32m    350\u001b[0m             \u001b[0mstatus\u001b[0m \u001b[1;33m=\u001b[0m \u001b[1;36m2\u001b[0m\u001b[1;33m\u001b[0m\u001b[1;33m\u001b[0m\u001b[0m\n",
      "\u001b[1;31mNoConvergence\u001b[0m: -0.053496294273851074"
     ]
    }
   ],
   "source": [
    "fun2 = lambda gamma: object_fun2(gamma, df)\n",
    "gamma = opt.broyden1(fun2, 1)\n",
    "print(gamma)"
   ]
  },
  {
   "cell_type": "code",
   "execution_count": 56,
   "metadata": {},
   "outputs": [
    {
     "name": "stdout",
     "output_type": "stream",
     "text": [
      "     fun: 0.00117860235812725\n",
      "     jac: array([-1.29258583e-07])\n",
      " message: 'Converged (|f_n-f_(n-1)| ~= 0)'\n",
      "    nfev: 15\n",
      "     nit: 3\n",
      "  status: 1\n",
      " success: True\n",
      "       x: array([-0.08054473])\n"
     ]
    }
   ],
   "source": [
    "fun2 = lambda gamma: object_fun2(gamma, df)\n",
    "gamma = opt.minimize(fun2, 1, method='TNC')\n",
    "print(gamma)"
   ]
  },
  {
   "cell_type": "code",
   "execution_count": 45,
   "metadata": {},
   "outputs": [
    {
     "name": "stdout",
     "output_type": "stream",
     "text": [
      "   direc: array([[-0.00165604]])\n",
      "     fun: 0.0011786023529411825\n",
      " message: 'Optimization terminated successfully.'\n",
      "    nfev: 30\n",
      "     nit: 2\n",
      "  status: 0\n",
      " success: True\n",
      "       x: array(-0.08046449)\n"
     ]
    }
   ],
   "source": [
    "fun2 = lambda gamma: object_fun2(gamma, df)\n",
    "gamma = opt.minimize(fun2, 1, method='Powell')\n",
    "print(gamma)"
   ]
  },
  {
   "cell_type": "code",
   "execution_count": 60,
   "metadata": {},
   "outputs": [
    {
     "name": "stdout",
     "output_type": "stream",
     "text": [
      "    fjac: array([[-1.]])\n",
      "     fun: 0.001178603416070574\n",
      " message: 'The iteration is not making good progress, as measured by the \\n  improvement from the last ten iterations.'\n",
      "    nfev: 21\n",
      "     qtf: array([-0.0011786])\n",
      "       r: array([5.65411278e-06])\n",
      "  status: 5\n",
      " success: False\n",
      "       x: array([-0.08161345])\n"
     ]
    }
   ],
   "source": [
    "fun2 = lambda gamma: object_fun2(gamma, df)\n",
    "gamma = opt.root(fun2, 1) #,method='broyden1'\n",
    "print(gamma)"
   ]
  },
  {
   "cell_type": "markdown",
   "metadata": {},
   "source": [
    "**EXERCISE 4**"
   ]
  },
  {
   "cell_type": "code",
   "execution_count": 81,
   "metadata": {},
   "outputs": [],
   "source": [
    "def object_fun3(coeff, df):\n",
    "    gamma, beta = coeff\n",
    "    \n",
    "    moms = np.empty(2)\n",
    "    W = np.eye(2)\n",
    "    \n",
    "    mu = df.pce ** (-gamma)\n",
    "    m = beta * mu / mu.shift(1)\n",
    "    R = df.w5000_r_return\n",
    "    m  = m[1:]\n",
    "    R = R[1:]\n",
    "        \n",
    "    cov = np.cov(m, R)[0, 1]\n",
    "    moms[0] = (1 - cov - m.mean() * R.mean())\n",
    "            \n",
    "    rp1 = df.tb3m[1:]\n",
    "    err = rp1 - 1 / np.mean(m) \n",
    "    moms[1] = np.sum(err ** 2)\n",
    "        \n",
    "    err = moms.T @ W @ moms\n",
    "        \n",
    "    return err"
   ]
  },
  {
   "cell_type": "code",
   "execution_count": 106,
   "metadata": {},
   "outputs": [
    {
     "name": "stdout",
     "output_type": "stream",
     "text": [
      "gamma: 2.8142799960528917\n",
      "beta: 1.0000076154239756\n"
     ]
    }
   ],
   "source": [
    "fun3 = lambda coeff: object_fun3(coeff, df)\n",
    "#coeff = opt.broyden1(fun3, [1, 1])\n",
    "#coeff = opt.root(fun3, [1, 1])\n",
    "#coeff = opt.minimize(fun3, [1, 1], method='TNC')\n",
    "#print(coeff)\n",
    "\n",
    "coeff = opt.minimize(fun3, [1, 1], method='Powell')\n",
    "#print(coeff)\n",
    "print(\"gamma:\", coeff.x[0])\n",
    "print(\"beta:\", coeff.x[1])"
   ]
  },
  {
   "cell_type": "markdown",
   "metadata": {},
   "source": [
    "When estimating both parameters simultaneously, the value found for the rate of relative risk aversion differs substantially from both of my previous estimates (and across optimization routines). Overall, it falls in between the previous two estimates. Consequently, the results do not seem very robust."
   ]
  },
  {
   "cell_type": "code",
   "execution_count": 113,
   "metadata": {},
   "outputs": [],
   "source": [
    "n = 5\n",
    "N = 5\n",
    "gamma_grid = np.linspace(1, 5, n)\n",
    "beta_grid = np.linspace(0.95, 0.99, N)\n",
    "\n",
    "estimates = np.empty((n, N))\n",
    "for ii in range(n):\n",
    "    for jj in range(N):\n",
    "        estimates[ii, jj] = object_fun3([gamma_grid[ii], beta_grid[jj]], df)"
   ]
  },
  {
   "cell_type": "code",
   "execution_count": 114,
   "metadata": {},
   "outputs": [
    {
     "data": {
      "image/png": "[encoded data removed]",
      "text/plain": [
       "<Figure size 720x504 with 1 Axes>"
      ]
     },
     "metadata": {
      "needs_background": "light"
     },
     "output_type": "display_data"
    }
   ],
   "source": [
    "plt.figure(figsize=(10, 7))\n",
    "for jj in range(N):\n",
    "    plt.plot(gamma_grid, estimates[:, jj], label=rf'$\\beta$ = {beta_grid[jj]:.2f}')\n",
    "plt.title('Value of GMM Objective Function')\n",
    "plt.xlabel('$\\gamma$')\n",
    "plt.ylabel('Objective Function')\n",
    "plt.legend()\n",
    "plt.show()"
   ]
  },
  {
   "cell_type": "code",
   "execution_count": null,
   "metadata": {},
   "outputs": [],
   "source": []
  }
 ],
 "metadata": {
  "kernelspec": {
   "display_name": "Python 3",
   "language": "python",
   "name": "python3"
  },
  "language_info": {
   "codemirror_mode": {
    "name": "ipython",
    "version": 3
   },
   "file_extension": ".py",
   "mimetype": "text/x-python",
   "name": "python",
   "nbconvert_exporter": "python",
   "pygments_lexer": "ipython3",
   "version": "3.7.1"
  }
 },
 "nbformat": 4,
 "nbformat_minor": 2
}
