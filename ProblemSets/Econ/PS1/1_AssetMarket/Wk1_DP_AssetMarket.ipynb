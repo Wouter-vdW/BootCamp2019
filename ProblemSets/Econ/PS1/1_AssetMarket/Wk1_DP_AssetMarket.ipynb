{
 "cells": [
  {
   "cell_type": "code",
   "execution_count": 59,
   "metadata": {},
   "outputs": [],
   "source": [
    "import numpy as np\n",
    "from scipy.optimize import fsolve"
   ]
  },
  {
   "cell_type": "markdown",
   "metadata": {},
   "source": [
    "**FINAL VERSION**"
   ]
  },
  {
   "cell_type": "code",
   "execution_count": 66,
   "metadata": {},
   "outputs": [],
   "source": [
    "#solve model\n",
    "def solve_model(our_model):\n",
    "    result = fsolve(our_model, [0,0,0,0])\n",
    "\n",
    "    return result"
   ]
  },
  {
   "cell_type": "code",
   "execution_count": 69,
   "metadata": {},
   "outputs": [
    {
     "name": "stdout",
     "output_type": "stream",
     "text": [
      "For gamma set to 2 results are:\n",
      "q1 = 0.5897776558154004\n",
      "q2 = 0.7372220697692505\n",
      "theta1 = 0.019540665548954228\n",
      "theta2 = -7.054705571371832e-17\n",
      "For gamma set to 4 results are:\n",
      "q1 = 0.5186613026037966\n",
      "q2 = 0.6483266282547459\n",
      "theta1 = 0.004029823644575321\n",
      "theta2 = -2.106368161368488e-16\n",
      "For gamma set to 8 results are:\n",
      "q1 = 0.5010144010474825\n",
      "q2 = 0.6262680013093532\n",
      "theta1 = 0.00015609414679633327\n",
      "theta2 = 1.3858004685429552e-16\n",
      "For gamma set to 166 results are:\n",
      "q1 = 0.5\n",
      "q2 = 0.625\n",
      "theta1 = -2.4591809593894653e-17\n",
      "theta2 = 1.8916776610689022e-17\n"
     ]
    }
   ],
   "source": [
    "iter = [2,4,8,166]\n",
    "for par_gamma in iter:\n",
    "    \n",
    "    def asset_model(x):\n",
    "        #initiate values\n",
    "        eA = [1.0, 1.0, 2.0, 1.0, 2.0]\n",
    "        eB = [1.0, 3.0, 1.0, 3.0, 1.0]\n",
    "        A1 = [1.0, 1.0, 1.0, 1.0]\n",
    "        A2 = [1.0, 1.0, 1.5, 1.5]\n",
    "\n",
    "        #FOCs: x[0,1,2,3]=[q1,q2,thet1,thet2]\n",
    "        syseqs = [-x[0]*(eA[0]-x[0]*x[2]-x[1]*x[3])**(-par_gamma) + 1/4*( A1[0]*(eA[1]+x[2]*A1[0]+x[3]*A2[0])**(-par_gamma) + A1[1]*(eA[2]+x[2]*A1[1]+x[3]*A2[1])**(-par_gamma) + A1[2]*(eA[3]+x[2]*A1[2]+x[3]*A2[2])**(-par_gamma) + A1[3]*(eA[4]+x[2]*A1[3]+x[3]*A2[3])**(-par_gamma) ) ]\n",
    "        syseqs.append(-x[1]*(eA[0]-x[0]*x[2]-x[1]*x[3])**(-par_gamma) + 1/4*( A2[0]*(eA[1]+x[2]*A1[0]+x[3]*A2[0])**(-par_gamma) + A2[1]*(eA[2]+x[2]*A1[1]+x[3]*A2[1])**(-par_gamma) + A2[2]*(eA[3]+x[2]*A1[2]+x[3]*A2[2])**(-par_gamma) + A2[3]*(eA[4]+x[2]*A1[3]+x[3]*A2[3])**(-par_gamma) ))\n",
    "        syseqs.append(-x[0]*(eB[0]+x[0]*x[2]+x[1]*x[3])**(-par_gamma) + 1/4*( A1[0]*(eB[1]-x[2]*A1[0]-x[3]*A2[0])**(-par_gamma) + A1[1]*(eB[2]-x[2]*A1[1]-x[3]*A2[1])**(-par_gamma) + A1[2]*(eB[3]-x[2]*A1[2]-x[3]*A2[2])**(-par_gamma) + A1[3]*(eB[4]-x[2]*A1[3]-x[3]*A2[3])**(-par_gamma) ) )\n",
    "        syseqs.append(-x[1]*(eB[0]+x[0]*x[2]+x[1]*x[3])**(-par_gamma) + 1/4*( A2[0]*(eB[1]-x[2]*A1[0]-x[3]*A2[0])**(-par_gamma) + A2[1]*(eB[2]-x[2]*A1[1]-x[3]*A2[1])**(-par_gamma) + A2[2]*(eB[3]-x[2]*A1[2]-x[3]*A2[2])**(-par_gamma) + A2[3]*(eB[4]-x[2]*A1[3]-x[3]*A2[3])**(-par_gamma) ) )\n",
    "\n",
    "        return syseqs\n",
    "\n",
    "    #solve model\n",
    "    xx = solve_model(asset_model)\n",
    "\n",
    "    #print output\n",
    "    print(\"For gamma set to\", par_gamma ,\"results are:\")\n",
    "    print(\"q1 =\", xx[0])\n",
    "    print(\"q2 =\", xx[1])\n",
    "    print(\"theta1 =\", xx[2])\n",
    "    print(\"theta2 =\", xx[3])"
   ]
  },
  {
   "cell_type": "markdown",
   "metadata": {},
   "source": [
    "**TEST VERSIONS**"
   ]
  },
  {
   "cell_type": "code",
   "execution_count": 39,
   "metadata": {},
   "outputs": [],
   "source": [
    "def asset_model(x):\n",
    "    #initiate values\n",
    "    eA = [1.0, 1.0, 2.0, 1.0, 2.0]\n",
    "    eB = [1.0, 3.0, 1.0, 3.0, 1.0]\n",
    "    A1 = [1.0, 1.0, 1.0, 1.0]\n",
    "    A2 = [1.0, 1.0, 1.5, 1.5]\n",
    "    par_gamma = 166.0\n",
    "\n",
    "    #FOCs: x[0,1,2,3]=[q1,q2,thet1,thet2]\n",
    "    syseqs = [-x[0]*(eA[0]-x[0]*x[2]-x[1]*x[3])**(-par_gamma) + 1/4*( A1[0]*(eA[1]+x[2]*A1[0]+x[3]*A2[0])**(-par_gamma) + A1[1]*(eA[2]+x[2]*A1[1]+x[3]*A2[1])**(-par_gamma) + A1[2]*(eA[3]+x[2]*A1[2]+x[3]*A2[2])**(-par_gamma) + A1[3]*(eA[4]+x[2]*A1[3]+x[3]*A2[3])**(-par_gamma) ) ]\n",
    "    syseqs.append(-x[1]*(eA[0]-x[0]*x[2]-x[1]*x[3])**(-par_gamma) + 1/4*( A2[0]*(eA[1]+x[2]*A1[0]+x[3]*A2[0])**(-par_gamma) + A2[1]*(eA[2]+x[2]*A1[1]+x[3]*A2[1])**(-par_gamma) + A2[2]*(eA[3]+x[2]*A1[2]+x[3]*A2[2])**(-par_gamma) + A2[3]*(eA[4]+x[2]*A1[3]+x[3]*A2[3])**(-par_gamma) ))\n",
    "    syseqs.append(-x[0]*(eB[0]+x[0]*x[2]+x[1]*x[3])**(-par_gamma) + 1/4*( A1[0]*(eB[1]-x[2]*A1[0]-x[3]*A2[0])**(-par_gamma) + A1[1]*(eB[2]-x[2]*A1[1]-x[3]*A2[1])**(-par_gamma) + A1[2]*(eB[3]-x[2]*A1[2]-x[3]*A2[2])**(-par_gamma) + A1[3]*(eB[4]-x[2]*A1[3]-x[3]*A2[3])**(-par_gamma) ) )\n",
    "    syseqs.append(-x[1]*(eB[0]+x[0]*x[2]+x[1]*x[3])**(-par_gamma) + 1/4*( A2[0]*(eB[1]-x[2]*A1[0]-x[3]*A2[0])**(-par_gamma) + A2[1]*(eB[2]-x[2]*A1[1]-x[3]*A2[1])**(-par_gamma) + A2[2]*(eB[3]-x[2]*A1[2]-x[3]*A2[2])**(-par_gamma) + A2[3]*(eB[4]-x[2]*A1[3]-x[3]*A2[3])**(-par_gamma) ) )\n",
    "        \n",
    "    return syseqs"
   ]
  },
  {
   "cell_type": "code",
   "execution_count": 44,
   "metadata": {
    "scrolled": true
   },
   "outputs": [
    {
     "name": "stdout",
     "output_type": "stream",
     "text": [
      "[-1.0, -1.0, 2.3384026197294447e+49, 3.507603929594167e+49]\n"
     ]
    }
   ],
   "source": [
    "print(asset_model([1,1,1,1]))"
   ]
  },
  {
   "cell_type": "code",
   "execution_count": 55,
   "metadata": {},
   "outputs": [],
   "source": [
    "def asset_model2(x):\n",
    "    #initiate values\n",
    "    eA = [1.0, 1.0, 2.0, 1.0, 2.0]\n",
    "    eB = [1.0, 3.0, 1.0, 3.0, 1.0]\n",
    "    A1 = [1.0, 1.0, 1.0, 1.0]\n",
    "    A2 = [1.0, 1.0, 1.5, 1.5]\n",
    "    par_gamma = 4.0\n",
    "\n",
    "    #FOCs: x[0,1,2,3]=[q1,q2,thet1,thet2]\n",
    "    syseqs = [-x[0]*(1-x[0]*x[2]-x[1]*x[3])**(-par_gamma) + 0.25*( (1+x[2]+x[3])**(-par_gamma) + (2+x[2]+x[3])**(-par_gamma) + (1+x[2]+x[3]*1.5)**(-par_gamma) + (2+x[2]+x[3]*1.5)**(-par_gamma) ) ]\n",
    "    syseqs.append(-x[1]*(1-x[0]*x[2]-x[1]*x[3])**(-par_gamma) + 0.25*( (1+x[2]+x[3])**(-par_gamma) + (2+x[2]+x[3])**(-par_gamma) + 1.5*(1+x[2]+x[3]*1.5)**(-par_gamma) + (1.5*2+x[2]+x[3]*1.5)**(-par_gamma) ))\n",
    "    syseqs.append(-x[0]*(1+x[0]*x[2]+x[1]*x[3])**(-par_gamma) + 0.25*( (3-x[2]-x[3])**(-par_gamma) + (1-x[2]-x[3])**(-par_gamma) + (3-x[2]-x[3]*1.5)**(-par_gamma) + (1-x[2]-x[3]*1.5)**(-par_gamma) ))\n",
    "    syseqs.append(-x[1]*(1+x[0]*x[2]+x[1]*x[3])**(-par_gamma) + 0.25*( (3-x[2]-x[3])**(-par_gamma) + (1-x[2]-x[3])**(-par_gamma) + 1.5*(3-x[2]-x[3]*1.5)**(-par_gamma) + 1.5*(1-x[2]-x[3]*1.5)**(-par_gamma) ))\n",
    "        \n",
    "    return syseqs"
   ]
  },
  {
   "cell_type": "code",
   "execution_count": 56,
   "metadata": {},
   "outputs": [
    {
     "name": "stdout",
     "output_type": "stream",
     "text": [
      "[0.53125, 0.6437114197530864, 0.5061728395061729, 0.6327160493827161]\n"
     ]
    }
   ],
   "source": [
    "print(asset_model2([0,0,0,0]))"
   ]
  },
  {
   "cell_type": "code",
   "execution_count": 52,
   "metadata": {},
   "outputs": [],
   "source": [
    "#solve model\n",
    "def solve_model(our_model):\n",
    "    result = fsolve(our_model, [0,0,0,0])\n",
    "    \n",
    "    return result"
   ]
  },
  {
   "cell_type": "code",
   "execution_count": 42,
   "metadata": {},
   "outputs": [
    {
     "name": "stdout",
     "output_type": "stream",
     "text": [
      "[-2.39755031e+49 -2.06045329e+51  1.52498414e+00  3.79006938e-01]\n"
     ]
    },
    {
     "name": "stderr",
     "output_type": "stream",
     "text": [
      "C:\\Users\\woute\\Anaconda3\\lib\\site-packages\\scipy\\optimize\\minpack.py:163: RuntimeWarning: The iteration is not making good progress, as measured by the \n",
      "  improvement from the last five Jacobian evaluations.\n",
      "  warnings.warn(msg, RuntimeWarning)\n"
     ]
    }
   ],
   "source": [
    "xx = solve_model(asset_model)\n",
    "print(xx)"
   ]
  },
  {
   "cell_type": "code",
   "execution_count": 43,
   "metadata": {},
   "outputs": [
    {
     "name": "stdout",
     "output_type": "stream",
     "text": [
      "8.174883545078892e+50\n",
      "-8.174883545078892e+50\n"
     ]
    }
   ],
   "source": [
    "CA1 = eA[0]-xx[0]*xx[2]-xx[1]*xx[3]\n",
    "CB1 = eB[0]-xx[0]*(-xx[2])-xx[1]*(-xx[3])\n",
    "print(CA1)\n",
    "print(CB1)"
   ]
  },
  {
   "cell_type": "code",
   "execution_count": 64,
   "metadata": {},
   "outputs": [
    {
     "name": "stdout",
     "output_type": "stream",
     "text": [
      "for gamma set to 2 results are\n",
      "q1 = 0.5207563258857545\n",
      "q2 = 0.6403596386381201\n",
      "theta1 = 0.10575565926953912\n",
      "theta2 = -0.0818597783254732\n"
     ]
    }
   ],
   "source": [
    "yy = solve_model(asset_model2)\n",
    "print(\"q1 =\", yy[0])\n",
    "print(\"q2 =\", yy[1])\n",
    "print(\"theta1 =\", yy[2])\n",
    "print(\"theta2 =\", yy[3])"
   ]
  },
  {
   "cell_type": "code",
   "execution_count": 58,
   "metadata": {},
   "outputs": [
    {
     "name": "stdout",
     "output_type": "stream",
     "text": [
      "0.9973467695046656\n",
      "1.0026532304953342\n"
     ]
    }
   ],
   "source": [
    "CA1 = eA[0]-yy[0]*yy[2]-yy[1]*yy[3]\n",
    "CB1 = eB[0]-yy[0]*(-yy[2])-yy[1]*(-yy[3])\n",
    "print(CA1)\n",
    "print(CB1)"
   ]
  },
  {
   "cell_type": "code",
   "execution_count": null,
   "metadata": {},
   "outputs": [],
   "source": []
  }
 ],
 "metadata": {
  "kernelspec": {
   "display_name": "Python 3",
   "language": "python",
   "name": "python3"
  },
  "language_info": {
   "codemirror_mode": {
    "name": "ipython",
    "version": 3
   },
   "file_extension": ".py",
   "mimetype": "text/x-python",
   "name": "python",
   "nbconvert_exporter": "python",
   "pygments_lexer": "ipython3",
   "version": "3.7.1"
  }
 },
 "nbformat": 4,
 "nbformat_minor": 2
}
