{
 "cells": [
  {
   "cell_type": "code",
   "execution_count": 35,
   "metadata": {},
   "outputs": [],
   "source": [
    "import numpy as np\n",
    "import math\n",
    "from matplotlib import pyplot as plt\n",
    "from scipy import optimize\n",
    "from scipy import interpolate"
   ]
  },
  {
   "cell_type": "code",
   "execution_count": 36,
   "metadata": {},
   "outputs": [],
   "source": [
    "def u(c):\n",
    "    u_fun = lambda c: np.log(c)\n",
    "    u = u_fun(c)\n",
    "    \n",
    "    return u"
   ]
  },
  {
   "cell_type": "code",
   "execution_count": 37,
   "metadata": {},
   "outputs": [],
   "source": [
    "def u_prime(c):\n",
    "    u_fun = lambda c: 1/c\n",
    "    u = u_fun(c)\n",
    "    \n",
    "    return u"
   ]
  },
  {
   "cell_type": "code",
   "execution_count": 38,
   "metadata": {},
   "outputs": [],
   "source": [
    "def euler(k, s, k1, beta, k_grid, g, mode):\n",
    "    \n",
    "    k1 = np.exp(k1)\n",
    "    f = np.zeros((2))\n",
    "    f1 = np.zeros((2))\n",
    "    \n",
    "    f[0] = 0.9 * k ** 0.3 + 0.3 * k\n",
    "    f[1] = 1.1 * k ** 0.3 + 0.9 * k\n",
    "    \n",
    "    f1[0] = 0.9 * k1 ** 0.3 + 0.3 * k1\n",
    "    f1[1] = 1.1 * k1 ** 0.3 + 0.9 * k1\n",
    "    \n",
    "    delta = 1\n",
    "    c_prime0 = 0.3 * 0.9 * k1 ** (0.3 - 1) + 0.3 + 1 - delta\n",
    "    c_prime1 = 0.3 * 1.1 * k1 ** (0.3 - 1) + 0.9 + 1 - delta\n",
    "    \n",
    "    k2_0 = interpolate_policy_function(k1, g, 0, k_grid, mode)\n",
    "    k2_1 = interpolate_policy_function(k1, g, 1, k_grid, mode)\n",
    "    \n",
    "    lhs = u_prime( f[s] - k1 )\n",
    "    \n",
    "    rhs = beta * ( 0.5 * u_prime( f1[0] - k2_0 ) * (c_prime0) + 0.5 * u_prime( f1[1] - k2_1 ) * (c_prime1) )\n",
    "    \n",
    "    euler_eq = lhs - rhs\n",
    "    \n",
    "    return euler_eq"
   ]
  },
  {
   "cell_type": "code",
   "execution_count": 39,
   "metadata": {},
   "outputs": [],
   "source": [
    "def interpolate_policy_function(capital, g, s, k_grid, mode):\n",
    " \n",
    "    if mode == 0:   # PIECEWISE LINEAR INTERPOLATION\n",
    "        val = np.interp(capital, k_grid, g[:, s])\n",
    "\n",
    "    elif mode == 1:   # POLYNOMIAL OF DEGREE 5\n",
    "        interpolant = np.polyfit(k_grid, g[:, s], 5)\n",
    "        val = np.polyval(interpolant, capital)\n",
    "\n",
    "    elif mode == 99:   # Chebyshev polynomial of degree 5\n",
    "        interpolant = np.polynomial.chebyshev.chebfit(k_grid, g[:, s],5)\n",
    "        val = np.polynomial.chebyshev.chebval(capital, interpolant)    \n",
    "        \n",
    "    else:   # CUBIC SPLINES\n",
    "        interpolant = interpolate.CubicSpline(k_grid, g[:, s])\n",
    "        val = interpolant(capital)\n",
    "\n",
    "    return val"
   ]
  },
  {
   "cell_type": "code",
   "execution_count": 40,
   "metadata": {},
   "outputs": [],
   "source": [
    "def actionvalue(g, N, k_index, k_grid, beta, mode): # solve for optimal k1 in each state S given possible k2\n",
    "    \n",
    "    k = k_grid[k_index]\n",
    "    \n",
    "    action_value = np.zeros((N,2))\n",
    "    c = np.zeros_like(action_value)\n",
    "\n",
    "    for s in range(2):\n",
    "        for ii in range(N):\n",
    "            \n",
    "            func = lambda k1_log: euler(k, s, k1_log, beta, k_grid, g, mode)\n",
    "            k1_log = optimize.fsolve(func,[-5])\n",
    "            k1 = math.exp(k1_log)\n",
    "            \n",
    "            action_value[ii,s] = k1\n",
    "            \n",
    "    return action_value"
   ]
  },
  {
   "cell_type": "code",
   "execution_count": 41,
   "metadata": {},
   "outputs": [],
   "source": [
    "def pf_update_iteration(g, N, k_grid, beta, mode):\n",
    "\n",
    "    g_prime = np.zeros_like(g)\n",
    "    \n",
    "    for ii in range(N):\n",
    "        for s in range(2):\n",
    "            g_prime[ii,s] = actionvalue(g, N, ii, k_grid, beta, mode)[ii,s]\n",
    "    \n",
    "    return g_prime"
   ]
  },
  {
   "cell_type": "code",
   "execution_count": 42,
   "metadata": {},
   "outputs": [],
   "source": [
    "def solve_model(N_in, mode=0, beta=0.9, max_iterations=10000, threshold=1e-5):\n",
    "    \n",
    "    beta = beta\n",
    "    N = N_in      # number of grid-points for the capital grid\n",
    "    k_low = 0.001 # lower bound for the capital grid\n",
    "    k_high = 1    # upper bound for capital grid\n",
    "    k_grid = np.linspace(k_low, k_high, N) #grid for capital\n",
    "    \n",
    "    difference_list = []\n",
    "    \n",
    "    g = np.zeros((N_in,2))\n",
    "    \n",
    "    for iteration in range(max_iterations): #iterate until policy functions converge\n",
    "        print('Iteration: {}'.format(iteration + 1))\n",
    "\n",
    "        g_new = pf_update_iteration(g, N, k_grid, beta, mode)\n",
    "        \n",
    "        difference = np.max(np.abs(g - g_new))\n",
    "        difference_list.append(difference)\n",
    "\n",
    "        g = g_new.copy()\n",
    "\n",
    "        if difference < threshold:\n",
    "            print('Converged after iteration {}'.format(iteration + 1))\n",
    "            break\n",
    "    \n",
    "    model = {}\n",
    "    model['N'] = N\n",
    "    model['pol'] = g\n",
    "    model['beta'] = beta\n",
    "    model['kgrid'] = k_grid\n",
    "    \n",
    "    return model"
   ]
  },
  {
   "cell_type": "code",
   "execution_count": 43,
   "metadata": {},
   "outputs": [],
   "source": [
    "def plot_policy(model):\n",
    "    plt.figure()\n",
    "    plt.plot(model['kgrid'], model['pol'][:, 0], label='Low')\n",
    "    plt.plot(model['kgrid'], model['pol'][:, 1], label='High')\n",
    "    plt.xlabel('k')\n",
    "    plt.ylabel(\"k'\")\n",
    "    plt.title('Policy function')\n",
    "    plt.legend()\n",
    "    plt.show();"
   ]
  },
  {
   "cell_type": "markdown",
   "metadata": {},
   "source": [
    "**Solution**"
   ]
  },
  {
   "cell_type": "code",
   "execution_count": 33,
   "metadata": {},
   "outputs": [
    {
     "name": "stdout",
     "output_type": "stream",
     "text": [
      "Iteration: 1\n",
      "Iteration: 2\n",
      "Iteration: 3\n",
      "Iteration: 4\n",
      "Iteration: 5\n",
      "Iteration: 6\n",
      "Iteration: 7\n",
      "Iteration: 8\n",
      "Iteration: 9\n",
      "Iteration: 10\n",
      "Iteration: 11\n",
      "Iteration: 12\n",
      "Iteration: 13\n",
      "Iteration: 14\n",
      "Iteration: 15\n",
      "Iteration: 16\n",
      "Converged after iteration 16\n"
     ]
    }
   ],
   "source": [
    "model_50 = solve_model(50)"
   ]
  },
  {
   "cell_type": "code",
   "execution_count": 34,
   "metadata": {},
   "outputs": [
    {
     "data": {
      "image/png": "[encoded data removed]",
      "text/plain": [
       "<Figure size 432x288 with 1 Axes>"
      ]
     },
     "metadata": {
      "needs_background": "light"
     },
     "output_type": "display_data"
    }
   ],
   "source": [
    "plot_policy(model_50)"
   ]
  },
  {
   "cell_type": "code",
   "execution_count": null,
   "metadata": {},
   "outputs": [],
   "source": []
  },
  {
   "cell_type": "code",
   "execution_count": 44,
   "metadata": {},
   "outputs": [
    {
     "name": "stdout",
     "output_type": "stream",
     "text": [
      "Iteration: 1\n",
      "Iteration: 2\n",
      "Iteration: 3\n",
      "Iteration: 4\n",
      "Iteration: 5\n",
      "Iteration: 6\n",
      "Iteration: 7\n",
      "Iteration: 8\n",
      "Iteration: 9\n",
      "Iteration: 10\n",
      "Iteration: 11\n",
      "Iteration: 12\n",
      "Iteration: 13\n",
      "Iteration: 14\n",
      "Iteration: 15\n",
      "Iteration: 16\n",
      "Converged after iteration 16\n"
     ]
    }
   ],
   "source": [
    "model_50 = solve_model(50,mode=1)"
   ]
  },
  {
   "cell_type": "code",
   "execution_count": 45,
   "metadata": {},
   "outputs": [
    {
     "data": {
      "image/png": "[encoded data removed]",
      "text/plain": [
       "<Figure size 432x288 with 1 Axes>"
      ]
     },
     "metadata": {
      "needs_background": "light"
     },
     "output_type": "display_data"
    }
   ],
   "source": [
    "plot_policy(model_50)"
   ]
  },
  {
   "cell_type": "code",
   "execution_count": null,
   "metadata": {},
   "outputs": [],
   "source": []
  }
 ],
 "metadata": {
  "kernelspec": {
   "display_name": "Python 3",
   "language": "python",
   "name": "python3"
  },
  "language_info": {
   "codemirror_mode": {
    "name": "ipython",
    "version": 3
   },
   "file_extension": ".py",
   "mimetype": "text/x-python",
   "name": "python",
   "nbconvert_exporter": "python",
   "pygments_lexer": "ipython3",
   "version": "3.7.1"
  }
 },
 "nbformat": 4,
 "nbformat_minor": 2
}
