{
 "cells": [
  {
   "cell_type": "code",
   "execution_count": 5,
   "metadata": {},
   "outputs": [],
   "source": [
    "import numpy as np\n",
    "import time\n",
    "from scipy.optimize import fsolve\n",
    "from matplotlib import pyplot as plt\n",
    "import scipy.linalg as la"
   ]
  },
  {
   "cell_type": "markdown",
   "metadata": {},
   "source": [
    "**EXERCISE 2.1**"
   ]
  },
  {
   "cell_type": "code",
   "execution_count": 2,
   "metadata": {},
   "outputs": [],
   "source": [
    "β = .442\n",
    "δ = .6415\n",
    "σ = 3.\n",
    "A = 1.\n",
    "α = .35\n",
    "\n",
    "nvec = np.array([1.0, 1.0, 0.2])"
   ]
  },
  {
   "cell_type": "code",
   "execution_count": 99,
   "metadata": {},
   "outputs": [],
   "source": [
    "def w_fun(K, A, α):\n",
    "    \n",
    "    w = (1-α)*A*( (K/2.2)**α )\n",
    "    \n",
    "    return w\n",
    "\n",
    "def r_fun(K, A, α, δ):\n",
    "    \n",
    "    r = α*A* ( (2.2/K)**(1 - α) ) - δ\n",
    "    \n",
    "    return r"
   ]
  },
  {
   "cell_type": "code",
   "execution_count": 4,
   "metadata": {},
   "outputs": [],
   "source": [
    "def feasible(f_params, bvec_guess):\n",
    "    K_cnstr = np.full(1, False)\n",
    "    c_cnstr = np.full(3, False)\n",
    "    b_cnstr = np.full(2, False)\n",
    "     \n",
    "    nvec, A, α, δ = f_params\n",
    "    b2, b3 = bvec_guess\n",
    "    \n",
    "    K = b2 + b3\n",
    "    if K <= 0: #FEASIBILITY TEST 1\n",
    "        K_cnstr[0] = True\n",
    "    \n",
    "    w = w_fun(K, A, α)\n",
    "    r = r_fun(K, A, α, δ)\n",
    "    \n",
    "    # budget constraints: cons<0?\n",
    "    c = np.zeros(3)\n",
    "    c[0] = nvec[0]*w - b2  \n",
    "    c[1] = nvec[1]*w + (1+r) * b2 - b3 \n",
    "    c[2] = nvec[2]*w + (1+r) * b3 \n",
    "    \n",
    "    c_cnstr = (c <= 0) #FEASIBILITY TEST 2\n",
    "        \n",
    "    if c_cnstr[0] == True: #FEASIBILITY TEST 3\n",
    "        b_cnstr[0] = True\n",
    "    if c_cnstr[1] == True:\n",
    "        b_cnstr[0] = True\n",
    "        b_cnstr[1] = True\n",
    "    if c_cnstr[2] == True:\n",
    "        b_cnstr[1] = True\n",
    "    \n",
    "    return b_cnstr, c_cnstr, K_cnstr"
   ]
  },
  {
   "cell_type": "code",
   "execution_count": 5,
   "metadata": {},
   "outputs": [
    {
     "name": "stdout",
     "output_type": "stream",
     "text": [
      "Feasibility test b2, b3: [ True False]\n",
      "Feasibility test C: [ True False False]\n",
      "Feasibility test K: [False]\n"
     ]
    }
   ],
   "source": [
    "#execute the feasibility tests\n",
    "f_params = (nvec, A, α, δ)\n",
    "bvec_guess = np.array([1.0,1.2])\n",
    "\n",
    "b_cnstr, c_cnstr, K_cnstr = feasible(f_params, bvec_guess)\n",
    "print(\"Feasibility test b2, b3:\", b_cnstr)\n",
    "print(\"Feasibility test C:\", c_cnstr)\n",
    "print(\"Feasibility test K:\", K_cnstr)"
   ]
  },
  {
   "cell_type": "code",
   "execution_count": 6,
   "metadata": {},
   "outputs": [
    {
     "name": "stdout",
     "output_type": "stream",
     "text": [
      "Feasibility test b2, b3: [False False]\n",
      "Feasibility test C: [False False False]\n",
      "Feasibility test K: [False]\n"
     ]
    }
   ],
   "source": [
    "#execute the feasibility tests\n",
    "f_params = (nvec, A, α, δ)\n",
    "bvec_guess = np.array([0.06,-0.001])\n",
    "\n",
    "b_cnstr, c_cnstr, K_cnstr = feasible(f_params, bvec_guess)\n",
    "print(\"Feasibility test b2, b3:\", b_cnstr)\n",
    "print(\"Feasibility test C:\", c_cnstr)\n",
    "print(\"Feasibility test K:\", K_cnstr)"
   ]
  },
  {
   "cell_type": "code",
   "execution_count": 7,
   "metadata": {},
   "outputs": [
    {
     "name": "stdout",
     "output_type": "stream",
     "text": [
      "Feasibility test b2, b3: [False False]\n",
      "Feasibility test C: [False False False]\n",
      "Feasibility test K: [False]\n"
     ]
    }
   ],
   "source": [
    "#execute the feasibility tests\n",
    "f_params = (nvec, A, α, δ)\n",
    "bvec_guess = np.array([0.1,0.1])\n",
    "\n",
    "b_cnstr, c_cnstr, K_cnstr = feasible(f_params, bvec_guess)\n",
    "print(\"Feasibility test b2, b3:\", b_cnstr)\n",
    "print(\"Feasibility test C:\", c_cnstr)\n",
    "print(\"Feasibility test K:\", K_cnstr)"
   ]
  },
  {
   "cell_type": "markdown",
   "metadata": {},
   "source": [
    "**EXERCISE 2.2**"
   ]
  },
  {
   "cell_type": "code",
   "execution_count": 8,
   "metadata": {},
   "outputs": [],
   "source": [
    "def EulErr(bvec, *args):\n",
    "    \n",
    "    β, σ, nvec, L, A, α, δ, SS_tol = args\n",
    "    b2, b3 = bvec\n",
    "    \n",
    "    K = b2 + b3\n",
    "    w = w_fun(K, A, α)\n",
    "    r = r_fun(K, A, α, δ)\n",
    "    \n",
    "    c = np.zeros(3)\n",
    "    c[0] = nvec[0]*w - b2  \n",
    "    c[1] = nvec[1]*w + (1+r) * b2 - b3 \n",
    "    c[2] = nvec[2]*w + (1+r) * b3\n",
    "    \n",
    "    u_prime = np.zeros(3)\n",
    "    for i in range(len(c)):\n",
    "        u_prime[i] = c[i]**(-σ)\n",
    "    \n",
    "    Err1 = u_prime[0] - β*(1+r)*u_prime[1]\n",
    "    Err2 = u_prime[1] - β*(1+r)*u_prime[2]\n",
    "    \n",
    "    return Err1, Err2"
   ]
  },
  {
   "cell_type": "code",
   "execution_count": 9,
   "metadata": {},
   "outputs": [],
   "source": [
    "def get_SS(params, bvec_guess, SS_graphs=True):\n",
    "    start_time = time.clock()\n",
    "    \n",
    "    β, σ, nvec, L, A, α, δ, SS_tol = params\n",
    "    b2, b3 = bvec_guess\n",
    "    \n",
    "    b_ss = np.zeros(2)\n",
    "    c_ss = np.zeros(3)\n",
    "    EulErr_ss = np.zeros(2)\n",
    "    \n",
    "    b2_ss, b3_ss = fsolve(EulErr, bvec_guess, params, xtol=SS_tol)\n",
    "    b_ss = [b2_ss, b3_ss]\n",
    "\n",
    "    K_ss = b2_ss + b3_ss\n",
    "    w_ss = w_fun(K_ss, A, α)\n",
    "    r_ss = r_fun(K_ss, A, α, δ)   \n",
    "    \n",
    "    c_ss[0] = nvec[0]*w_ss - b2_ss  \n",
    "    c_ss[1] = nvec[1]*w_ss + (1+r_ss) * b2_ss - b3_ss \n",
    "    c_ss[2] = nvec[2]*w_ss + (1+r_ss) * b3_ss\n",
    "    C_ss = c_ss[0]+ c_ss[1] +c_ss[2]\n",
    "    \n",
    "    Y_ss = A * (K_ss)**α * L**(1-α)\n",
    "    \n",
    "    EulErr_ss = EulErr(b_ss, *params)\n",
    "    \n",
    "    RCerr_ss = Y_ss - C_ss - δ * K_ss\n",
    "    \n",
    "    ss_time = time.clock() - start_time\n",
    "    \n",
    "    if SS_graphs == True:\n",
    "        xlist = np.arange(1, 4, 1)\n",
    "        ylist = c_ss\n",
    "        ylist2 = [0, b2_ss, b3_ss]\n",
    "        plt.plot(list(xlist), list(ylist), label=\"Consumption\")\n",
    "        plt.plot(list(xlist), list(ylist2), label=\"Savings (t-1)\")\n",
    "        plt.xlabel(\"Phase of life\")\n",
    "        plt.xticks(xlist)\n",
    "        plt.legend()\n",
    "        plt.grid()\n",
    "        plt.show()\n",
    "    \n",
    "    return {'b_ss': b_ss, 'c_ss': c_ss, 'w_ss': w_ss, 'r_ss': r_ss, \\\n",
    "            'K_ss': K_ss, 'Y_ss': Y_ss, 'C_ss': C_ss, 'EulErr_ss': EulErr_ss, \\\n",
    "            'RCerr_ss': RCerr_ss, 'ss_time': ss_time}"
   ]
  },
  {
   "cell_type": "code",
   "execution_count": 10,
   "metadata": {},
   "outputs": [],
   "source": [
    "L = 2.2\n",
    "SS_tol = .001\n",
    "params = ((β, σ, nvec, L, A, α, δ, SS_tol))\n",
    "bvec_guess = np.array([0.1,0.1])\n",
    "\n",
    "#ss_output = get_SS(params, bvec_guess, SS_graphs=True)"
   ]
  },
  {
   "cell_type": "code",
   "execution_count": 11,
   "metadata": {},
   "outputs": [
    {
     "data": {
      "text/plain": [
       "(153.24316594590596, -34.0285338336267)"
      ]
     },
     "execution_count": 11,
     "metadata": {},
     "output_type": "execute_result"
    }
   ],
   "source": [
    "EulErr(bvec_guess, *params) #test"
   ]
  },
  {
   "cell_type": "code",
   "execution_count": 12,
   "metadata": {},
   "outputs": [
    {
     "name": "stderr",
     "output_type": "stream",
     "text": [
      "C:\\Users\\woute\\Anaconda3\\lib\\site-packages\\ipykernel_launcher.py:2: DeprecationWarning: time.clock has been deprecated in Python 3.3 and will be removed from Python 3.8: use time.perf_counter or time.process_time instead\n",
      "  \n",
      "C:\\Users\\woute\\Anaconda3\\lib\\site-packages\\ipykernel_launcher.py:29: DeprecationWarning: time.clock has been deprecated in Python 3.3 and will be removed from Python 3.8: use time.perf_counter or time.process_time instead\n"
     ]
    },
    {
     "data": {
      "image/png": "[encoded data removed]",
      "text/plain": [
       "<Figure size 432x288 with 1 Axes>"
      ]
     },
     "metadata": {
      "needs_background": "light"
     },
     "output_type": "display_data"
    },
    {
     "data": {
      "text/plain": [
       "{'b_ss': [0.019312619463691887, 0.05841242850003624],\n",
       " 'c_ss': array([0.18241333, 0.20961424, 0.24087656]),\n",
       " 'w_ss': 0.20172594930955895,\n",
       " 'r_ss': 2.433025771148647,\n",
       " 'K_ss': 0.07772504796372812,\n",
       " 'Y_ss': 0.6827647515092765,\n",
       " 'C_ss': 0.6329041332405448,\n",
       " 'EulErr_ss': (-0.00253830951726286, 0.0054862020055423955),\n",
       " 'RCerr_ss': 9.020562075079397e-17,\n",
       " 'ss_time': 0.001039461999997826}"
      ]
     },
     "execution_count": 12,
     "metadata": {},
     "output_type": "execute_result"
    }
   ],
   "source": [
    "get_SS(params, bvec_guess)"
   ]
  },
  {
   "cell_type": "code",
   "execution_count": 13,
   "metadata": {},
   "outputs": [
    {
     "name": "stderr",
     "output_type": "stream",
     "text": [
      "C:\\Users\\woute\\Anaconda3\\lib\\site-packages\\ipykernel_launcher.py:2: DeprecationWarning: time.clock has been deprecated in Python 3.3 and will be removed from Python 3.8: use time.perf_counter or time.process_time instead\n",
      "  \n",
      "C:\\Users\\woute\\Anaconda3\\lib\\site-packages\\ipykernel_launcher.py:29: DeprecationWarning: time.clock has been deprecated in Python 3.3 and will be removed from Python 3.8: use time.perf_counter or time.process_time instead\n"
     ]
    },
    {
     "data": {
      "image/png": "[encoded data removed]",
      "text/plain": [
       "<Figure size 432x288 with 1 Axes>"
      ]
     },
     "metadata": {
      "needs_background": "light"
     },
     "output_type": "display_data"
    },
    {
     "data": {
      "text/plain": [
       "{'b_ss': [0.028177158966823063, 0.0768658282087841],\n",
       " 'c_ss': array([0.1959755 , 0.22861645, 0.26669351]),\n",
       " 'w_ss': 0.2241526567163615,\n",
       " 'r_ss': 1.8863668551637944,\n",
       " 'K_ss': 0.10504298717560716,\n",
       " 'Y_ss': 0.7586705304246083,\n",
       " 'C_ss': 0.6912854541514561,\n",
       " 'EulErr_ss': (0.0008754449501395811, 0.0001379523985463038),\n",
       " 'RCerr_ss': 1.6653345369377348e-16,\n",
       " 'ss_time': 0.0005304049999992344}"
      ]
     },
     "execution_count": 13,
     "metadata": {},
     "output_type": "execute_result"
    }
   ],
   "source": [
    "β = .55\n",
    "params = ((β, σ, nvec, L, A, α, δ, SS_tol))\n",
    "get_SS(params, bvec_guess)"
   ]
  },
  {
   "cell_type": "markdown",
   "metadata": {},
   "source": [
    "Increasing $\\beta$ (i.e. agents' their patience), leads to higher steady-state levels of savings and consumption for all ages. Intuitively, as agents are more patient, they are more willing to save for the future. As a result, the higher built up capital leads to higher production and, consequently, consumption. The growth of $Y$ moverover, coincides with higher wages and a lower interest rate (i.e. a lower return on the saved capital)."
   ]
  },
  {
   "cell_type": "markdown",
   "metadata": {},
   "source": [
    "**EXERCISE 2.3**"
   ]
  },
  {
   "cell_type": "code",
   "execution_count": 170,
   "metadata": {},
   "outputs": [],
   "source": [
    "#reset beta\n",
    "β = .442\n",
    "\n",
    "# Additional parameters\n",
    "T = 25\n",
    "tol = 1e-9\n",
    "ξ = .2\n",
    "MaxItr = 1000"
   ]
  },
  {
   "cell_type": "code",
   "execution_count": 171,
   "metadata": {},
   "outputs": [
    {
     "name": "stdout",
     "output_type": "stream",
     "text": [
      "0.07772504796372812\n"
     ]
    },
    {
     "name": "stderr",
     "output_type": "stream",
     "text": [
      "C:\\Users\\woute\\Anaconda3\\lib\\site-packages\\ipykernel_launcher.py:2: DeprecationWarning: time.clock has been deprecated in Python 3.3 and will be removed from Python 3.8: use time.perf_counter or time.process_time instead\n",
      "  \n",
      "C:\\Users\\woute\\Anaconda3\\lib\\site-packages\\ipykernel_launcher.py:29: DeprecationWarning: time.clock has been deprecated in Python 3.3 and will be removed from Python 3.8: use time.perf_counter or time.process_time instead\n"
     ]
    }
   ],
   "source": [
    "# Guess T where economy in SS\n",
    "params = ((β, σ, nvec, L, A, α, δ, SS_tol))\n",
    "ss_economy = get_SS(params, bvec_guess, False)\n",
    "b2_bar, b3_bar = ss_economy['b_ss']\n",
    "K_bar = b2_bar + b3_bar\n",
    "print(K_bar)\n",
    "\n",
    "# Initial transition path\n",
    "b2_1 = .8*b2_bar\n",
    "b3_1 = 1.1*b3_bar\n",
    "K_1 = b2_1 + b3_1\n",
    "\n",
    "KPath = np.linspace(K_1, K_bar, T)\n",
    "KPath = np.append(KPath, K_bar)\n",
    "#print(KPath)"
   ]
  },
  {
   "cell_type": "code",
   "execution_count": 172,
   "metadata": {},
   "outputs": [],
   "source": [
    "def w_fun(K, A, α):\n",
    "    \n",
    "    w = (1-α)*A*( (K/2.2)**α )\n",
    "    \n",
    "    return w\n",
    "\n",
    "def r_fun(K, A, α, δ):\n",
    "    \n",
    "    r = α*A* ( (2.2/K)**(1 - α) ) - δ\n",
    "    \n",
    "    return r"
   ]
  },
  {
   "cell_type": "code",
   "execution_count": 173,
   "metadata": {},
   "outputs": [],
   "source": [
    "wPath = w_fun(KPath, A, α)\n",
    "rPath = r_fun(KPath, A, α, δ)\n",
    "w_bar = w_fun(K_bar, A, α)\n",
    "r_bar = r_fun(K_bar, A, α, δ)\n",
    "\n",
    "wPath = np.append(wPath, w_bar)\n",
    "rPath = np.append(rPath, r_bar)\n",
    "\n",
    "#print(wPath)\n",
    "#print(rPath)"
   ]
  },
  {
   "cell_type": "code",
   "execution_count": 174,
   "metadata": {},
   "outputs": [],
   "source": [
    "def Eul_b3(b3p, *args):\n",
    "\n",
    "    params, rpath, wpath, b2 = args\n",
    "    β, σ, nvec, L, A, α, δ, SS_tol = params\n",
    "\n",
    "    c1 = wPath[0]*nvec[1] + (1+rPath[0])*b2 - b3p\n",
    "    c2 = wpath[1]*nvec[2] + (1+rPath[1])*b3p \n",
    "    \n",
    "    # Calculate marginal utility of consumption\n",
    "    u_prime1 = c1**(-σ)\n",
    "    u_prime2 = c2**(-σ)\n",
    "    \n",
    "    # Calculate error from intertemporal Euler Equation\n",
    "    Err_b3p = u_prime1 - β*(1+rPath[1])*u_prime2\n",
    "    \n",
    "    return Err_b3p"
   ]
  },
  {
   "cell_type": "code",
   "execution_count": 175,
   "metadata": {},
   "outputs": [],
   "source": [
    "def Eul_b23(bvec, *args):\n",
    "\n",
    "    params, rPath, wPath = args\n",
    "    β, σ, nvec, L, A, α, δ, SS_tol = params  \n",
    "    \n",
    "    c = np.zeros(3)\n",
    "    c[0] = nvec[0]*wPath[0] - bvec[0]  \n",
    "    c[1] = nvec[1]*wPath[1] + (1+rPath[0]) * bvec[0] - bvec[1] \n",
    "    c[2] = nvec[2]*wPath[2] + (1+rPath[1]) * bvec[1]\n",
    "    \n",
    "    u_prime = np.zeros(3)\n",
    "    for i in range(len(c)):\n",
    "        u_prime[i] = c[i]**(-σ)\n",
    "    \n",
    "    Err1 = u_prime[0] - β*(1+rPath[0])*u_prime[1]\n",
    "    Err2 = u_prime[1] - β*(1+rPath[1])*u_prime[2]\n",
    "    \n",
    "    return [Err1, Err2]"
   ]
  },
  {
   "cell_type": "code",
   "execution_count": 180,
   "metadata": {},
   "outputs": [],
   "source": [
    "ϵ = tol + 1\n",
    "itr = 1\n",
    "\n",
    "while (itr < MaxItr and ϵ > tol):\n",
    "    #print(itr)\n",
    "    bPaths = np.zeros((T+1,2))\n",
    "    ErrPaths = np.zeros((T+1, 2))\n",
    "\n",
    "    bPaths[0,0] = b2_1\n",
    "    bPaths[0,1] = b3_1\n",
    "\n",
    "    Eul_b3_arg = params, rPath[:2], wPath[:2], b2_1    \n",
    "    b3_p, b3_p_info, xtr, ytr = fsolve(Eul_b3, b3_1, Eul_b3_arg, xtol=SS_tol,full_output=1)\n",
    "    #print(b3_p)\n",
    "    \n",
    "    bPaths[1,1] = b3_p\n",
    "    ErrPaths[1,1] = b3_p_info['fvec']\n",
    "     \n",
    "    for tt in range(1,T):\n",
    "        #print(rPath[tt:tt+2])\n",
    "        Eul_b23_arg = params, rPath[tt:tt+2], wPath[tt-1:tt+2]\n",
    "        b23, b23_info, xtr, ytr = fsolve(Eul_b23, [.10, .10], Eul_b23_arg, xtol=SS_tol,full_output=1)\n",
    "        #print(b23)\n",
    "        \n",
    "        bPaths[tt,0] = b23[0]\n",
    "        bPaths[tt+1,1] = b23[1]\n",
    "        ErrPaths[tt,0] = b23_info['fvec'][0]\n",
    "        ErrPaths[tt+1,1] = b23_info['fvec'][1]\n",
    "    \n",
    "    MaxAbsErrs = np.abs(ErrPaths[1:-1,:]).max(axis=0)\n",
    "    \n",
    "    KPath_prime = bPaths[:-1].sum(axis=1)\n",
    "    KPath_prime = np.append(KPath_prime, K_bar)\n",
    "    \n",
    "    ϵ = la.norm(KPath_prime - KPath, 2)\n",
    "    \n",
    "    KPath_p = ξ*KPath_prime + (1-ξ)*KPath\n",
    "    KPath = np.copy(KPath_p)\n",
    "    \n",
    "    wPath = w_fun(KPath, A, α)\n",
    "    rPath = r_fun(KPath, A, α, δ)    \n",
    "    \n",
    "    itr = itr + 1   "
   ]
  },
  {
   "cell_type": "code",
   "execution_count": 182,
   "metadata": {},
   "outputs": [
    {
     "name": "stdout",
     "output_type": "stream",
     "text": [
      "[0.00039231 0.00080666]\n"
     ]
    }
   ],
   "source": [
    "print(MaxAbsErrs)"
   ]
  },
  {
   "cell_type": "code",
   "execution_count": 186,
   "metadata": {},
   "outputs": [
    {
     "name": "stdout",
     "output_type": "stream",
     "text": [
      "0.01931360115250051\n"
     ]
    }
   ],
   "source": [
    "Yt = A * (KPath[:-1] ** α) * (L **(1 - α))\n",
    "Ct = L * wPath[:-1] + (1 + rPath[:-1]) * bPaths[:-1,0] - bPaths[1:,0] + (1 + rPath[:-1]) * bPaths[:-1,1] - bPaths[1:,1]\n",
    "RC_Err = Yt - Ct - KPath[1:] + (1 - δ) * KPath[:-1]\n",
    "MaxRC_Err = np.abs(RC_Err).max()\n",
    "print(MaxRC_Err)"
   ]
  },
  {
   "cell_type": "code",
   "execution_count": 187,
   "metadata": {},
   "outputs": [
    {
     "data": {
      "image/png": "[encoded data removed]",
      "text/plain": [
       "<Figure size 432x288 with 1 Axes>"
      ]
     },
     "metadata": {
      "needs_background": "light"
     },
     "output_type": "display_data"
    },
    {
     "data": {
      "image/png": "[encoded data removed]",
      "text/plain": [
       "<Figure size 432x288 with 1 Axes>"
      ]
     },
     "metadata": {
      "needs_background": "light"
     },
     "output_type": "display_data"
    },
    {
     "data": {
      "image/png": "[encoded data removed]",
      "text/plain": [
       "<Figure size 432x288 with 1 Axes>"
      ]
     },
     "metadata": {
      "needs_background": "light"
     },
     "output_type": "display_data"
    }
   ],
   "source": [
    "plt.plot(KPath, label='Aggregate Capital Stock')\n",
    "plt.xlabel('Time')\n",
    "plt.grid()\n",
    "plt.legend()\n",
    "plt.show()\n",
    "\n",
    "plt.plot(rPath, label='Interest Rate')\n",
    "plt.xlabel('Time')\n",
    "plt.grid()\n",
    "plt.legend()\n",
    "plt.show()\n",
    "\n",
    "plt.plot(wPath, label='Wage')\n",
    "plt.xlabel('Time')\n",
    "plt.grid()\n",
    "plt.legend()\n",
    "plt.show()"
   ]
  },
  {
   "cell_type": "code",
   "execution_count": 191,
   "metadata": {},
   "outputs": [
    {
     "name": "stdout",
     "output_type": "stream",
     "text": [
      "[ 2 10 11 12 13 14 15 16 17 18 19 20 21 22 23 24 25]\n"
     ]
    }
   ],
   "source": [
    "print(np.where(np.abs(KPath - K_bar) < 0.00001)[0])"
   ]
  },
  {
   "cell_type": "markdown",
   "metadata": {},
   "source": [
    "It takes 2 periods for the economy to get within 0.00001 of the steady-state aggregate capital stock.\n",
    "\n",
    "After 10 periods the aggregate capital stock never again is farther than 0.00001 away from the steady-state."
   ]
  },
  {
   "cell_type": "markdown",
   "metadata": {},
   "source": [
    "**EXERCISE 3.2**"
   ]
  },
  {
   "cell_type": "code",
   "execution_count": 118,
   "metadata": {},
   "outputs": [],
   "source": [
    "S = 80\n",
    "years = 80\n",
    "\n",
    "β = .96**(years/S)\n",
    "δ = 1. - (1. - 0.05)**(years/S)\n",
    "σ = 3.\n",
    "A = 1.\n",
    "α = .35\n",
    "\n",
    "nvec = np.ones(S)\n",
    "bound= round((2*S/3))\n",
    "nvec[bound:]=0.2\n",
    "#print(bound)\n",
    "#print(nvec)\n",
    "L = np.sum(nvec)\n",
    "#print(L)"
   ]
  },
  {
   "cell_type": "code",
   "execution_count": 119,
   "metadata": {},
   "outputs": [],
   "source": [
    "def w_fun(K, L, A, α):\n",
    "    \n",
    "    w = (1-α)*A*( (K/L)**α )\n",
    "    \n",
    "    return w\n",
    "\n",
    "def r_fun(K, L, A, α, δ):\n",
    "    \n",
    "    r = α*A* ( (L/K)**(1 - α) ) - δ\n",
    "    \n",
    "    return r"
   ]
  },
  {
   "cell_type": "code",
   "execution_count": 120,
   "metadata": {},
   "outputs": [],
   "source": [
    "def EulErr(bvec, *args):\n",
    "    \n",
    "    β, σ, nvec, L, A, α, δ, SS_tol = args\n",
    "    \n",
    "    K = np.sum(bvec)\n",
    "    w = w_fun(K, L, A, α)\n",
    "    r = r_fun(K, L, A, α, δ)\n",
    "    \n",
    "    c = np.zeros_like(bvec)\n",
    "    c = np.append(c, 0)\n",
    "\n",
    "    T = len(bvec)+1\n",
    "    for cc in range(T):\n",
    "        #print(c)\n",
    "        if cc == 0:\n",
    "            c[cc] = nvec[cc]*w - bvec[cc]  \n",
    "        elif cc == T-1:\n",
    "            c[cc] = nvec[cc]*w + (1+r) * bvec[cc-1]  \n",
    "        else:\n",
    "            c[cc] = nvec[cc]*w + (1+r) * bvec[cc-1] - bvec[cc]    \n",
    "    \n",
    "    #print(c)\n",
    "            \n",
    "    u_prime = np.zeros_like(c)\n",
    "    for i in range(T):\n",
    "        u_prime[i] = c[i]**(-σ)\n",
    "    \n",
    "    Errors = np.zeros_like(bvec)\n",
    "    for i in range(T-1):\n",
    "            Errors[i] = β*(1+r)*u_prime[i+1] - u_prime[i]\n",
    "    \n",
    "    #print(Errors)\n",
    "    \n",
    "    return Errors"
   ]
  },
  {
   "cell_type": "code",
   "execution_count": 135,
   "metadata": {},
   "outputs": [],
   "source": [
    "def get_SS(params, bvec_guess, SS_graphs=True):\n",
    "    start_time = time.clock()\n",
    "    \n",
    "    β, σ, nvec, L, A, α, δ, SS_tol = params\n",
    "    \n",
    "    b_ss = np.zeros_like(bvec_guess)\n",
    "    c_ss = np.zeros_like(b_ss)\n",
    "    c_ss = np.append(c_ss, 0)\n",
    "    \n",
    "    b_ss = fsolve(EulErr, bvec_guess, params, xtol=SS_tol)\n",
    "    #print(b_ss)\n",
    "    \n",
    "    K_ss = np.sum(b_ss)\n",
    "    w_ss = w_fun(K_ss, L, A, α)\n",
    "    r_ss = r_fun(K_ss, L, A, α, δ)   \n",
    "    \n",
    "    T = len(bvec_guess)+1\n",
    "    for cc in range(T):\n",
    "        if cc == 0:\n",
    "            c_ss[cc] = nvec[cc]*w_ss - b_ss[cc]  \n",
    "        elif cc == T-1:\n",
    "            c_ss[cc] = nvec[cc]*w_ss + (1+r_ss) * b_ss[cc-1]  \n",
    "        else:\n",
    "            c_ss[cc] = nvec[cc]*w_ss + (1+r_ss) * b_ss[cc-1] - b_ss[cc]\n",
    "    \n",
    "    C_ss = np.sum(c_ss)\n",
    "    Y_ss = A * (K_ss)**α * L**(1-α)\n",
    "    \n",
    "    EulErr_ss = np.zeros_like(bvec_guess)\n",
    "    EulErr_ss = EulErr(b_ss, *params)\n",
    "    \n",
    "    RCerr_ss = Y_ss - C_ss - δ * K_ss\n",
    "    \n",
    "    ss_time = time.clock() - start_time\n",
    "    \n",
    "    if SS_graphs == True:\n",
    "        xlist = np.arange(1, T+1, 1)\n",
    "        xlist2 = np.arange(0, T+1, 5)\n",
    "        ylist = c_ss\n",
    "        ylist2 = [0]\n",
    "        ylist2 = np.append(ylist2, b_ss)\n",
    "        plt.figure(figsize=(15,8))\n",
    "        plt.plot(list(xlist), list(ylist), label=\"Consumption\")\n",
    "        plt.plot(list(xlist), list(ylist2), label=\"Savings (t-1)\")\n",
    "        plt.xlabel(\"Phase of life\")\n",
    "        plt.xticks(xlist2)\n",
    "        plt.legend()\n",
    "        plt.grid()\n",
    "        plt.show()\n",
    "    \n",
    "    return {'b_ss': b_ss, 'c_ss': c_ss, 'w_ss': w_ss, 'r_ss': r_ss, \\\n",
    "            'K_ss': K_ss, 'Y_ss': Y_ss, 'C_ss': C_ss, 'EulErr_ss': EulErr_ss, \\\n",
    "            'RCerr_ss': RCerr_ss, 'ss_time': ss_time}"
   ]
  },
  {
   "cell_type": "code",
   "execution_count": 136,
   "metadata": {},
   "outputs": [
    {
     "name": "stderr",
     "output_type": "stream",
     "text": [
      "C:\\Users\\woute\\Anaconda3\\lib\\site-packages\\ipykernel_launcher.py:2: DeprecationWarning: time.clock has been deprecated in Python 3.3 and will be removed from Python 3.8: use time.perf_counter or time.process_time instead\n",
      "  \n",
      "C:\\Users\\woute\\Anaconda3\\lib\\site-packages\\ipykernel_launcher.py:34: DeprecationWarning: time.clock has been deprecated in Python 3.3 and will be removed from Python 3.8: use time.perf_counter or time.process_time instead\n"
     ]
    },
    {
     "data": {
      "image/png": "[encoded data removed]",
      "text/plain": [
       "<Figure size 1080x576 with 1 Axes>"
      ]
     },
     "metadata": {
      "needs_background": "light"
     },
     "output_type": "display_data"
    }
   ],
   "source": [
    "SS_tol = .001\n",
    "params = ((β, σ, nvec, L, A, α, δ, SS_tol))\n",
    "\n",
    "bvec_guess = np.ones(S-1)*0.01\n",
    "\n",
    "ss_output = get_SS(params, bvec_guess)"
   ]
  },
  {
   "cell_type": "code",
   "execution_count": 124,
   "metadata": {},
   "outputs": [
    {
     "name": "stdout",
     "output_type": "stream",
     "text": [
      "Running time: 0.16214748299989878\n",
      "Resource constraint error: -1.7763568394002505e-14\n"
     ]
    }
   ],
   "source": [
    "print(\"Running time:\", ss_output['ss_time'])\n",
    "#print(ss_output['EulErr_ss'])\n",
    "print(\"Resource constraint error:\", ss_output['RCerr_ss'])"
   ]
  },
  {
   "cell_type": "code",
   "execution_count": null,
   "metadata": {},
   "outputs": [],
   "source": []
  },
  {
   "cell_type": "code",
   "execution_count": 144,
   "metadata": {},
   "outputs": [
    {
     "name": "stderr",
     "output_type": "stream",
     "text": [
      "C:\\Users\\woute\\Anaconda3\\lib\\site-packages\\ipykernel_launcher.py:2: DeprecationWarning: time.clock has been deprecated in Python 3.3 and will be removed from Python 3.8: use time.perf_counter or time.process_time instead\n",
      "  \n",
      "C:\\Users\\woute\\Anaconda3\\lib\\site-packages\\ipykernel_launcher.py:34: DeprecationWarning: time.clock has been deprecated in Python 3.3 and will be removed from Python 3.8: use time.perf_counter or time.process_time instead\n"
     ]
    },
    {
     "data": {
      "image/png": "[encoded data removed]",
      "text/plain": [
       "<Figure size 1080x576 with 1 Axes>"
      ]
     },
     "metadata": {
      "needs_background": "light"
     },
     "output_type": "display_data"
    }
   ],
   "source": [
    "SS_tol = .001\n",
    "\n",
    "nvec = np.ones(S)\n",
    "bound= round(S/2)\n",
    "nvec[bound:]=0.2\n",
    "\n",
    "params = ((β, σ, nvec, L, A, α, δ, SS_tol))\n",
    "\n",
    "bvec_guess = np.ones(S-1)*0.2\n",
    "\n",
    "ss_output = get_SS(params, bvec_guess)"
   ]
  },
  {
   "cell_type": "code",
   "execution_count": 138,
   "metadata": {},
   "outputs": [
    {
     "name": "stdout",
     "output_type": "stream",
     "text": [
      "{'b_ss': array([ 0.14711779,  0.30537234,  0.4749915 ,  0.65620846,  0.84926295,\n",
      "        1.05440042,  1.27187238,  1.50193676,  1.74485798,  2.0009071 ,\n",
      "        2.27036196,  2.55350741,  2.85063541,  3.16204523,  3.48804366,\n",
      "        3.82894511,  4.18507186,  4.55675425,  4.94433081,  5.34814854,\n",
      "        5.76856301,  6.20593866,  6.66064893,  7.13307658,  7.62361391,\n",
      "        8.13266297,  8.66063565,  9.20795382,  9.77504981, 10.36236846,\n",
      "       10.97037031, 11.59953339, 12.25035007, 12.92331918, 13.61893876,\n",
      "       14.33770457, 15.08011294, 15.8466869 , 16.63594738, 17.45254407,\n",
      "       17.09654685, 16.73795979, 16.37668595, 16.01262752, 15.64568287,\n",
      "       15.27574647, 14.90271159, 14.52647172, 14.14691984, 13.76394681,\n",
      "       13.37743971, 12.9872809 , 12.59334784, 12.19551358, 11.79364769,\n",
      "       11.3876172 , 10.97728751, 10.56252279, 10.14318593,  9.71913797,\n",
      "        9.29023711,  8.85633761,  8.41728897,  7.97293576,  7.52311806,\n",
      "        7.06767245,  6.60643265,  6.13922922,  5.66588856,  5.18623216,\n",
      "        4.70007722,  4.20723774,  3.70752351,  3.20073746,  2.68667807,\n",
      "        2.16514284,  1.63592549,  1.09881051,  0.55357608]), 'c_ss': array([1.35078141, 1.34321298, 1.33568682, 1.32820312, 1.32076099,\n",
      "       1.31336054, 1.30600163, 1.29868397, 1.29140732, 1.28417147,\n",
      "       1.27697616, 1.26982118, 1.2627063 , 1.25563128, 1.2485959 ,\n",
      "       1.24159994, 1.23464317, 1.22772536, 1.22084631, 1.21400578,\n",
      "       1.2072036 , 1.20043954, 1.19371342, 1.187025  , 1.18037401,\n",
      "       1.17376022, 1.16718353, 1.16064399, 1.15414131, 1.14767352,\n",
      "       1.14123569, 1.13482148, 1.12842817, 1.12206125, 1.11573359,\n",
      "       1.10945954, 1.10325059, 1.09709204, 1.0929987 , 1.08480594,\n",
      "       1.07888697, 1.07284212, 1.06683142, 1.06085332, 1.05490935,\n",
      "       1.0490009 , 1.04312659, 1.03728366, 1.03147   , 1.02568516,\n",
      "       1.01993025, 1.01420726, 1.00851825, 1.00286464, 0.99724684,\n",
      "       0.9916642 , 0.98611517, 0.9805977 , 0.97510975, 0.96964987,\n",
      "       0.96421753, 0.95881322, 0.95343816, 0.94809365, 0.94278039,\n",
      "       0.937498  , 0.93224541, 0.92702171, 0.92182696, 0.91666186,\n",
      "       0.91152639, 0.90641927, 0.90134025, 0.89629155, 0.89127283,\n",
      "       0.88628021, 0.88131253, 0.87637405, 0.87146582, 0.86658286]), 'w_ss': 1.4978992027719944, 'r_ss': 0.024254911204829283, 'K_ss': 634.3441532973764, 'Y_ss': 134.5804822182838, 'C_ss': 87.28512284458625, 'EulErr_ss': array([-1.14672071e-07,  2.16837864e-09, -2.62490638e-07,  7.69782950e-08,\n",
      "        9.39238904e-08,  2.13347053e-08,  6.66819838e-09, -1.04946890e-08,\n",
      "       -2.55769470e-08, -3.83051921e-08, -4.86435727e-08, -5.54123433e-08,\n",
      "       -5.89048509e-08, -5.82802405e-08, -5.28631033e-08, -4.24346017e-08,\n",
      "       -2.72616814e-08, -1.00626824e-08,  9.52838142e-10, -5.05347775e-09,\n",
      "       -3.80228977e-08, -8.63600935e-08, -1.04889883e-07, -4.68004433e-08,\n",
      "        5.69911018e-08, -2.72671352e-09, -4.85352709e-07, -8.71391107e-07,\n",
      "        1.74765124e-06,  1.26988504e-05,  3.51278754e-05,  6.32976006e-05,\n",
      "        8.23071493e-05,  7.73559067e-05,  4.37742176e-05, -1.48611893e-05,\n",
      "       -4.69874227e-05, -4.26096606e-03,  4.38945492e-03, -3.46933007e-04,\n",
      "       -5.86071537e-07, -1.21634963e-06,  1.23970333e-06, -2.21339134e-07,\n",
      "       -5.61011049e-06, -8.33706278e-06, -4.62511577e-06,  4.32368513e-06,\n",
      "        1.44412590e-05,  2.15224222e-05,  2.29011637e-05,  1.80035787e-05,\n",
      "        8.11722133e-06, -4.02540296e-06, -1.53727882e-05, -2.29644744e-05,\n",
      "       -2.49549990e-05, -2.10073548e-05, -1.25372564e-05, -2.39666913e-06,\n",
      "        5.96087976e-06,  9.77650499e-06,  8.37461670e-06,  3.74802487e-06,\n",
      "       -3.97082504e-07, -1.16803253e-06,  9.42594431e-07,  2.26202425e-06,\n",
      "        6.59365047e-08, -2.86586113e-06, -1.12025258e-06,  1.18173032e-06,\n",
      "       -7.30502020e-06, -1.53840065e-05, -6.04273037e-06,  8.60432856e-06,\n",
      "        1.99706491e-06, -1.11449990e-05,  2.98779450e-07]), 'RCerr_ss': 15.578151708828706, 'ss_time': 0.1874870430001465}\n"
     ]
    }
   ],
   "source": [
    "print(ss_output)"
   ]
  },
  {
   "cell_type": "code",
   "execution_count": null,
   "metadata": {},
   "outputs": [],
   "source": []
  }
 ],
 "metadata": {
  "kernelspec": {
   "display_name": "Python 3",
   "language": "python",
   "name": "python3"
  },
  "language_info": {
   "codemirror_mode": {
    "name": "ipython",
    "version": 3
   },
   "file_extension": ".py",
   "mimetype": "text/x-python",
   "name": "python",
   "nbconvert_exporter": "python",
   "pygments_lexer": "ipython3",
   "version": "3.7.1"
  }
 },
 "nbformat": 4,
 "nbformat_minor": 2
}
