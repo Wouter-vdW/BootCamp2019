{
 "cells": [
  {
   "cell_type": "markdown",
   "metadata": {},
   "source": [
    "**PROBLEM 1**"
   ]
  },
  {
   "cell_type": "code",
   "execution_count": 6,
   "metadata": {},
   "outputs": [],
   "source": [
    "def arithmagic():\n",
    "    step_1 = input(\"Enter a 3-digit number where the first and last \"\n",
    "    \"digits differ by 2 or more: \")\n",
    "    if len(step_1) != 3:\n",
    "        raise ValueError(\"Not a 3-digit number\")\n",
    "    else:\n",
    "        if int(step_1[2]) - int(step_1[0]) < 2:\n",
    "            raise ValueError(\"First and last digit do not differ enough\")\n",
    "        else:\n",
    "            step_2 = input(\"Enter the reverse of the first number, obtained \"\n",
    "            \"by reading it backwards: \")\n",
    "            if step_2 != step_1[::-1]:\n",
    "                raise ValueError(\"Not the reverse of initial number\")\n",
    "            else:\n",
    "                step_3 = input(\"Enter the positive difference of these numbers: \")\n",
    "                if int(step_3) != int(step_2) - int(step_1):\n",
    "                    raise ValueError(\"Not the positive difference\")\n",
    "                else:\n",
    "                    step_4 = input(\"Enter the reverse of the previous result: \")\n",
    "                    if step_4 != step_3[::-1]:\n",
    "                        raise ValueError(\"Not the reverse number\")\n",
    "                    else:\n",
    "                        print(str(step_3), \"+\", str(step_4), \"= 1089 (ta-da!)\")"
   ]
  },
  {
   "cell_type": "code",
   "execution_count": 11,
   "metadata": {
    "scrolled": true
   },
   "outputs": [
    {
     "name": "stdout",
     "output_type": "stream",
     "text": [
      "Enter a 3-digit number where the first and last digits differ by 2 or more: 123\n",
      "Enter the reverse of the first number, obtained by reading it backwards: 321\n",
      "Enter the positive difference of these numbers: 198\n",
      "Enter the reverse of the previous result: 891\n",
      "198 + 891 = 1089 (ta-da!)\n"
     ]
    }
   ],
   "source": [
    "arithmagic()"
   ]
  },
  {
   "cell_type": "markdown",
   "metadata": {},
   "source": [
    "**PROBLEM 2**"
   ]
  },
  {
   "cell_type": "code",
   "execution_count": 13,
   "metadata": {},
   "outputs": [],
   "source": [
    "from random import choice\n",
    "\n",
    "def random_walk(max_iters=1e12):\n",
    "    walk = 0\n",
    "    directions = [1, -1]\n",
    "    for i in range(int(max_iters)):\n",
    "        try:\n",
    "            walk += choice(directions)\n",
    "        except KeyboardInterrupt:\n",
    "            print(\"Process interrupted at iteration\", i)\n",
    "    return walk"
   ]
  },
  {
   "cell_type": "code",
   "execution_count": null,
   "metadata": {},
   "outputs": [
    {
     "name": "stdout",
     "output_type": "stream",
     "text": [
      "Process interrupted at iteration 11487149\n"
     ]
    }
   ],
   "source": [
    "random_walk()"
   ]
  },
  {
   "cell_type": "markdown",
   "metadata": {},
   "source": [
    "**PROBLEM 3**"
   ]
  },
  {
   "cell_type": "code",
   "execution_count": 1,
   "metadata": {},
   "outputs": [],
   "source": [
    "class ContentFilter:\n",
    "    def __init__(self, file_name):\n",
    "        self.file = file_name \n",
    "            \n",
    "        Done = False\n",
    "        while not Done:\n",
    "            try:\n",
    "                file_opened = open(self.file, 'r')\n",
    "            except FileNotFoundError as e:\n",
    "                self.file = input(\"Please enter a valid file name: \")\n",
    "            except TypeError as e:\n",
    "                self.file = input(\"Please enter a valid file name: \")\n",
    "            except OSError as e:\n",
    "                self.file = input(\"Please enter a valid file name: \")\n",
    "            else:\n",
    "                Done = True\n",
    "            \n",
    "        content = \"\"\n",
    "        self.lines = file_opened.readlines()\n",
    "        for lin in self.lines:\n",
    "            content += lin\n",
    "        self.contents = content\n",
    "            \n",
    "        file_opened.close()\n",
    "        \n",
    "        #additional stuff for Problem 4\n",
    "        self.totlines = len(self.lines)\n",
    "        self.totalChar = len(self.contents)\n",
    "        self.totalAlph = sum(char.isalpha() for char in self.contents)\n",
    "        self.totalNum = sum(char.isdigit() for char in self.contents)\n",
    "        self.totalSpaces = sum(char.isspace() for char in self.contents)\n",
    "    \n",
    "    def __str__(self):        \n",
    "        string = (\"Source file:\\t\\t\\t\" + self.file +\n",
    "                 \"\\nTotal characters:\\t\\t\" + str(self.totalChar) +\n",
    "                 \"\\nAlphabetic characters:\\t\\t\" + str(self.totalAlph) +\n",
    "                 \"\\nNumerical characters:\\t\\t\" + str(self.totalNum) +\n",
    "                 \"\\nWhitespace characters:\\t\\t\" + str(self.totalSpaces) +\n",
    "                 \"\\nNumber of lines:\\t\\t\" + str(self.totlines))\n",
    "        \n",
    "        return string\n",
    "    \n",
    "    def uniform(self, write_to, mode='w', case='upper'):\n",
    "        if mode not in ['w', 'x', 'a']:\n",
    "            raise ValueError(\"Not an existing acces mode: w, x or a.\")\n",
    "        if case not in ['upper', 'lower']:\n",
    "            raise ValueError(\"Not an existing case: upper or lower.\")\n",
    "        try:\n",
    "            output_file = open(write_to, mode)\n",
    "            if case == \"upper\":\n",
    "                output_file.write(self.contents.upper())\n",
    "            else:\n",
    "                output_file.write(self.contents.lower())\n",
    "        finally:\n",
    "            output_file.close()\n",
    "    \n",
    "    def reverse(self, write_to, mode='w', unit=\"line\"):\n",
    "        if mode not in ['w', 'x', 'a']:\n",
    "            raise ValueError(\"Not an existing acces mode: w, x or a.\")\n",
    "        if unit not in ['line', 'word']:\n",
    "            raise ValueError(\"Not an existing unit: word or line.\")\n",
    "        try:\n",
    "            output_file = open(write_to, mode)\n",
    "            if unit == \"line\":\n",
    "                for i in range(len(self.lines)):\n",
    "                    output_file.write(self.lines[-(i+1)])\n",
    "            else:\n",
    "                for lin in self.lines: \n",
    "                    words = lin.split()\n",
    "                    nil = \" \".join(reversed(words)) + '\\n'\n",
    "                    output_file.write(nil)\n",
    "        finally:\n",
    "            output_file.close()\n",
    "    \n",
    "    def transpose(self, write_to, mode='w'):\n",
    "        if mode not in ['w', 'x', 'a']:\n",
    "            raise ValueError(\"Not an existing acces mode: w, x or a.\")       \n",
    "        try:\n",
    "            output_file = open(write_to, mode)\n",
    "            W = []\n",
    "            for lin in self.lines:\n",
    "                words = lin.split()\n",
    "                W.append(words)\n",
    "            W_prime = (np.array(W)).T\n",
    "            \n",
    "            for row in W_prime:\n",
    "                lin_prime = \" \".join(row)\n",
    "                output_file.write(lin_prime + \"\\n\")\n",
    "            \n",
    "        finally:\n",
    "            output_file.close()"
   ]
  },
  {
   "cell_type": "code",
   "execution_count": 2,
   "metadata": {},
   "outputs": [
    {
     "name": "stdout",
     "output_type": "stream",
     "text": [
      "Please enter a valid file name: hello_world.txt\n"
     ]
    }
   ],
   "source": [
    "cf1 = ContentFilter(\"test.txt\")"
   ]
  },
  {
   "cell_type": "code",
   "execution_count": 3,
   "metadata": {},
   "outputs": [
    {
     "name": "stdout",
     "output_type": "stream",
     "text": [
      "hello_world.txt\n",
      "A b C\n",
      "d E f\n"
     ]
    }
   ],
   "source": [
    "print(cf1.file)\n",
    "print(cf1.contents)"
   ]
  },
  {
   "cell_type": "markdown",
   "metadata": {},
   "source": [
    "**PROBLEM 4**"
   ]
  },
  {
   "cell_type": "code",
   "execution_count": 4,
   "metadata": {},
   "outputs": [
    {
     "name": "stdout",
     "output_type": "stream",
     "text": [
      "Source file:\t\t\thello_world.txt\n",
      "Total characters:\t\t11\n",
      "Alphabetic characters:\t\t6\n",
      "Numerical characters:\t\t0\n",
      "Whitespace characters:\t\t5\n",
      "Number of lines:\t\t2\n"
     ]
    }
   ],
   "source": [
    "print(cf1)"
   ]
  },
  {
   "cell_type": "code",
   "execution_count": 10,
   "metadata": {},
   "outputs": [],
   "source": [
    "cf1.uniform(\"uniform.txt\", case=\"upper\")"
   ]
  },
  {
   "cell_type": "code",
   "execution_count": 6,
   "metadata": {},
   "outputs": [],
   "source": [
    "cf1.reverse(\"reverse.txt\", unit=\"word\")"
   ]
  },
  {
   "cell_type": "code",
   "execution_count": 8,
   "metadata": {},
   "outputs": [],
   "source": [
    "import numpy as np\n",
    "cf1.transpose(\"transpose.txt\")"
   ]
  },
  {
   "cell_type": "code",
   "execution_count": null,
   "metadata": {},
   "outputs": [],
   "source": []
  }
 ],
 "metadata": {
  "kernelspec": {
   "display_name": "Python 3",
   "language": "python",
   "name": "python3"
  },
  "language_info": {
   "codemirror_mode": {
    "name": "ipython",
    "version": 3
   },
   "file_extension": ".py",
   "mimetype": "text/x-python",
   "name": "python",
   "nbconvert_exporter": "python",
   "pygments_lexer": "ipython3",
   "version": "3.7.1"
  }
 },
 "nbformat": 4,
 "nbformat_minor": 2
}
