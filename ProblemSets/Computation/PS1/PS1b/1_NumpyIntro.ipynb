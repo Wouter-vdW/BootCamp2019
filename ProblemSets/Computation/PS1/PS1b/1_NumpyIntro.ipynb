{
 "cells": [
  {
   "cell_type": "code",
   "execution_count": 7,
   "metadata": {},
   "outputs": [],
   "source": [
    "import numpy as np"
   ]
  },
  {
   "cell_type": "markdown",
   "metadata": {},
   "source": [
    "**PROBLEM 1**"
   ]
  },
  {
   "cell_type": "code",
   "execution_count": 4,
   "metadata": {},
   "outputs": [],
   "source": [
    "A = np.array( [ [3,-1,4],[1,5,-9] ] )\n",
    "B = np.array( [ [2,6,-5,3],[5,-8,9,7],[9,-3,-2,-3] ] )"
   ]
  },
  {
   "cell_type": "code",
   "execution_count": 5,
   "metadata": {},
   "outputs": [
    {
     "name": "stdout",
     "output_type": "stream",
     "text": [
      "[[ 37  14 -32 -10]\n",
      " [-54  -7  58  65]]\n",
      "[[ 37  14 -32 -10]\n",
      " [-54  -7  58  65]]\n"
     ]
    }
   ],
   "source": [
    "result1 = np.dot(A,B)\n",
    "result2 = A @ B\n",
    "print(result1)\n",
    "print(result2)"
   ]
  },
  {
   "cell_type": "markdown",
   "metadata": {},
   "source": [
    "**PROBLEM 2**"
   ]
  },
  {
   "cell_type": "code",
   "execution_count": 27,
   "metadata": {},
   "outputs": [
    {
     "name": "stdout",
     "output_type": "stream",
     "text": [
      "[[0 0 0]\n",
      " [0 0 0]\n",
      " [0 0 0]]\n"
     ]
    }
   ],
   "source": [
    "A = np.array( [ [3,1,4],[1,5,9],[-5,3,1] ] )\n",
    "#result = -(A*A*A) + 9*(A*A) - 15*A\n",
    "#result = -A**3 + 9*A**2 - 15*A\n",
    "result = -(A @ A @ A) + 9*(A @ A) - 15*A\n",
    "print(result)"
   ]
  },
  {
   "cell_type": "markdown",
   "metadata": {},
   "source": [
    "**PROBLEM 3**"
   ]
  },
  {
   "cell_type": "code",
   "execution_count": 14,
   "metadata": {},
   "outputs": [
    {
     "name": "stdout",
     "output_type": "stream",
     "text": [
      "[[1. 1. 1. 1. 1. 1. 1.]\n",
      " [0. 1. 1. 1. 1. 1. 1.]\n",
      " [0. 0. 1. 1. 1. 1. 1.]\n",
      " [0. 0. 0. 1. 1. 1. 1.]\n",
      " [0. 0. 0. 0. 1. 1. 1.]\n",
      " [0. 0. 0. 0. 0. 1. 1.]\n",
      " [0. 0. 0. 0. 0. 0. 1.]]\n"
     ]
    }
   ],
   "source": [
    "A = np.ones((7,7))\n",
    "A = np.triu(A)\n",
    "print(A)"
   ]
  },
  {
   "cell_type": "code",
   "execution_count": 17,
   "metadata": {},
   "outputs": [
    {
     "name": "stdout",
     "output_type": "stream",
     "text": [
      "[[ 5.  5.  5.  5.  5.  5.  5.]\n",
      " [-1.  5.  5.  5.  5.  5.  5.]\n",
      " [-1. -1.  5.  5.  5.  5.  5.]\n",
      " [-1. -1. -1.  5.  5.  5.  5.]\n",
      " [-1. -1. -1. -1.  5.  5.  5.]\n",
      " [-1. -1. -1. -1. -1.  5.  5.]\n",
      " [-1. -1. -1. -1. -1. -1.  5.]]\n"
     ]
    }
   ],
   "source": [
    "B = np.ones((7,7))\n",
    "B = np.triu(B)*6\n",
    "B = B - 1\n",
    "print(B)"
   ]
  },
  {
   "cell_type": "code",
   "execution_count": 18,
   "metadata": {},
   "outputs": [
    {
     "name": "stdout",
     "output_type": "stream",
     "text": [
      "[[ -1.   4.  15.  32.  55.  84. 119.]\n",
      " [ -6.  -6.   0.  12.  30.  54.  84.]\n",
      " [ -5. -10.  -9.  -2.  11.  30.  55.]\n",
      " [ -4.  -8. -12. -10.  -2.  12.  32.]\n",
      " [ -3.  -6.  -9. -12.  -9.   0.  15.]\n",
      " [ -2.  -4.  -6.  -8. -10.  -6.   4.]\n",
      " [ -1.  -2.  -3.  -4.  -5.  -6.  -1.]]\n"
     ]
    }
   ],
   "source": [
    "result = A @ B @ A"
   ]
  },
  {
   "cell_type": "code",
   "execution_count": 24,
   "metadata": {},
   "outputs": [
    {
     "name": "stdout",
     "output_type": "stream",
     "text": [
      "[[ -1   4  15  32  55  84 119]\n",
      " [ -6  -6   0  12  30  54  84]\n",
      " [ -5 -10  -9  -2  11  30  55]\n",
      " [ -4  -8 -12 -10  -2  12  32]\n",
      " [ -3  -6  -9 -12  -9   0  15]\n",
      " [ -2  -4  -6  -8 -10  -6   4]\n",
      " [ -1  -2  -3  -4  -5  -6  -1]]\n"
     ]
    }
   ],
   "source": [
    "result = result.astype(np.int64)\n",
    "#result.dtype\n",
    "print(result)"
   ]
  },
  {
   "cell_type": "markdown",
   "metadata": {},
   "source": [
    "**PROBLEM 4**"
   ]
  },
  {
   "cell_type": "code",
   "execution_count": 43,
   "metadata": {},
   "outputs": [],
   "source": [
    "def my_func(array_in):\n",
    "    A = array_in\n",
    "    negative = A < 0 \n",
    "    result = A\n",
    "    result[negative] = 0\n",
    "    \n",
    "    return result"
   ]
  },
  {
   "cell_type": "code",
   "execution_count": 44,
   "metadata": {},
   "outputs": [
    {
     "name": "stdout",
     "output_type": "stream",
     "text": [
      "[[3 0 4]\n",
      " [1 5 0]]\n"
     ]
    }
   ],
   "source": [
    "A = np.array( [ [3,-1,4],[1,5,-9] ] )\n",
    "print(my_func(A))"
   ]
  },
  {
   "cell_type": "markdown",
   "metadata": {},
   "source": [
    "**PROBLEM 5**"
   ]
  },
  {
   "cell_type": "code",
   "execution_count": 47,
   "metadata": {},
   "outputs": [
    {
     "name": "stdout",
     "output_type": "stream",
     "text": [
      "[[0 2 4]\n",
      " [1 3 5]]\n"
     ]
    }
   ],
   "source": [
    "A = np.arange(6).reshape((3,2))\n",
    "A = A.T\n",
    "print(A)"
   ]
  },
  {
   "cell_type": "code",
   "execution_count": 48,
   "metadata": {},
   "outputs": [
    {
     "name": "stdout",
     "output_type": "stream",
     "text": [
      "[[3. 0. 0.]\n",
      " [3. 3. 0.]\n",
      " [3. 3. 3.]]\n"
     ]
    }
   ],
   "source": [
    "B = np.ones((3,3))\n",
    "B = np.triu(B)*3\n",
    "B = B.T\n",
    "print(B)"
   ]
  },
  {
   "cell_type": "code",
   "execution_count": 52,
   "metadata": {},
   "outputs": [
    {
     "name": "stdout",
     "output_type": "stream",
     "text": [
      "[[-2. -0. -0.]\n",
      " [-0. -2. -0.]\n",
      " [-0. -0. -2.]]\n"
     ]
    }
   ],
   "source": [
    "C = np.eye(3)*-2\n",
    "print(C)"
   ]
  },
  {
   "cell_type": "code",
   "execution_count": 67,
   "metadata": {},
   "outputs": [
    {
     "name": "stdout",
     "output_type": "stream",
     "text": [
      "[[0. 0. 0. 0. 0. 1. 1. 0. 0.]\n",
      " [0. 0. 0. 0. 2. 3. 0. 1. 0.]\n",
      " [0. 0. 0. 0. 4. 5. 0. 0. 1.]]\n"
     ]
    }
   ],
   "source": [
    "result1 = np.column_stack((np.zeros((3,4)), A.T, np.eye(3)))\n",
    "print(result1)"
   ]
  },
  {
   "cell_type": "code",
   "execution_count": 66,
   "metadata": {},
   "outputs": [
    {
     "name": "stdout",
     "output_type": "stream",
     "text": [
      "[[0. 2. 4. 0. 0. 0. 0. 0. 0.]\n",
      " [1. 3. 5. 0. 0. 0. 0. 0. 0.]]\n"
     ]
    }
   ],
   "source": [
    "result2 = np.column_stack((A,np.zeros((2,3)), np.zeros((2,3))))\n",
    "print(result2)"
   ]
  },
  {
   "cell_type": "code",
   "execution_count": 64,
   "metadata": {},
   "outputs": [
    {
     "name": "stdout",
     "output_type": "stream",
     "text": [
      "[[ 3.  0.  0.  0.  0.  0. -2. -0. -0.]\n",
      " [ 3.  3.  0.  0.  0.  0. -0. -2. -0.]\n",
      " [ 3.  3.  3.  0.  0.  0. -0. -0. -2.]]\n"
     ]
    }
   ],
   "source": [
    "result3 = np.column_stack((B,np.zeros((3,3)), C))\n",
    "print(result3)"
   ]
  },
  {
   "cell_type": "code",
   "execution_count": 68,
   "metadata": {},
   "outputs": [
    {
     "name": "stdout",
     "output_type": "stream",
     "text": [
      "[[ 0.  0.  0.  0.  0.  1.  1.  0.  0.]\n",
      " [ 0.  0.  0.  0.  2.  3.  0.  1.  0.]\n",
      " [ 0.  0.  0.  0.  4.  5.  0.  0.  1.]\n",
      " [ 0.  2.  4.  0.  0.  0.  0.  0.  0.]\n",
      " [ 1.  3.  5.  0.  0.  0.  0.  0.  0.]\n",
      " [ 3.  0.  0.  0.  0.  0. -2. -0. -0.]\n",
      " [ 3.  3.  0.  0.  0.  0. -0. -2. -0.]\n",
      " [ 3.  3.  3.  0.  0.  0. -0. -0. -2.]]\n"
     ]
    }
   ],
   "source": [
    "result = np.vstack((result1,result2,result3))\n",
    "print(result)"
   ]
  },
  {
   "cell_type": "markdown",
   "metadata": {},
   "source": [
    "**PROBLEM 6**"
   ]
  },
  {
   "cell_type": "code",
   "execution_count": 108,
   "metadata": {},
   "outputs": [],
   "source": [
    "def row_stoch(array_in):\n",
    "    sums = array_in.sum(axis=1)\n",
    "    fin = array_in / sums.reshape((len(sums),1))\n",
    "       \n",
    "    return fin"
   ]
  },
  {
   "cell_type": "code",
   "execution_count": 109,
   "metadata": {},
   "outputs": [
    {
     "name": "stdout",
     "output_type": "stream",
     "text": [
      "[[0.375      0.125      0.5       ]\n",
      " [0.06666667 0.33333333 0.6       ]]\n"
     ]
    }
   ],
   "source": [
    "A = np.array( [ [3,1,4],[1,5,9] ] )\n",
    "result = row_stoch(A)\n",
    "print(result)"
   ]
  },
  {
   "cell_type": "markdown",
   "metadata": {},
   "source": [
    "**PROBLEM 7**"
   ]
  },
  {
   "cell_type": "code",
   "execution_count": 97,
   "metadata": {},
   "outputs": [
    {
     "name": "stdout",
     "output_type": "stream",
     "text": [
      "[[ 8  2 22 97 38 15  0 40  0 75  4  5  7 78 52 12 50 77 91  8]\n",
      " [49 49 99 40 17 81 18 57 60 87 17 40 98 43 69 48  4 56 62  0]\n",
      " [81 49 31 73 55 79 14 29 93 71 40 67 53 88 30  3 49 13 36 65]\n",
      " [52 70 95 23  4 60 11 42 69 24 68 56  1 32 56 71 37  2 36 91]\n",
      " [22 31 16 71 51 67 63 89 41 92 36 54 22 40 40 28 66 33 13 80]\n",
      " [24 47 32 60 99  3 45  2 44 75 33 53 78 36 84 20 35 17 12 50]\n",
      " [32 98 81 28 64 23 67 10 26 38 40 67 59 54 70 66 18 38 64 70]\n",
      " [67 26 20 68  2 62 12 20 95 63 94 39 63  8 40 91 66 49 94 21]\n",
      " [24 55 58  5 66 73 99 26 97 17 78 78 96 83 14 88 34 89 63 72]\n",
      " [21 36 23  9 75  0 76 44 20 45 35 14  0 61 33 97 34 31 33 95]\n",
      " [78 17 53 28 22 75 31 67 15 94  3 80  4 62 16 14  9 53 56 92]\n",
      " [16 39  5 42 96 35 31 47 55 58 88 24  0 17 54 24 36 29 85 57]\n",
      " [86 56  0 48 35 71 89  7  5 44 44 37 44 60 21 58 51 54 17 58]\n",
      " [19 80 81 68  5 94 47 69 28 73 92 13 86 52 17 77  4 89 55 40]\n",
      " [ 4 52  8 83 97 35 99 16  7 97 57 32 16 26 26 79 33 27 98 66]\n",
      " [88 36 68 87 57 62 20 72  3 46 33 67 46 55 12 32 63 93 53 69]\n",
      " [ 4 42 16 73 38 25 39 11 24 94 72 18  8 46 29 32 40 62 76 36]\n",
      " [20 69 36 41 72 30 23 88 34 62 99 69 82 67 59 85 74  4 36 16]\n",
      " [20 73 35 29 78 31 90  1 74 31 49 71 48 86 81 16 23 57  5 54]\n",
      " [ 1 70 54 71 83 51 54 69 16 92 33 48 61 43 52  1 89 19 67 48]]\n"
     ]
    }
   ],
   "source": [
    "grid = np.load(\"grid.npy\")\n",
    "print(grid)"
   ]
  },
  {
   "cell_type": "code",
   "execution_count": 98,
   "metadata": {},
   "outputs": [
    {
     "data": {
      "text/plain": [
       "48477312"
      ]
     },
     "execution_count": 98,
     "metadata": {},
     "output_type": "execute_result"
    }
   ],
   "source": [
    "#to the right\n",
    "np.max(grid[:,:-3] * grid[:,1:-2] * grid[:,2:-1] * grid[:,3:])"
   ]
  },
  {
   "cell_type": "code",
   "execution_count": 102,
   "metadata": {},
   "outputs": [
    {
     "data": {
      "text/plain": [
       "48477312"
      ]
     },
     "execution_count": 102,
     "metadata": {},
     "output_type": "execute_result"
    }
   ],
   "source": [
    "#to the left (logically the same, as horizontal too)\n",
    "#np.max(grid[:,3:] * grid[:,2:-1] * grid[:,1:-2] * grid[:,:-3])"
   ]
  },
  {
   "cell_type": "code",
   "execution_count": 105,
   "metadata": {},
   "outputs": [
    {
     "data": {
      "text/plain": [
       "51267216"
      ]
     },
     "execution_count": 105,
     "metadata": {},
     "output_type": "execute_result"
    }
   ],
   "source": [
    "#vertically\n",
    "np.max(grid[:-3,:] * grid[1:-2,:] * grid[2:-1,:] * grid[3:,:])"
   ]
  },
  {
   "cell_type": "code",
   "execution_count": 106,
   "metadata": {},
   "outputs": [
    {
     "data": {
      "text/plain": [
       "40304286"
      ]
     },
     "execution_count": 106,
     "metadata": {},
     "output_type": "execute_result"
    }
   ],
   "source": [
    "#diagonal\n",
    "np.max(grid[:-3,:-3] * grid[1:-2,1:-2] * grid[2:-1,2:-1] * grid[3:,3:])"
   ]
  },
  {
   "cell_type": "code",
   "execution_count": null,
   "metadata": {},
   "outputs": [],
   "source": []
  }
 ],
 "metadata": {
  "kernelspec": {
   "display_name": "Python 3",
   "language": "python",
   "name": "python3"
  },
  "language_info": {
   "codemirror_mode": {
    "name": "ipython",
    "version": 3
   },
   "file_extension": ".py",
   "mimetype": "text/x-python",
   "name": "python",
   "nbconvert_exporter": "python",
   "pygments_lexer": "ipython3",
   "version": "3.7.1"
  }
 },
 "nbformat": 4,
 "nbformat_minor": 2
}
