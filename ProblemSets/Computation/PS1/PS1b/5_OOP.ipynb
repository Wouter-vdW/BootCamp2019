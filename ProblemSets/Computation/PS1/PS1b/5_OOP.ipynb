{
 "cells": [
  {
   "cell_type": "markdown",
   "metadata": {},
   "source": [
    "**PROBLEM 1**"
   ]
  },
  {
   "cell_type": "code",
   "execution_count": 1,
   "metadata": {},
   "outputs": [],
   "source": [
    "class Backpack:\n",
    "    \"\"\"\n",
    "    A Backpack object class. Has a name and a list of contents.\n",
    "    Attributes:\n",
    "        name (str): the name of the backpack's owner.\n",
    "        color (str): the color of the backpack.\n",
    "        size (int): the max size of the backpack.\n",
    "        contents (list): the contents of the backpack.\n",
    "    \"\"\"\n",
    "    \n",
    "    def __init__(self, name, color, max_size=5): # This function is the constructor.\n",
    "        \"\"\"\n",
    "        Set the name and initialize an empty list of contents.\n",
    "        Parameters:\n",
    "            name (str): the name of the backpack's owner.\n",
    "            color (str): the color of the backpack.\n",
    "            size (int): the max size of the backpack.\n",
    "            contents (list): the contents of the backpack.\n",
    "        \"\"\"\n",
    "        self.name = name # Initialize some attributes.\n",
    "        self.color = color\n",
    "        self.max_size = max_size\n",
    "        self.contents = []\n",
    "        \n",
    "    def put(self, item):\n",
    "        \"\"\"Add 'item' to the backpack's list of contents.\"\"\"\n",
    "        if len(self.contents) < self.max_size:\n",
    "            self.contents.append(item) # Use 'self.contents', not just 'contents'.\n",
    "        else:\n",
    "            print(\"No Room!\")\n",
    "    \n",
    "    def take(self, item):\n",
    "        \"\"\"Remove 'item' from the backpack's list of contents.\"\"\"\n",
    "        self.contents.remove(item)\n",
    "        \n",
    "    def dump(self):\n",
    "        \"\"\"Reset the backpack's contents.\"\"\"\n",
    "        self.contents = []\n",
    "\n",
    "    def __eq__(self, other):\n",
    "        \"\"\"If 'self' has fewer contents than 'other', return True.\n",
    "        Otherwise, return False.\n",
    "        \"\"\"\n",
    "        return (len(self.contents) == len(other.contents)) and (self.name == other.name) and (self.color == other.color)\n",
    "    \n",
    "    def __str__(self):\n",
    "        \"\"\"Create a string representation of Backpack to print.\n",
    "        \"\"\"\n",
    "        self.actsize = len(self.contents)\n",
    "        return \"Owner: \\t \\t %s \\nColor: \\t \\t %s \\nSize: \\t \\t %s \\nMax Size: \\t %s \\nContents: \\t %s\" % (self.name, self.color, self.actsize, self.max_size, self.contents)"
   ]
  },
  {
   "cell_type": "code",
   "execution_count": 2,
   "metadata": {},
   "outputs": [
    {
     "name": "stdout",
     "output_type": "stream",
     "text": [
      "Wouter ['notebook', 'pencils']\n"
     ]
    }
   ],
   "source": [
    "my_backpack = Backpack(\"Wouter\",\"Black\",2)\n",
    "#my_backpack.name = \"Wouter\"\n",
    "#my_backpack.color = \n",
    "#my_backpack.max_size = 2\n",
    "\n",
    "my_backpack.put(\"notebook\")\n",
    "my_backpack.put(\"pencils\")\n",
    "\n",
    "print(my_backpack.name, my_backpack.contents)"
   ]
  },
  {
   "cell_type": "code",
   "execution_count": 3,
   "metadata": {},
   "outputs": [
    {
     "name": "stdout",
     "output_type": "stream",
     "text": [
      "No Room!\n"
     ]
    }
   ],
   "source": [
    "my_backpack.put(\"tests\") \n",
    "#my_backpack.take(\"tests\")\n",
    "\n",
    "#print(my_backpack.max_size)\n",
    "#print(len(my_backpack.contents))\n",
    "#print(len(my_backpack.contents) < my_backpack.max_size)"
   ]
  },
  {
   "cell_type": "code",
   "execution_count": 4,
   "metadata": {},
   "outputs": [
    {
     "name": "stdout",
     "output_type": "stream",
     "text": [
      "Wouter []\n"
     ]
    }
   ],
   "source": [
    "my_backpack.dump()\n",
    "print(my_backpack.name, my_backpack.contents)"
   ]
  },
  {
   "cell_type": "markdown",
   "metadata": {},
   "source": [
    "**PROBLEM 2**"
   ]
  },
  {
   "cell_type": "code",
   "execution_count": 5,
   "metadata": {},
   "outputs": [],
   "source": [
    "# Inherit from the Backpack class in the class definition.\n",
    "class Jetpack(Backpack):\n",
    "    \"\"\"\n",
    "    A Knapsack object class. Inherits from the Backpack class.\n",
    "    Attributes:\n",
    "        name (str): the name of the jetpack's owner.\n",
    "        color (str): the color of the jetpack.\n",
    "        max_size (int): the maximum number of items that can fit inside.\n",
    "        fuel (int): the amount of fuel.\n",
    "        contents (list): the contents of the jetpack.\n",
    "    \"\"\"\n",
    "    \n",
    "    def __init__(self, name, color, max_size=2, fuel=10):\n",
    "        \"\"\"Use the Backpack constructor to initialize the name, color,\n",
    "        and max_size attributes. A jetpack only holds 2 items by default.\n",
    "        Parameters:\n",
    "            name (str): the name of the jetpack's owner.\n",
    "            color (str): the color of the jetpack.\n",
    "            contents (list): the contents of the jetpack.\n",
    "            max_size (int): the maximum number of items that can fit inside.\n",
    "            fuel (int): the amount of fuel.\n",
    "        \"\"\"\n",
    "        Backpack.__init__(self, name, color, max_size)\n",
    "        self.fuel = fuel\n",
    "\n",
    "    def fly(self, burn):\n",
    "        \"\"\"Go flyin, but burn this fuel.\"\"\"\n",
    "        if self.fuel >= burn:\n",
    "            self.fuel = self.fuel - burn\n",
    "            print(\"The remaining fuel is\",self.fuel)\n",
    "        else:\n",
    "            print(\"Not enough fuel!\")\n",
    "\n",
    "    def dump(self):\n",
    "        \"\"\"Reset the jetpack's contents  and fuel.\"\"\"\n",
    "        self.contents = [] \n",
    "        self.fuel = 0"
   ]
  },
  {
   "cell_type": "code",
   "execution_count": 6,
   "metadata": {},
   "outputs": [
    {
     "name": "stdout",
     "output_type": "stream",
     "text": [
      "Wouty 10\n"
     ]
    }
   ],
   "source": [
    "my_jetpack = Jetpack(\"Wouty\", \"blue\")\n",
    "print(my_jetpack.name, my_jetpack.fuel)"
   ]
  },
  {
   "cell_type": "code",
   "execution_count": 7,
   "metadata": {},
   "outputs": [
    {
     "name": "stdout",
     "output_type": "stream",
     "text": [
      "Not enough fuel!\n"
     ]
    }
   ],
   "source": [
    "my_jetpack.fly(99) "
   ]
  },
  {
   "cell_type": "code",
   "execution_count": 8,
   "metadata": {},
   "outputs": [
    {
     "name": "stdout",
     "output_type": "stream",
     "text": [
      "The remaining fuel is 8\n"
     ]
    }
   ],
   "source": [
    "my_jetpack.fly(2) "
   ]
  },
  {
   "cell_type": "code",
   "execution_count": 9,
   "metadata": {},
   "outputs": [
    {
     "name": "stdout",
     "output_type": "stream",
     "text": [
      "Wouty [] 0\n"
     ]
    }
   ],
   "source": [
    "my_jetpack.dump() \n",
    "print(my_jetpack.name, my_jetpack.contents, my_jetpack.fuel)"
   ]
  },
  {
   "cell_type": "markdown",
   "metadata": {},
   "source": [
    "**PROBLEM 3**"
   ]
  },
  {
   "cell_type": "code",
   "execution_count": 10,
   "metadata": {},
   "outputs": [
    {
     "name": "stdout",
     "output_type": "stream",
     "text": [
      "Wouter ['notebook', 'pencils']\n",
      "Wouter ['notebook', 'pencils']\n"
     ]
    },
    {
     "data": {
      "text/plain": [
       "True"
      ]
     },
     "execution_count": 10,
     "metadata": {},
     "output_type": "execute_result"
    }
   ],
   "source": [
    "my_backpack2 = Backpack(\"Wouter\",\"Black\",2)\n",
    "my_backpack2.put(\"notebook\")\n",
    "my_backpack2.put(\"pencils\")\n",
    "\n",
    "my_backpack.put(\"notebook\")\n",
    "my_backpack.put(\"pencils\")\n",
    "\n",
    "print(my_backpack.name, my_backpack.contents)\n",
    "print(my_backpack2.name, my_backpack2.contents)\n",
    "\n",
    "my_backpack == my_backpack2"
   ]
  },
  {
   "cell_type": "code",
   "execution_count": 11,
   "metadata": {},
   "outputs": [
    {
     "name": "stdout",
     "output_type": "stream",
     "text": [
      "Wouter ['notebook']\n",
      "Wouter ['notebook', 'pencils']\n"
     ]
    },
    {
     "data": {
      "text/plain": [
       "False"
      ]
     },
     "execution_count": 11,
     "metadata": {},
     "output_type": "execute_result"
    }
   ],
   "source": [
    "my_backpack.take(\"pencils\")\n",
    "\n",
    "print(my_backpack.name, my_backpack.contents)\n",
    "print(my_backpack2.name, my_backpack2.contents)\n",
    "\n",
    "my_backpack == my_backpack2"
   ]
  },
  {
   "cell_type": "code",
   "execution_count": 12,
   "metadata": {},
   "outputs": [
    {
     "name": "stdout",
     "output_type": "stream",
     "text": [
      "Owner: \t \t Wouter \n",
      "Color: \t \t Black \n",
      "Size: \t \t 1 \n",
      "Max Size: \t 2 \n",
      "Contents: \t ['notebook']\n"
     ]
    }
   ],
   "source": [
    "print(my_backpack)"
   ]
  },
  {
   "cell_type": "markdown",
   "metadata": {},
   "source": [
    "**PROBLEM 4**"
   ]
  },
  {
   "cell_type": "code",
   "execution_count": 33,
   "metadata": {},
   "outputs": [],
   "source": [
    "class ComplexNumber:\n",
    "    def __init__(self, real, imag): \n",
    "        self.real = real\n",
    "        self.imag = imag\n",
    "    \n",
    "    def conjugate(self):\n",
    "        return ComplexNumber(self.real, -self.imag)\n",
    "    \n",
    "    def __str__(self):\n",
    "        if self.imag >= 0:\n",
    "            return \"(%s+%si)\" % (self.real, self.imag)\n",
    "        else:\n",
    "            return \"(%s%si)\" % (self.real, self.imag)\n",
    "    \n",
    "    def __abs__(self):\n",
    "        return sqrt(self.real**2 + self.imag**2)\n",
    "    \n",
    "    def __eq__(self, other):\n",
    "        return (self.real == other.real) and (self.imag == other.imag)\n",
    "\n",
    "    def __add__(self, other):\n",
    "        return ComplexNumber(self.real + other.real, self.imag + other.imag)\n",
    "    \n",
    "    def __sub__(self, other):\n",
    "        return ComplexNumber(self.real - other.real, self.imag - other.imag)\n",
    "    \n",
    "    def __mul__(self, other):\n",
    "        return ComplexNumber(self.real * other.real, self.imag * other.imag)\n",
    "    \n",
    "    def __truediv__(self, other):\n",
    "        return ComplexNumber(self.real / other.real, self.imag / other.imag)"
   ]
  },
  {
   "cell_type": "code",
   "execution_count": 34,
   "metadata": {},
   "outputs": [
    {
     "name": "stdout",
     "output_type": "stream",
     "text": [
      "(3+4i)\n",
      "(3-4i)\n",
      "5.0\n",
      "(6+0i)\n",
      "(0-8i)\n",
      "(9-16i)\n",
      "(1.0-1.0i)\n"
     ]
    }
   ],
   "source": [
    "from math import sqrt\n",
    "my_num = ComplexNumber(3,4)\n",
    "my_num2 = my_num.conjugate()\n",
    "\n",
    "print(my_num)\n",
    "print(my_num2)\n",
    "\n",
    "print(abs(my_num))\n",
    "\n",
    "my_num2 == my_num\n",
    "\n",
    "print(my_num2 + my_num)\n",
    "print(my_num2 - my_num)\n",
    "print(my_num2 * my_num)\n",
    "print(my_num2 / my_num)"
   ]
  }
 ],
 "metadata": {
  "kernelspec": {
   "display_name": "Python 3",
   "language": "python",
   "name": "python3"
  },
  "language_info": {
   "codemirror_mode": {
    "name": "ipython",
    "version": 3
   },
   "file_extension": ".py",
   "mimetype": "text/x-python",
   "name": "python",
   "nbconvert_exporter": "python",
   "pygments_lexer": "ipython3",
   "version": "3.7.1"
  }
 },
 "nbformat": 4,
 "nbformat_minor": 2
}
