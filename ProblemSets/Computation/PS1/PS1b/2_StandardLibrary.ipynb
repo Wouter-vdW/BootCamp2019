{
 "cells": [
  {
   "cell_type": "markdown",
   "metadata": {},
   "source": [
    "**PROBLEM 1**"
   ]
  },
  {
   "cell_type": "code",
   "execution_count": 1,
   "metadata": {},
   "outputs": [],
   "source": [
    "def my_func(list_in):\n",
    "    minim = min(list_in)\n",
    "    maxim = max(list_in)\n",
    "    avera = sum(list_in)/len(list_in)\n",
    "    \n",
    "    return (minim, maxim, avera)"
   ]
  },
  {
   "cell_type": "code",
   "execution_count": 2,
   "metadata": {},
   "outputs": [
    {
     "name": "stdout",
     "output_type": "stream",
     "text": [
      "(1, 3, 2.0)\n"
     ]
    }
   ],
   "source": [
    "my_list = [1,2,3]\n",
    "print(my_func(my_list))"
   ]
  },
  {
   "cell_type": "markdown",
   "metadata": {},
   "source": [
    "**PROBLEM 2**"
   ]
  },
  {
   "cell_type": "code",
   "execution_count": 3,
   "metadata": {},
   "outputs": [
    {
     "data": {
      "text/plain": [
       "True"
      ]
     },
     "execution_count": 3,
     "metadata": {},
     "output_type": "execute_result"
    }
   ],
   "source": [
    "dict_1 = {1: 'x', 2: 'b'}  # dictionary\n",
    "dict_2 = dict_1\n",
    "dict_2[1] = 'a'\n",
    "dict_1 == dict_2"
   ]
  },
  {
   "cell_type": "code",
   "execution_count": 4,
   "metadata": {},
   "outputs": [
    {
     "data": {
      "text/plain": [
       "False"
      ]
     },
     "execution_count": 4,
     "metadata": {},
     "output_type": "execute_result"
    }
   ],
   "source": [
    "int_1 = 4  # integer\n",
    "int_2 = int_1\n",
    "int_2 = 99\n",
    "int_1 == int_2"
   ]
  },
  {
   "cell_type": "code",
   "execution_count": 13,
   "metadata": {},
   "outputs": [
    {
     "data": {
      "text/plain": [
       "False"
      ]
     },
     "execution_count": 13,
     "metadata": {},
     "output_type": "execute_result"
    }
   ],
   "source": [
    "str_1 = \"test\"  # string\n",
    "str_2 = str_1\n",
    "str_2 = \"huuray\"\n",
    "str_1 == str_2"
   ]
  },
  {
   "cell_type": "code",
   "execution_count": 24,
   "metadata": {},
   "outputs": [
    {
     "data": {
      "text/plain": [
       "True"
      ]
     },
     "execution_count": 24,
     "metadata": {},
     "output_type": "execute_result"
    }
   ],
   "source": [
    "list_1 = [1,2,3]  # list --> mutable\n",
    "list_2 = list_1\n",
    "list_2[1] = [5]\n",
    "list_1 == list_2"
   ]
  },
  {
   "cell_type": "code",
   "execution_count": 29,
   "metadata": {},
   "outputs": [
    {
     "data": {
      "text/plain": [
       "False"
      ]
     },
     "execution_count": 29,
     "metadata": {},
     "output_type": "execute_result"
    }
   ],
   "source": [
    "tup_1 = (\"apple\", \"banana\", \"cherry\")  # tuple\n",
    "tup_2 = tup_1\n",
    "tup_2 += (1,)\n",
    "tup_1 == tup_2"
   ]
  },
  {
   "cell_type": "code",
   "execution_count": 39,
   "metadata": {},
   "outputs": [
    {
     "data": {
      "text/plain": [
       "True"
      ]
     },
     "execution_count": 39,
     "metadata": {},
     "output_type": "execute_result"
    }
   ],
   "source": [
    "set_1 = {\"apple\", \"banana\", \"cherry\"}  # set --> mutable\n",
    "set_2 = set_1\n",
    "set_2.update(\"cookies\")\n",
    "set_1 == set_2"
   ]
  },
  {
   "cell_type": "markdown",
   "metadata": {},
   "source": [
    "**PROBLEM 3**"
   ]
  },
  {
   "cell_type": "code",
   "execution_count": 72,
   "metadata": {},
   "outputs": [],
   "source": [
    "import math"
   ]
  },
  {
   "cell_type": "code",
   "execution_count": 94,
   "metadata": {},
   "outputs": [
    {
     "name": "stdout",
     "output_type": "stream",
     "text": [
      "\n"
     ]
    }
   ],
   "source": [
    "run calculator.py"
   ]
  },
  {
   "cell_type": "code",
   "execution_count": 90,
   "metadata": {},
   "outputs": [
    {
     "data": {
      "text/plain": [
       "2"
      ]
     },
     "execution_count": 90,
     "metadata": {},
     "output_type": "execute_result"
    }
   ],
   "source": [
    "import calculator as calc\n",
    "a = 1\n",
    "b = 2\n",
    "summing(a,b)\n",
    "product(a,b)"
   ]
  },
  {
   "cell_type": "code",
   "execution_count": 91,
   "metadata": {},
   "outputs": [],
   "source": [
    "def length(a,b): \n",
    "    result = math.sqrt(summing(product(a,a),product(b,b)))\n",
    "    return result"
   ]
  },
  {
   "cell_type": "code",
   "execution_count": 92,
   "metadata": {},
   "outputs": [
    {
     "name": "stdout",
     "output_type": "stream",
     "text": [
      "2.8284271247461903\n"
     ]
    }
   ],
   "source": [
    "print(length(2,2))"
   ]
  },
  {
   "cell_type": "markdown",
   "metadata": {},
   "source": [
    "**PROBLEM 4**"
   ]
  },
  {
   "cell_type": "code",
   "execution_count": 8,
   "metadata": {},
   "outputs": [],
   "source": [
    "from itertools import combinations"
   ]
  },
  {
   "cell_type": "code",
   "execution_count": 118,
   "metadata": {},
   "outputs": [],
   "source": [
    "def my_func(input):\n",
    "    finset = []\n",
    "    for i in range(len(input)+1):\n",
    "        finset += list(combinations(a,i))\n",
    "    return finset"
   ]
  },
  {
   "cell_type": "code",
   "execution_count": 120,
   "metadata": {},
   "outputs": [
    {
     "name": "stdout",
     "output_type": "stream",
     "text": [
      "[(), ('c',), ('a',), ('b',), ('c', 'a'), ('c', 'b'), ('a', 'b'), ('c', 'a', 'b')]\n"
     ]
    }
   ],
   "source": [
    "print(my_func(a))"
   ]
  },
  {
   "cell_type": "markdown",
   "metadata": {},
   "source": [
    "**PROBLEM 5**"
   ]
  },
  {
   "cell_type": "code",
   "execution_count": 84,
   "metadata": {},
   "outputs": [],
   "source": [
    "import box as box\n",
    "import random"
   ]
  },
  {
   "cell_type": "code",
   "execution_count": 195,
   "metadata": {},
   "outputs": [],
   "source": [
    "def play(remaining):\n",
    "    roll = random.randint(2,14)\n",
    "\n",
    "    for i in range(1, len(remaining) + 1):\n",
    "        if any([sum(combo) == roll for combo in combinations(remaining, i)]):\n",
    "            check = True\n",
    "\n",
    "    if check == True:\n",
    "        print(\"Roll:\", roll)\n",
    "\n",
    "    print(\"Numbers you want to eliminate?\")\n",
    "    player_input = input().split()\n",
    "    choices = [int(x) for x in player_input]\n",
    "    #box.parse_input(player_input,remaining)\n",
    "    \n",
    "    for x in choices:\n",
    "        remaining.remove(x)\n",
    "    \n",
    "    if len(remaining) == 0:\n",
    "        return False\n",
    "    else:\n",
    "        return True"
   ]
  },
  {
   "cell_type": "code",
   "execution_count": 196,
   "metadata": {},
   "outputs": [],
   "source": [
    "def shut_the_box():\n",
    "    remaining = list(range(1, 10))\n",
    "    \n",
    "    while True:\n",
    "        print(\"Numbers left:\", remaining)\n",
    "    \n",
    "        play(remaining)  "
   ]
  },
  {
   "cell_type": "code",
   "execution_count": null,
   "metadata": {},
   "outputs": [
    {
     "name": "stdout",
     "output_type": "stream",
     "text": [
      "Numbers left: [1, 2, 3, 4, 5, 6, 7, 8, 9]\n",
      "Roll: 2\n",
      "Numbers you want to eliminate?\n",
      "2\n",
      "Numbers left: [1, 3, 4, 5, 6, 7, 8, 9]\n",
      "Roll: 6\n",
      "Numbers you want to eliminate?\n",
      "1 5\n",
      "Numbers left: [3, 4, 6, 7, 8, 9]\n",
      "Roll: 14\n",
      "Numbers you want to eliminate?\n",
      "8 6\n",
      "Numbers left: [3, 4, 7, 9]\n",
      "Roll: 11\n",
      "Numbers you want to eliminate?\n"
     ]
    }
   ],
   "source": [
    "shut_the_box()"
   ]
  }
 ],
 "metadata": {
  "kernelspec": {
   "display_name": "Python 3",
   "language": "python",
   "name": "python3"
  },
  "language_info": {
   "codemirror_mode": {
    "name": "ipython",
    "version": 3
   },
   "file_extension": ".py",
   "mimetype": "text/x-python",
   "name": "python",
   "nbconvert_exporter": "python",
   "pygments_lexer": "ipython3",
   "version": "3.7.1"
  }
 },
 "nbformat": 4,
 "nbformat_minor": 2
}
