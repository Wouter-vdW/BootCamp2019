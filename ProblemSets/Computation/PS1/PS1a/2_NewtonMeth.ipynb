{
 "cells": [
  {
   "cell_type": "code",
   "execution_count": 39,
   "metadata": {},
   "outputs": [],
   "source": [
    "import numpy as np\n",
    "from scipy import optimize as opt\n",
    "from matplotlib import pyplot as plt"
   ]
  },
  {
   "cell_type": "markdown",
   "metadata": {},
   "source": [
    "**PROBLEM 1**"
   ]
  },
  {
   "cell_type": "code",
   "execution_count": 76,
   "metadata": {},
   "outputs": [],
   "source": [
    "def newton(f, x_guess, fprime, tol=1e-5, iter_max=15):\n",
    "    \n",
    "    convergence = False\n",
    "    x = x_guess\n",
    "    for iter in range(1, iter_max+1):\n",
    "        x1 = x - f(x) / fprime(x)\n",
    "        error = np.abs(x1 - x)\n",
    "        if error < tol:\n",
    "            convergence = True\n",
    "            break\n",
    "\n",
    "        x = x1\n",
    "            \n",
    "    return x, convergence, iter"
   ]
  },
  {
   "cell_type": "code",
   "execution_count": 77,
   "metadata": {},
   "outputs": [],
   "source": [
    "def f1(x):\n",
    "    return np.exp(x) - 2\n",
    "def f1_prime(x):\n",
    "    return np.exp(x)"
   ]
  },
  {
   "cell_type": "code",
   "execution_count": 78,
   "metadata": {},
   "outputs": [
    {
     "name": "stdout",
     "output_type": "stream",
     "text": [
      "(0.6931475810597714, True, 5)\n",
      "0.6931471805599453\n"
     ]
    }
   ],
   "source": [
    "print(newton(f1, 0, f1_prime))\n",
    "print(opt.newton(f1, 0, f1_prime))"
   ]
  },
  {
   "cell_type": "code",
   "execution_count": 79,
   "metadata": {},
   "outputs": [],
   "source": [
    "def f2(x):\n",
    "    return x ** 4 - 3\n",
    "def f2_prime(x):\n",
    "    return 4 * x ** 3"
   ]
  },
  {
   "cell_type": "code",
   "execution_count": 80,
   "metadata": {},
   "outputs": [
    {
     "name": "stdout",
     "output_type": "stream",
     "text": [
      "(1.3160753007540056, True, 5)\n",
      "1.3160740129524924\n"
     ]
    }
   ],
   "source": [
    "print(newton(f2, 1, f2_prime))\n",
    "print(opt.newton(f2, 1, f2_prime))"
   ]
  },
  {
   "cell_type": "markdown",
   "metadata": {},
   "source": [
    "**PROBLEM 3**"
   ]
  },
  {
   "cell_type": "code",
   "execution_count": 81,
   "metadata": {},
   "outputs": [],
   "source": [
    "def newton_back(f, x_guess, fprime, tol=1e-5, iter_max=15, alpha=1):\n",
    "    \n",
    "    convergence = False\n",
    "    x = x_guess\n",
    "    for iter in range(1, iter_max+1):\n",
    "        x1 = x - alpha * f(x) / fprime(x)\n",
    "        error = np.abs(x1 - x)\n",
    "        if error < tol:\n",
    "            convergence = True\n",
    "            break\n",
    "\n",
    "        x = x1\n",
    "            \n",
    "    return x, convergence, iter"
   ]
  },
  {
   "cell_type": "code",
   "execution_count": 82,
   "metadata": {},
   "outputs": [],
   "source": [
    "f1 = lambda x: np.sign(x) * np.power(np.abs(x), 1./3)\n",
    "f1_prime = lambda x: (1./3) * np.power(np.abs(x), -2./3)"
   ]
  },
  {
   "cell_type": "code",
   "execution_count": 83,
   "metadata": {},
   "outputs": [
    {
     "name": "stdout",
     "output_type": "stream",
     "text": [
      "(-327.6800000000003, False, 15)\n"
     ]
    }
   ],
   "source": [
    "print(newton_back(f1, 0.01, f1_prime))"
   ]
  },
  {
   "cell_type": "code",
   "execution_count": 84,
   "metadata": {},
   "outputs": [
    {
     "name": "stdout",
     "output_type": "stream",
     "text": [
      "(-3.2000000000000507e-06, True, 6)\n"
     ]
    }
   ],
   "source": [
    "print(newton_back(f1, 0.01, f1_prime, alpha=0.4))"
   ]
  },
  {
   "cell_type": "markdown",
   "metadata": {},
   "source": [
    "**PROBLEM 4**"
   ]
  },
  {
   "cell_type": "code",
   "execution_count": 102,
   "metadata": {},
   "outputs": [],
   "source": [
    "def newton_back2(f, x_guess, fprime, tol=1e-5, iter_max=15):\n",
    "    \n",
    "    alpha = np.linspace(.01, 1, 100)\n",
    "    a_list = np.zeros(len(alpha))\n",
    "    runs = np.zeros(len(alpha))\n",
    "    \n",
    "    for idx, alfa in enumerate(alpha):\n",
    "        x = x_guess        \n",
    "        for iter in range(1, iter_max+1):\n",
    "            x1 = x - alfa * f(x) / fprime(x)\n",
    "            error = np.abs(x1 - x)\n",
    "            if error < tol:\n",
    "                break\n",
    "\n",
    "            x = x1   \n",
    "        runs[idx] = iter\n",
    "        \n",
    "    output = {}\n",
    "    output['runs'] = runs\n",
    "    output['alpha'] = alpha\n",
    "        \n",
    "    return output"
   ]
  },
  {
   "cell_type": "code",
   "execution_count": 103,
   "metadata": {},
   "outputs": [],
   "source": [
    "f1 = lambda x: np.sign(x) * np.power(np.abs(x), 1./3)\n",
    "f1_prime = lambda x: (1./3) * np.power(np.abs(x), -2./3)"
   ]
  },
  {
   "cell_type": "code",
   "execution_count": 104,
   "metadata": {},
   "outputs": [
    {
     "data": {
      "image/png": "[encoded data removed]",
      "text/plain": [
       "<Figure size 576x360 with 1 Axes>"
      ]
     },
     "metadata": {
      "needs_background": "light"
     },
     "output_type": "display_data"
    }
   ],
   "source": [
    "out = newton_back2(f1, .01, f1_prime, iter_max=150)\n",
    "\n",
    "fig = plt.figure(figsize=(8,5))\n",
    "plt.plot(out['alpha'], out['runs'])\n",
    "plt.xlabel(r'$\\alpha$')\n",
    "plt.ylabel(r'# Iterations')\n",
    "plt.show()"
   ]
  },
  {
   "cell_type": "markdown",
   "metadata": {},
   "source": [
    "**PROBLEM 7**"
   ]
  },
  {
   "cell_type": "code",
   "execution_count": 105,
   "metadata": {},
   "outputs": [],
   "source": [
    "def basis_newton(f, fprime, zeros, bounds, res, iters):\n",
    "\n",
    "    x_real = np.linspace(bounds[0], bounds[1], res)\n",
    "    x_imag = np.linspace(bounds[2], bounds[3], res)\n",
    "    X_real, X_imag = np.meshgrid(x_real, x_imag)\n",
    "    X_0 = X_real + 1j*X_imag\n",
    "    \n",
    "    Xk = np.zeros((res,res), dtype=np.float64)\n",
    "    for ii in range(iters):\n",
    "        X_1 = X_0 - f(X_0)/fprime(X_0)\n",
    "        X_0 = X_1\n",
    "    \n",
    "    Y = np.fromiter((np.argmin(abs(zeros - i)) for i in X_1.ravel()), dtype=np.int64, count=res**2).reshape((res, res))\n",
    "\n",
    "    fig = plt.figure(figsize=(10,7))\n",
    "    plt.pcolormesh(x_real, x_imag, Y, cmap=\"brg\") "
   ]
  },
  {
   "cell_type": "code",
   "execution_count": 106,
   "metadata": {},
   "outputs": [],
   "source": [
    "f3 = lambda x: x**3 - 1\n",
    "f3_prime = lambda x: 3*x**2"
   ]
  },
  {
   "cell_type": "code",
   "execution_count": 107,
   "metadata": {},
   "outputs": [],
   "source": [
    "zeros = np.array([1, -.5 + 1j * np.sqrt(3) / 2, -.5 - 1j * np.sqrt(3) / 2])\n",
    "bounds = np.array([-1.5, 1.5, -1.5, 1.5])"
   ]
  },
  {
   "cell_type": "code",
   "execution_count": 110,
   "metadata": {},
   "outputs": [
    {
     "data": {
      "image/png": "[encoded data removed]",
      "text/plain": [
       "<Figure size 720x504 with 1 Axes>"
      ]
     },
     "metadata": {
      "needs_background": "light"
     },
     "output_type": "display_data"
    }
   ],
   "source": [
    "basis_newton(f3, f3_prime, zeros, bounds, 300, 100)"
   ]
  },
  {
   "cell_type": "code",
   "execution_count": 112,
   "metadata": {},
   "outputs": [],
   "source": [
    "f4 = lambda x: x**3 - x\n",
    "f4_prime = lambda x: 3*x**2 - 1"
   ]
  },
  {
   "cell_type": "code",
   "execution_count": 113,
   "metadata": {},
   "outputs": [],
   "source": [
    "zeros = np.array([0, 1, -1])"
   ]
  },
  {
   "cell_type": "code",
   "execution_count": 114,
   "metadata": {},
   "outputs": [
    {
     "data": {
      "image/png": "[encoded data removed]",
      "text/plain": [
       "<Figure size 720x504 with 1 Axes>"
      ]
     },
     "metadata": {
      "needs_background": "light"
     },
     "output_type": "display_data"
    }
   ],
   "source": [
    "basis_newton(f4, f4_prime, zeros, bounds, 300, 100)"
   ]
  },
  {
   "cell_type": "code",
   "execution_count": null,
   "metadata": {},
   "outputs": [],
   "source": []
  }
 ],
 "metadata": {
  "kernelspec": {
   "display_name": "Python 3",
   "language": "python",
   "name": "python3"
  },
  "language_info": {
   "codemirror_mode": {
    "name": "ipython",
    "version": 3
   },
   "file_extension": ".py",
   "mimetype": "text/x-python",
   "name": "python",
   "nbconvert_exporter": "python",
   "pygments_lexer": "ipython3",
   "version": "3.7.1"
  }
 },
 "nbformat": 4,
 "nbformat_minor": 2
}
