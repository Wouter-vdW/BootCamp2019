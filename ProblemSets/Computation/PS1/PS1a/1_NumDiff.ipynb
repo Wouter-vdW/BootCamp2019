{
 "cells": [
  {
   "cell_type": "code",
   "execution_count": 7,
   "metadata": {},
   "outputs": [],
   "source": [
    "import sympy as sy"
   ]
  },
  {
   "cell_type": "code",
   "execution_count": 8,
   "metadata": {},
   "outputs": [],
   "source": [
    "import mpmath as mp"
   ]
  },
  {
   "cell_type": "code",
   "execution_count": 9,
   "metadata": {},
   "outputs": [],
   "source": [
    "import math as m\n",
    "from math import sin, log, cos"
   ]
  },
  {
   "cell_type": "code",
   "execution_count": 33,
   "metadata": {},
   "outputs": [],
   "source": [
    "import numpy as np"
   ]
  },
  {
   "cell_type": "code",
   "execution_count": 3,
   "metadata": {},
   "outputs": [],
   "source": [
    "from matplotlib import pyplot as plt"
   ]
  },
  {
   "cell_type": "markdown",
   "metadata": {},
   "source": [
    "**PROBLEM 1**"
   ]
  },
  {
   "cell_type": "code",
   "execution_count": 12,
   "metadata": {},
   "outputs": [
    {
     "data": {
      "text/plain": [
       "(-log(sin(x) + 1)*sin(x)*cos(cos(x)) + sin(cos(x))*cos(x)/(sin(x) + 1))*(sin(x) + 1)**sin(cos(x))"
      ]
     },
     "execution_count": 12,
     "metadata": {},
     "output_type": "execute_result"
    }
   ],
   "source": [
    "x = sy.symbols('x')\n",
    "sy.diff((sy.sin(x)+1)**sy.sin(sy.cos(x)),x)"
   ]
  },
  {
   "cell_type": "code",
   "execution_count": 9,
   "metadata": {},
   "outputs": [],
   "source": [
    "x = sy.symbols('x')\n",
    "sy_f = sy.diff((sy.sin(x)+1)**sy.sin(sy.cos(x)),x)\n",
    "f = sy.lambdify(x, sy_f)"
   ]
  },
  {
   "cell_type": "code",
   "execution_count": 10,
   "metadata": {},
   "outputs": [
    {
     "data": {
      "image/png": "[encoded data removed]",
      "text/plain": [
       "<Figure size 432x288 with 1 Axes>"
      ]
     },
     "metadata": {
      "needs_background": "light"
     },
     "output_type": "display_data"
    }
   ],
   "source": [
    "xlist = np.arange(-m.pi, m.pi, 0.0001)\n",
    "ylist = map(f,xlist)\n",
    "plt.plot(list(xlist), list(ylist))\n",
    "plt.show()"
   ]
  },
  {
   "cell_type": "code",
   "execution_count": 11,
   "metadata": {},
   "outputs": [
    {
     "name": "stderr",
     "output_type": "stream",
     "text": [
      "C:\\Users\\woute\\Anaconda3\\lib\\site-packages\\numpy\\lib\\scimath.py:262: RuntimeWarning: divide by zero encountered in log\n",
      "  return nx.log(x)\n",
      "<string>:2: RuntimeWarning: divide by zero encountered in double_scalars\n",
      "<string>:2: RuntimeWarning: invalid value encountered in double_scalars\n"
     ]
    },
    {
     "data": {
      "image/png": "[encoded data removed]",
      "text/plain": [
       "<Figure size 432x288 with 1 Axes>"
      ]
     },
     "metadata": {
      "needs_background": "light"
     },
     "output_type": "display_data"
    }
   ],
   "source": [
    "xmin, xmax = -mp.pi, mp.pi\n",
    "g = lambda x: float(xmin) + float(xmax - xmin) / points * x\n",
    "\n",
    "x = sy.symbols('x')\n",
    "sy_f = sy.diff((sy.sin(x)+1)**sy.sin(sy.cos(x)),x)\n",
    "f = sy.lambdify(x, sy_f)\n",
    "\n",
    "points = 1e4\n",
    "values = list(range(int(points)+1))\n",
    "xlist = list(map(g, values))\n",
    "ylist = list(map(f, xlist))\n",
    "plt.plot(list(xlist), list(ylist))\n",
    "plt.show()"
   ]
  },
  {
   "cell_type": "code",
   "execution_count": 14,
   "metadata": {},
   "outputs": [],
   "source": [
    "def exact_deriv(f_in, x_in):\n",
    "    x = sy.symbols('x')\n",
    "    sy_f = sy.diff(f_in,x)\n",
    "    deriv = sy.lambdify(x, sy_f) \n",
    "    result = deriv(x_in)\n",
    "    \n",
    "    return result"
   ]
  },
  {
   "cell_type": "code",
   "execution_count": 15,
   "metadata": {},
   "outputs": [
    {
     "data": {
      "text/plain": [
       "0.8414709848078965"
      ]
     },
     "execution_count": 15,
     "metadata": {},
     "output_type": "execute_result"
    }
   ],
   "source": [
    "exact_deriv((sy.sin(x)+1)**sy.sin(sy.cos(x)),0)"
   ]
  },
  {
   "cell_type": "markdown",
   "metadata": {},
   "source": [
    "**PROBLEM 2**"
   ]
  },
  {
   "cell_type": "code",
   "execution_count": 17,
   "metadata": {},
   "outputs": [],
   "source": [
    "def forward_one(f_in, x_in, h):\n",
    "    x = sy.symbols('x')\n",
    "    f = sy.lambdify(x, f_in)\n",
    "    \n",
    "    quotients = (f(x_in+h)-f(x_in))/h\n",
    "    \n",
    "    return quotients\n",
    "\n",
    "def forward_two(f_in, x_in, h):\n",
    "    x = sy.symbols('x')\n",
    "    f = sy.lambdify(x, f_in)\n",
    "    \n",
    "    quotients = (-3*f(x_in)+4*f(x_in+h)-f(x_in+2*h))/(2*h)\n",
    "    \n",
    "    return quotients\n",
    "\n",
    "def backward_one(f_in, x_in, h):\n",
    "    x = sy.symbols('x')\n",
    "    f = sy.lambdify(x, f_in)\n",
    "    \n",
    "    quotients = (f(x_in)-f(x_in-h))/h\n",
    "    \n",
    "    return quotients\n",
    "\n",
    "def backward_two(f_in, x_in, h):\n",
    "    x = sy.symbols('x')\n",
    "    f = sy.lambdify(x, f_in)\n",
    "    \n",
    "    quotients = (3*f(x_in)-4*f(x_in-h)+f(x_in-2*h))/(2*h)\n",
    "    \n",
    "    return quotients\n",
    "\n",
    "def centered_two(f_in, x_in, h):\n",
    "    x = sy.symbols('x')\n",
    "    f = sy.lambdify(x, f_in)\n",
    "    \n",
    "    quotients = (f(x_in+h)-f(x_in-h))/(2*h)\n",
    "    \n",
    "    return quotients\n",
    "\n",
    "def centered_four(f_in, x_in, h):\n",
    "    x = sy.symbols('x')\n",
    "    f = sy.lambdify(x, f_in)\n",
    "    \n",
    "    quotients = (f(x_in-2*h)-8*f(x_in-h)+8*f(x_in+h)-f(x_in+2*h))/(12*h)\n",
    "    \n",
    "    return quotients"
   ]
  },
  {
   "cell_type": "code",
   "execution_count": 18,
   "metadata": {},
   "outputs": [
    {
     "data": {
      "image/png": "[encoded data removed]",
      "text/plain": [
       "<Figure size 432x288 with 1 Axes>"
      ]
     },
     "metadata": {
      "needs_background": "light"
     },
     "output_type": "display_data"
    }
   ],
   "source": [
    "a = np.arange(-m.pi, m.pi, 0.0001)\n",
    "b = forward_one((sy.sin(x)+1)**sy.sin(sy.cos(x)),a,1)\n",
    "c = forward_two((sy.sin(x)+1)**sy.sin(sy.cos(x)),a,1)\n",
    "d = backward_one((sy.sin(x)+1)**sy.sin(sy.cos(x)),a,1)\n",
    "e = backward_two((sy.sin(x)+1)**sy.sin(sy.cos(x)),a,1)\n",
    "f = centered_two((sy.sin(x)+1)**sy.sin(sy.cos(x)),a,1)\n",
    "g = centered_four((sy.sin(x)+1)**sy.sin(sy.cos(x)),a,1)\n",
    "plt.plot(list(a), list(b))\n",
    "plt.plot(list(a), list(c))\n",
    "plt.plot(list(a), list(d))\n",
    "plt.plot(list(a), list(e))\n",
    "plt.plot(list(a), list(f))\n",
    "plt.plot(list(a), list(g))\n",
    "plt.show()"
   ]
  },
  {
   "cell_type": "markdown",
   "metadata": {},
   "source": [
    "**PROBLEM 3**"
   ]
  },
  {
   "cell_type": "code",
   "execution_count": 10,
   "metadata": {},
   "outputs": [],
   "source": [
    "def my_function(f_in, x_in):\n",
    "    a = exact_deriv(f_in, x_in)\n",
    "    b_range = np.logspace(-8, 0, 9)\n",
    "    result = []\n",
    "    for h in b_range:\n",
    "        #print(h)\n",
    "        b = forward_one(f_in, x_in, h)\n",
    "        result.append(abs(a-b))\n",
    "    \n",
    "    return result\n",
    "\n",
    "def my_function2(f_in, x_in):\n",
    "    a = exact_deriv(f_in, x_in)\n",
    "    b_range = np.logspace(-8, 0, 9)\n",
    "    result2 = []\n",
    "    for h in b_range:\n",
    "        #print(h)\n",
    "        b = forward_two(f_in, x_in, h)\n",
    "        result2.append(abs(a-b))\n",
    "    \n",
    "    return result2\n",
    "\n",
    "def my_function3(f_in, x_in):\n",
    "    a = exact_deriv(f_in, x_in)\n",
    "    b_range = np.logspace(-8, 0, 9)\n",
    "    result3 = []\n",
    "    for h in b_range:\n",
    "        #print(h)\n",
    "        b = backward_one(f_in, x_in, h)\n",
    "        result3.append(abs(a-b))\n",
    "    \n",
    "    return result3\n",
    "\n",
    "def my_function4(f_in, x_in):\n",
    "    a = exact_deriv(f_in, x_in)\n",
    "    b_range = np.logspace(-8, 0, 9)\n",
    "    result4 = []\n",
    "    for h in b_range:\n",
    "        #print(h)\n",
    "        b = backward_two(f_in, x_in, h)\n",
    "        result4.append(abs(a-b))\n",
    "    \n",
    "    return result4\n",
    "\n",
    "def my_function5(f_in, x_in):\n",
    "    a = exact_deriv(f_in, x_in)\n",
    "    b_range = np.logspace(-8, 0, 9)\n",
    "    result5 = []\n",
    "    for h in b_range:\n",
    "        #print(h)\n",
    "        b = centered_two(f_in, x_in, h)\n",
    "        result5.append(abs(a-b))\n",
    "    \n",
    "    return result5\n",
    "\n",
    "def my_function6(f_in, x_in):\n",
    "    a = exact_deriv(f_in, x_in)\n",
    "    b_range = np.logspace(-8, 0, 9)\n",
    "    result6 = []\n",
    "    for h in b_range:\n",
    "        #print(h)\n",
    "        b = centered_four(f_in, x_in, h)\n",
    "        result6.append(abs(a-b))\n",
    "    \n",
    "    return result6"
   ]
  },
  {
   "cell_type": "code",
   "execution_count": 20,
   "metadata": {},
   "outputs": [
    {
     "data": {
      "image/png": "[encoded data removed]",
      "text/plain": [
       "<Figure size 432x288 with 1 Axes>"
      ]
     },
     "metadata": {
      "needs_background": "light"
     },
     "output_type": "display_data"
    }
   ],
   "source": [
    "b_range = np.logspace(-8, 0, 9)\n",
    "y_range = np.logspace(-14, 0, 15)\n",
    "output = my_function((sy.sin(x)+1)**sy.sin(sy.cos(x)), 1)\n",
    "output2 = my_function2((sy.sin(x)+1)**sy.sin(sy.cos(x)), 1)\n",
    "output3 = my_function3((sy.sin(x)+1)**sy.sin(sy.cos(x)), 1)\n",
    "output4 = my_function4((sy.sin(x)+1)**sy.sin(sy.cos(x)), 1)\n",
    "output5 = my_function5((sy.sin(x)+1)**sy.sin(sy.cos(x)), 1)\n",
    "output6 = my_function6((sy.sin(x)+1)**sy.sin(sy.cos(x)), 1)\n",
    "plt.plot(list(b_range), list(output))\n",
    "plt.plot(list(b_range), list(output2))\n",
    "plt.plot(list(b_range), list(output3))\n",
    "plt.plot(list(b_range), list(output4))\n",
    "plt.plot(list(b_range), list(output5))\n",
    "plt.plot(list(b_range), list(output6))\n",
    "plt.xscale('log')\n",
    "plt.xticks(b_range)\n",
    "plt.yscale('log')\n",
    "plt.yticks(y_range)\n",
    "plt.show()"
   ]
  },
  {
   "cell_type": "markdown",
   "metadata": {},
   "source": [
    "**PROBLEM 5**"
   ]
  },
  {
   "cell_type": "code",
   "execution_count": 58,
   "metadata": {},
   "outputs": [],
   "source": [
    "def my_func(f, x_in, h_in):   \n",
    "    dim_x = np.shape(x_in)[0]\n",
    "    dim_f = np.shape(f(x_in))[0]\n",
    "    \n",
    "    Jacob = np.zeros((dim_f,dim_x))\n",
    "    I = np.eye(dim_x) \n",
    "    \n",
    "    for i in range(dim_x):\n",
    "        e = I[:,i]   \n",
    "        Jacob[:,i] = (f(x_in + h_in*e) - f(x_in - h_in*e)) / (2*h_in)\n",
    "    \n",
    "    return Jacob"
   ]
  },
  {
   "cell_type": "code",
   "execution_count": 59,
   "metadata": {},
   "outputs": [],
   "source": [
    "f = lambda x: np.array([x[0] ** 2, x[0] ** 3 - x[1]])"
   ]
  },
  {
   "cell_type": "code",
   "execution_count": 61,
   "metadata": {},
   "outputs": [
    {
     "data": {
      "text/plain": [
       "array([[ 2.      ,  0.      ],\n",
       "       [ 3.000001, -1.      ]])"
      ]
     },
     "execution_count": 61,
     "metadata": {},
     "output_type": "execute_result"
    }
   ],
   "source": [
    "my_func(f, np.array([1, 1]), 1e-3)"
   ]
  },
  {
   "cell_type": "code",
   "execution_count": 66,
   "metadata": {},
   "outputs": [
    {
     "data": {
      "text/plain": [
       "Matrix([\n",
       "[2,  0],\n",
       "[3, -1]])"
      ]
     },
     "execution_count": 66,
     "metadata": {},
     "output_type": "execute_result"
    }
   ],
   "source": [
    "x, y = sy.symbols('x, y')\n",
    "f1 = x ** 2\n",
    "f2 = x ** 3 - y\n",
    "F = sy.Matrix([f1,f2])  \n",
    "F.jacobian([x,y]).subs([(x,1), (y,1)])"
   ]
  },
  {
   "cell_type": "markdown",
   "metadata": {},
   "source": [
    "**PROBLEM 6**"
   ]
  },
  {
   "cell_type": "code",
   "execution_count": null,
   "metadata": {},
   "outputs": [],
   "source": [
    "from autograd import elementwise_grad\n",
    "\n",
    "def tn(x, n):\n",
    "    if n == 0:\n",
    "        return np.ones_like(x)\n",
    "    elif n == 1:\n",
    "        return x\n",
    "    else:\n",
    "        val = 2 * x * tn(x, n - 1) - tn(x, n - 2)\n",
    "        return val\n",
    "\n",
    "n = 5\n",
    "\n",
    "plt.figure()\n",
    "\n",
    "xv = np.linspace(-1, 1, 50)\n",
    "\n",
    "for i in range(n):\n",
    "    f = lambda x: tn(x, i)\n",
    "    df = autograd.elementwise_grad(f)\n",
    "\n",
    "    plt.plot(xv, df(xv))\n",
    "\n",
    "plt.show()"
   ]
  }
 ],
 "metadata": {
  "kernelspec": {
   "display_name": "Python 3",
   "language": "python",
   "name": "python3"
  },
  "language_info": {
   "codemirror_mode": {
    "name": "ipython",
    "version": 3
   },
   "file_extension": ".py",
   "mimetype": "text/x-python",
   "name": "python",
   "nbconvert_exporter": "python",
   "pygments_lexer": "ipython3",
   "version": "3.7.1"
  }
 },
 "nbformat": 4,
 "nbformat_minor": 2
}
